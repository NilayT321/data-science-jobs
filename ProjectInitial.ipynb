{
 "cells": [
  {
   "cell_type": "markdown",
   "id": "3110df4b-497c-46ae-bbbd-509a07dc0fb2",
   "metadata": {},
   "source": [
    "# CS 210 -- Data Management For Data Science \n",
    "\n",
    "Final Project, Preliminary Analysis \n",
    "\n",
    "Group Members: Nilay Tripathi, Nikhil Munagala, Arnav Borborah, Ajay Anand"
   ]
  },
  {
   "cell_type": "code",
   "execution_count": 1,
   "id": "34e5cc1a-129a-4b9b-a8a3-cb9242f3257f",
   "metadata": {},
   "outputs": [],
   "source": [
    "from collections import Counter\n",
    "import numpy as np \n",
    "import pandas as pd \n",
    "import re\n",
    "import matplotlib.pyplot as plt "
   ]
  },
  {
   "cell_type": "markdown",
   "id": "da0344a1-801d-4b59-a56d-3aabbe5a3040",
   "metadata": {},
   "source": [
    "## Information About The Data Set"
   ]
  },
  {
   "cell_type": "markdown",
   "id": "31798cc3-98ac-40e5-9426-93c743a0d0eb",
   "metadata": {},
   "source": [
    "Our data set is \"Jobs And Salaries In Data Science\", which gives information about salaries in careers related to data science (e.g. data scientist, data architect, machine learning engineer, etc.). The data set was obtained from Kaggle and can be found [here](https://www.kaggle.com/datasets/hummaamqaasim/jobs-in-data). \n",
    "\n",
    "Here is a brief summary of the meanings of the columns\n",
    "\n",
    "- `work_year`: year the data was recorded.\n",
    "- `job_title`: the specific title of the job.\n",
    "- `job_category`: specialized category of the job (data science, analyst, machine learning etc.). More descriptive.\n",
    "- `salary_currency`: currency the salary is reported in\n",
    "- `salary`: annual salary, in the currency specified by the `salary_currency` column.\n",
    "- `salary_in_usd`: salary converted to USD\n",
    "- `employee_residence`: employee's country of residence\n",
    "- `experience_level`: employee's experience level (entry-level, mid-level, etc)\n",
    "- `employment_type`: full-time, part-time, contract work, etc.\n",
    "- `work_setting`: working environment (remote, in-person, hybrid, etc)\n",
    "- `company_location`: country of company\n",
    "- `company_size`: relative size of companies (S for Small, M for Medium, etc)\n",
    "\n",
    "Data science and its related fields play an extremely crucial role in today's society, where machine learning and artificial intelligence play increasingly important role. This data set includes data on time, allowing us to analyze trends in data science salary (and consequently, demand) over time. We can also use this data to learn how other information regarding experience, company size, and location impact salaries in data science and its related fields. Finally, there are tons of subfields within data science (like data analyst, data engineer, machine learning engineer, etc.) and as students who are interested in careers in data science, we would like to investigate how the subtle differences between these job titles impacts salary and future potential. "
   ]
  },
  {
   "cell_type": "markdown",
   "id": "373f646f-b38b-4695-a8da-b8ac7b13bdf5",
   "metadata": {},
   "source": [
    "## Preliminary Analysis Of Data"
   ]
  },
  {
   "cell_type": "markdown",
   "id": "d4d3197a-6094-4b5d-b44c-cc2b1a884dd9",
   "metadata": {},
   "source": [
    "In this section, we import the data and try to learn about its columns and the types of data which are being stored."
   ]
  },
  {
   "cell_type": "code",
   "execution_count": 2,
   "id": "71d95f09-cb00-4747-82fe-bb8a6ae59172",
   "metadata": {},
   "outputs": [],
   "source": [
    "dat = pd.read_csv(\"jobs_in_data.csv\")"
   ]
  },
  {
   "cell_type": "code",
   "execution_count": 3,
   "id": "65119cda-682b-4f63-95fa-448f9f92f134",
   "metadata": {},
   "outputs": [
    {
     "data": {
      "text/html": [
       "<div>\n",
       "<style scoped>\n",
       "    .dataframe tbody tr th:only-of-type {\n",
       "        vertical-align: middle;\n",
       "    }\n",
       "\n",
       "    .dataframe tbody tr th {\n",
       "        vertical-align: top;\n",
       "    }\n",
       "\n",
       "    .dataframe thead th {\n",
       "        text-align: right;\n",
       "    }\n",
       "</style>\n",
       "<table border=\"1\" class=\"dataframe\">\n",
       "  <thead>\n",
       "    <tr style=\"text-align: right;\">\n",
       "      <th></th>\n",
       "      <th>work_year</th>\n",
       "      <th>job_title</th>\n",
       "      <th>job_category</th>\n",
       "      <th>salary_currency</th>\n",
       "      <th>salary</th>\n",
       "      <th>salary_in_usd</th>\n",
       "      <th>employee_residence</th>\n",
       "      <th>experience_level</th>\n",
       "      <th>employment_type</th>\n",
       "      <th>work_setting</th>\n",
       "      <th>company_location</th>\n",
       "      <th>company_size</th>\n",
       "    </tr>\n",
       "  </thead>\n",
       "  <tbody>\n",
       "    <tr>\n",
       "      <th>0</th>\n",
       "      <td>2023</td>\n",
       "      <td>Data DevOps Engineer</td>\n",
       "      <td>Data Engineering</td>\n",
       "      <td>EUR</td>\n",
       "      <td>88000</td>\n",
       "      <td>95012</td>\n",
       "      <td>Germany</td>\n",
       "      <td>Mid-level</td>\n",
       "      <td>Full-time</td>\n",
       "      <td>Hybrid</td>\n",
       "      <td>Germany</td>\n",
       "      <td>L</td>\n",
       "    </tr>\n",
       "    <tr>\n",
       "      <th>1</th>\n",
       "      <td>2023</td>\n",
       "      <td>Data Architect</td>\n",
       "      <td>Data Architecture and Modeling</td>\n",
       "      <td>USD</td>\n",
       "      <td>186000</td>\n",
       "      <td>186000</td>\n",
       "      <td>United States</td>\n",
       "      <td>Senior</td>\n",
       "      <td>Full-time</td>\n",
       "      <td>In-person</td>\n",
       "      <td>United States</td>\n",
       "      <td>M</td>\n",
       "    </tr>\n",
       "    <tr>\n",
       "      <th>2</th>\n",
       "      <td>2023</td>\n",
       "      <td>Data Architect</td>\n",
       "      <td>Data Architecture and Modeling</td>\n",
       "      <td>USD</td>\n",
       "      <td>81800</td>\n",
       "      <td>81800</td>\n",
       "      <td>United States</td>\n",
       "      <td>Senior</td>\n",
       "      <td>Full-time</td>\n",
       "      <td>In-person</td>\n",
       "      <td>United States</td>\n",
       "      <td>M</td>\n",
       "    </tr>\n",
       "    <tr>\n",
       "      <th>3</th>\n",
       "      <td>2023</td>\n",
       "      <td>Data Scientist</td>\n",
       "      <td>Data Science and Research</td>\n",
       "      <td>USD</td>\n",
       "      <td>212000</td>\n",
       "      <td>212000</td>\n",
       "      <td>United States</td>\n",
       "      <td>Senior</td>\n",
       "      <td>Full-time</td>\n",
       "      <td>In-person</td>\n",
       "      <td>United States</td>\n",
       "      <td>M</td>\n",
       "    </tr>\n",
       "    <tr>\n",
       "      <th>4</th>\n",
       "      <td>2023</td>\n",
       "      <td>Data Scientist</td>\n",
       "      <td>Data Science and Research</td>\n",
       "      <td>USD</td>\n",
       "      <td>93300</td>\n",
       "      <td>93300</td>\n",
       "      <td>United States</td>\n",
       "      <td>Senior</td>\n",
       "      <td>Full-time</td>\n",
       "      <td>In-person</td>\n",
       "      <td>United States</td>\n",
       "      <td>M</td>\n",
       "    </tr>\n",
       "  </tbody>\n",
       "</table>\n",
       "</div>"
      ],
      "text/plain": [
       "   work_year             job_title                    job_category  \\\n",
       "0       2023  Data DevOps Engineer                Data Engineering   \n",
       "1       2023        Data Architect  Data Architecture and Modeling   \n",
       "2       2023        Data Architect  Data Architecture and Modeling   \n",
       "3       2023        Data Scientist       Data Science and Research   \n",
       "4       2023        Data Scientist       Data Science and Research   \n",
       "\n",
       "  salary_currency  salary  salary_in_usd employee_residence experience_level  \\\n",
       "0             EUR   88000          95012            Germany        Mid-level   \n",
       "1             USD  186000         186000      United States           Senior   \n",
       "2             USD   81800          81800      United States           Senior   \n",
       "3             USD  212000         212000      United States           Senior   \n",
       "4             USD   93300          93300      United States           Senior   \n",
       "\n",
       "  employment_type work_setting company_location company_size  \n",
       "0       Full-time       Hybrid          Germany            L  \n",
       "1       Full-time    In-person    United States            M  \n",
       "2       Full-time    In-person    United States            M  \n",
       "3       Full-time    In-person    United States            M  \n",
       "4       Full-time    In-person    United States            M  "
      ]
     },
     "execution_count": 3,
     "metadata": {},
     "output_type": "execute_result"
    }
   ],
   "source": [
    "# Peek at the data \n",
    "dat.head()"
   ]
  },
  {
   "cell_type": "markdown",
   "id": "766ba260-bf5c-4c79-9e00-bd18199424e8",
   "metadata": {},
   "source": [
    "We first gather some preliminary information about the data and the types involved. For this purpose, we use the pandas `info()` function."
   ]
  },
  {
   "cell_type": "code",
   "execution_count": 4,
   "id": "6dcb5982-49fe-4471-b144-a55c263c2c20",
   "metadata": {},
   "outputs": [
    {
     "name": "stdout",
     "output_type": "stream",
     "text": [
      "<class 'pandas.core.frame.DataFrame'>\n",
      "RangeIndex: 9355 entries, 0 to 9354\n",
      "Data columns (total 12 columns):\n",
      " #   Column              Non-Null Count  Dtype \n",
      "---  ------              --------------  ----- \n",
      " 0   work_year           9355 non-null   int64 \n",
      " 1   job_title           9355 non-null   object\n",
      " 2   job_category        9355 non-null   object\n",
      " 3   salary_currency     9355 non-null   object\n",
      " 4   salary              9355 non-null   int64 \n",
      " 5   salary_in_usd       9355 non-null   int64 \n",
      " 6   employee_residence  9355 non-null   object\n",
      " 7   experience_level    9355 non-null   object\n",
      " 8   employment_type     9355 non-null   object\n",
      " 9   work_setting        9355 non-null   object\n",
      " 10  company_location    9355 non-null   object\n",
      " 11  company_size        9355 non-null   object\n",
      "dtypes: int64(3), object(9)\n",
      "memory usage: 877.2+ KB\n"
     ]
    }
   ],
   "source": [
    "# Preliminary info \n",
    "dat.info()"
   ]
  },
  {
   "cell_type": "markdown",
   "id": "cb442892-1bdf-4aff-9253-8db417c5e0be",
   "metadata": {},
   "source": [
    "The first line indicates that there are 9,355 observations in the data frame. We see that the data records 12 features in the data. From the output below, we see that there are no NA values in our data set. When looking at data types, we see that only `work_year` and the variables recording salaries are numerical while everything else is a string type (denoted in pandas as type \"object\")."
   ]
  },
  {
   "cell_type": "markdown",
   "id": "7ac29e88-4d75-401d-955f-ff9825905f8a",
   "metadata": {},
   "source": [
    "Next, we would like to investigate preliminary descriptive statistics to learn about the data set and begin to formulate hypotheses about it. We will use the pandas `describe()` function to obtain the preliminary statistics. \n",
    "\n",
    "Note that we only report the `salary_in_usd` variable: the statistics for `work_year` are meaningless (since this variable records time) and the `salary` variable records values with different currencies, making it inconsistent for comparisons."
   ]
  },
  {
   "cell_type": "code",
   "execution_count": 5,
   "id": "e9aefdee-bb06-4f5f-ab29-f24ea2670581",
   "metadata": {},
   "outputs": [
    {
     "data": {
      "text/plain": [
       "count      9355.000000\n",
       "mean     150299.495564\n",
       "std       63177.372024\n",
       "min       15000.000000\n",
       "25%      105700.000000\n",
       "50%      143000.000000\n",
       "75%      186723.000000\n",
       "max      450000.000000\n",
       "Name: salary_in_usd, dtype: float64"
      ]
     },
     "execution_count": 5,
     "metadata": {},
     "output_type": "execute_result"
    }
   ],
   "source": [
    "# Preliminary statistics \n",
    "dat[\"salary_in_usd\"].describe()"
   ]
  },
  {
   "cell_type": "markdown",
   "id": "c079794f-68b0-47f4-b16f-76933700020f",
   "metadata": {},
   "source": [
    "### Preliminary Investigation Of Categorical Types"
   ]
  },
  {
   "cell_type": "markdown",
   "id": "63b882a0-84b1-4b67-b7c1-1778ddca5238",
   "metadata": {},
   "source": [
    "Several variables in our data set are strings (labeled as type \"object\" by pandas). We need to be able to extract relevant information about the job title and category given the large variety in strings of this type. "
   ]
  },
  {
   "cell_type": "code",
   "execution_count": 6,
   "id": "71331b00-c1d5-4c2a-83d3-d8bf8e540a42",
   "metadata": {},
   "outputs": [
    {
     "data": {
      "text/plain": [
       "125"
      ]
     },
     "execution_count": 6,
     "metadata": {},
     "output_type": "execute_result"
    }
   ],
   "source": [
    "# Number of unique jobtitles and categories\n",
    "dat[\"job_title\"].nunique()"
   ]
  },
  {
   "cell_type": "code",
   "execution_count": 7,
   "id": "590dec58-e57e-4331-867c-8e633797b8cf",
   "metadata": {},
   "outputs": [
    {
     "data": {
      "text/plain": [
       "10"
      ]
     },
     "execution_count": 7,
     "metadata": {},
     "output_type": "execute_result"
    }
   ],
   "source": [
    "dat[\"job_category\"].nunique()"
   ]
  },
  {
   "cell_type": "markdown",
   "id": "f54e91f4-a2d2-40c1-b23c-340ccff0e5e9",
   "metadata": {},
   "source": [
    "### Preliminary Plotting"
   ]
  },
  {
   "cell_type": "markdown",
   "id": "57ab8ae4-a3cb-4941-9c2e-7cb8baaaaa85",
   "metadata": {},
   "source": [
    "To quickly learn about the relationships among the numerical variable, we will make use of graphs. They can help us quickly assess the quality and behavior of our numerical variables. "
   ]
  },
  {
   "cell_type": "markdown",
   "id": "3587ea5a-cbcd-480d-ba78-aa4f36d70097",
   "metadata": {},
   "source": [
    "First, we want to analyze the distributions of the salary variable. We will restrict our attention to the `salary_in_usd` column, since the regular `salary` column records its values with inconsistent units. A box plot will show us the overall skewness of the data. "
   ]
  },
  {
   "cell_type": "markdown",
   "id": "e34e3bcb-046d-4e97-9882-a3ce4089f960",
   "metadata": {},
   "source": [
    "We first want to assess the overall distribution of the salary (recorded in USD). To do this, we generate a box plot and histogram of the `salary_in_usd` variable. "
   ]
  },
  {
   "cell_type": "code",
   "execution_count": 8,
   "id": "81c98c43-509b-4637-8456-561af54fe964",
   "metadata": {},
   "outputs": [
    {
     "data": {
      "text/plain": [
       "(array([ 507., 1631., 2719., 2195., 1356.,  588.,  242.,   77.,   34.,\n",
       "           6.]),\n",
       " array([ 15000.,  58500., 102000., 145500., 189000., 232500., 276000.,\n",
       "        319500., 363000., 406500., 450000.]),\n",
       " <BarContainer object of 10 artists>)"
      ]
     },
     "execution_count": 8,
     "metadata": {},
     "output_type": "execute_result"
    },
    {
     "data": {
      "image/png": "[encoded data removed]",
      "text/plain": [
       "<Figure size 864x288 with 2 Axes>"
      ]
     },
     "metadata": {
      "needs_background": "light"
     },
     "output_type": "display_data"
    }
   ],
   "source": [
    "# Use a subplot to show both figures side by side for easy comparison.\n",
    "sal_fig, x = plt.subplots(1,2, figsize = (12,4)) \n",
    "\n",
    "x[0].set_title(\"Box Plot of Salary (USD)\")\n",
    "x[0].set_xlabel(\"Salary (USD)\")\n",
    "x[0].boxplot(dat['salary_in_usd'], vert = False)\n",
    "\n",
    "x[1].set_title(\"Histogram of Salary (USD)\") \n",
    "x[1].set_xlabel(\"Salary (USD)\") \n",
    "x[1].set_ylabel(\"Count\")\n",
    "x[1].hist(dat['salary_in_usd'])"
   ]
  },
  {
   "cell_type": "markdown",
   "id": "66ea5235-1187-4064-b7fd-817be06299e8",
   "metadata": {},
   "source": [
    "The box plot indicates several potential outliers in the data (indicated by the circles on the right hand tail of the plot). This is also indicated on the histogram by the presence of a tail, indicating an overall right-skewed distribution. \n",
    "\n",
    "Both of these observations indicate that there are extreme values of salary on the higher end i.e. that there are a small subset of individuals who make substantially more than the median income for this field. Investigating this is an avenue for further investigation."
   ]
  },
  {
   "cell_type": "markdown",
   "id": "b5d45084-2888-45f8-9448-63e411ac5455",
   "metadata": {},
   "source": [
    "## Filtering Out Common Keywords"
   ]
  },
  {
   "cell_type": "markdown",
   "id": "595e33a4-0d2b-49a5-bb87-9c869db843e5",
   "metadata": {},
   "source": [
    "We would like to see how the job title impacts the salary in the outlier group, and compare it to the no outliers group. However, there are many unique job titles and it would be impractical to search through all of them. \n",
    "\n",
    "Instead, we search for specific \"buzz words\" in the job titles. We expect words like \"data\", \"machine learing\", \"AI\", and \"artifical intelligence\" to be in all the job titles. We suspect, however, that modifiers like \"engineer\", \"architect\", \"scientist\", \"developer\", etc. will have an impact on the salary. Thus, we simply filter common words out and leave only these \"buzz words\"."
   ]
  },
  {
   "cell_type": "code",
   "execution_count": 9,
   "id": "c83f93e5-a8f7-4135-bc7e-af4ffd74167d",
   "metadata": {},
   "outputs": [],
   "source": [
    "# Common words to filter out \n",
    "words_rem = [\"machine\", \"learning\", \"ml\", \"data\", \"ai\", \"artificial\",  \"intelligence\", \"analytics\", \"deep\", \"of\"]"
   ]
  },
  {
   "cell_type": "code",
   "execution_count": 10,
   "id": "841497ed-1d5e-4225-b0a9-210764df7649",
   "metadata": {},
   "outputs": [],
   "source": [
    "# Remove the words from the list case insensitive\n",
    "def remove_common_words (title):\n",
    "    words = ''\n",
    "    for word in title.split():\n",
    "        words = ','.join([i for i in title.split() if i.lower() not in words_rem])\n",
    "    return words"
   ]
  },
  {
   "cell_type": "code",
   "execution_count": 11,
   "id": "820dc5e6-0cf6-415e-8e53-93987ffdbe53",
   "metadata": {},
   "outputs": [],
   "source": [
    "dat[\"job_title_keywords\"] = dat[\"job_title\"].apply(remove_common_words)"
   ]
  },
  {
   "cell_type": "markdown",
   "id": "167e9608-7a10-4a59-bf19-8dca84aefc41",
   "metadata": {},
   "source": [
    "## Analysis Of Outliers"
   ]
  },
  {
   "cell_type": "markdown",
   "id": "6b261683-6d9b-4ecc-87a8-b5b8f14b5ce1",
   "metadata": {},
   "source": [
    "As indicated above, there are several outliers present in the data set. We would like to see what patterns lead to such a high salary. \n",
    "\n",
    "We will first gather all the outliers, which are computed using the 1.5*IQR rule. The interquartile range (IQR) is first computed as $$\\text{IQR} = \\text{upper quartile} - \\text{lower quartile}$$The cutoff for an outlier is then given as $$\\text{min} = \\text{upper quartile} + 1.5 \\times \\text{IQR}$$"
   ]
  },
  {
   "cell_type": "code",
   "execution_count": 12,
   "id": "d8d8418b-fdf4-4476-a40d-66db5752cb41",
   "metadata": {},
   "outputs": [],
   "source": [
    "# Use the 1.5 * IQR to get the outliers \n",
    "lower_quartile = np.quantile(dat[\"salary_in_usd\"], 0.25)\n",
    "upper_quartile = np.quantile(dat[\"salary_in_usd\"], 0.75) \n",
    "IQR = upper_quartile - lower_quartile"
   ]
  },
  {
   "cell_type": "code",
   "execution_count": 13,
   "id": "3be10281-6523-4156-91e4-5a5fd5a3265f",
   "metadata": {},
   "outputs": [],
   "source": [
    "# Lower cutoff for the outliers \n",
    "low = upper_quartile + 1.5 * IQR "
   ]
  },
  {
   "cell_type": "code",
   "execution_count": 14,
   "id": "02033aec-013e-4255-a149-bd913ccb004d",
   "metadata": {},
   "outputs": [],
   "source": [
    "# Get the outliers from the data set \n",
    "outliers = dat[dat[\"salary_in_usd\"] > low]\n",
    "wo_outliers = dat[dat[\"salary_in_usd\"] <= low]"
   ]
  },
  {
   "cell_type": "code",
   "execution_count": 31,
   "id": "501d29e5-59cf-48e0-80fb-caed25d2fb7e",
   "metadata": {},
   "outputs": [],
   "source": [
    "# Add a row in the table for whether the data point is an outlier or not\n",
    "dat[\"outlier\"] = dat[\"salary_in_usd\"] > low"
   ]
  },
  {
   "cell_type": "markdown",
   "id": "da775726-fb20-4e7b-865e-2cb9c817b96f",
   "metadata": {},
   "source": [
    "We will now gather some basic information on the outliers using the `describe()` function from pandas."
   ]
  },
  {
   "cell_type": "code",
   "execution_count": 15,
   "id": "6c0f1c9e-1006-4b83-b940-d19b97023d1d",
   "metadata": {},
   "outputs": [
    {
     "data": {
      "text/plain": [
       "count       158.000000\n",
       "mean     341917.436709\n",
       "std       30203.875365\n",
       "min      309000.000000\n",
       "25%      318475.000000\n",
       "50%      331640.000000\n",
       "75%      364222.500000\n",
       "max      450000.000000\n",
       "Name: salary_in_usd, dtype: float64"
      ]
     },
     "execution_count": 15,
     "metadata": {},
     "output_type": "execute_result"
    }
   ],
   "source": [
    "outliers[\"salary_in_usd\"].describe()"
   ]
  },
  {
   "cell_type": "code",
   "execution_count": 16,
   "id": "5e991eff-3448-4216-a80e-d332dd276bd8",
   "metadata": {},
   "outputs": [
    {
     "data": {
      "text/plain": [
       "count      9197.000000\n",
       "mean     147007.592258\n",
       "std       58332.569893\n",
       "min       15000.000000\n",
       "25%      105000.000000\n",
       "50%      142200.000000\n",
       "75%      185000.000000\n",
       "max      308000.000000\n",
       "Name: salary_in_usd, dtype: float64"
      ]
     },
     "execution_count": 16,
     "metadata": {},
     "output_type": "execute_result"
    }
   ],
   "source": [
    "wo_outliers[\"salary_in_usd\"].describe()"
   ]
  },
  {
   "cell_type": "markdown",
   "id": "6f32abc6-07ec-4023-8ff4-20f157b011e1",
   "metadata": {},
   "source": [
    "### A Brief Lexical Comparison Between The Two Sets"
   ]
  },
  {
   "cell_type": "markdown",
   "id": "5dcd6c17-429b-4476-bb92-94cc968cc90f",
   "metadata": {},
   "source": [
    "As stated above, we would like to see if we can observe common trends among salary from the job title alone. We conduct a lexical comparison, where we try to isolate specific keywords in the job title and see if there are patterns that explain the high salaries in the outlier set."
   ]
  },
  {
   "cell_type": "code",
   "execution_count": 17,
   "id": "ff4039c4-5e62-459d-b3eb-294dfb8c61e2",
   "metadata": {},
   "outputs": [],
   "source": [
    "# We now want to count the number of each word in the outlier set and the no outlier set. \n",
    "outlier_words = {} \n",
    "no_outlier_words = {}"
   ]
  },
  {
   "cell_type": "code",
   "execution_count": 18,
   "id": "8130e555-6146-4a95-b302-2898112747bf",
   "metadata": {},
   "outputs": [],
   "source": [
    "for words in outliers[\"job_title_keywords\"]:\n",
    "    word_list = words.split(',')\n",
    "    for word in word_list:\n",
    "        if word not in outlier_words:\n",
    "            outlier_words[word] = 1 \n",
    "        else:\n",
    "            outlier_words[word] += 1\n",
    "            \n",
    "for words in wo_outliers[\"job_title_keywords\"]:\n",
    "    word_list = words.split(',')\n",
    "    for word in word_list:\n",
    "        if word not in no_outlier_words:\n",
    "            no_outlier_words[word] = 1 \n",
    "        else:\n",
    "            no_outlier_words[word] += 1"
   ]
  },
  {
   "cell_type": "markdown",
   "id": "128b937b-0c7f-4708-9883-b08c38f403fd",
   "metadata": {},
   "source": [
    "We now use the counts in the dictionary to create a data frame in which we compare the counts of each word in the outlier dictionaries. "
   ]
  },
  {
   "cell_type": "code",
   "execution_count": 19,
   "id": "e76f7c58-2b95-420b-a9e3-a5c836e96104",
   "metadata": {},
   "outputs": [
    {
     "data": {
      "text/html": [
       "<div>\n",
       "<style scoped>\n",
       "    .dataframe tbody tr th:only-of-type {\n",
       "        vertical-align: middle;\n",
       "    }\n",
       "\n",
       "    .dataframe tbody tr th {\n",
       "        vertical-align: top;\n",
       "    }\n",
       "\n",
       "    .dataframe thead th {\n",
       "        text-align: right;\n",
       "    }\n",
       "</style>\n",
       "<table border=\"1\" class=\"dataframe\">\n",
       "  <thead>\n",
       "    <tr style=\"text-align: right;\">\n",
       "      <th></th>\n",
       "      <th>word_count_outlier</th>\n",
       "      <th>word</th>\n",
       "    </tr>\n",
       "  </thead>\n",
       "  <tbody>\n",
       "    <tr>\n",
       "      <th>Engineer</th>\n",
       "      <td>78</td>\n",
       "      <td>Engineer</td>\n",
       "    </tr>\n",
       "    <tr>\n",
       "      <th>Research</th>\n",
       "      <td>17</td>\n",
       "      <td>Research</td>\n",
       "    </tr>\n",
       "    <tr>\n",
       "      <th>Scientist</th>\n",
       "      <td>51</td>\n",
       "      <td>Scientist</td>\n",
       "    </tr>\n",
       "    <tr>\n",
       "      <th>Architect</th>\n",
       "      <td>8</td>\n",
       "      <td>Architect</td>\n",
       "    </tr>\n",
       "    <tr>\n",
       "      <th>Director</th>\n",
       "      <td>5</td>\n",
       "      <td>Director</td>\n",
       "    </tr>\n",
       "  </tbody>\n",
       "</table>\n",
       "</div>"
      ],
      "text/plain": [
       "           word_count_outlier       word\n",
       "Engineer                   78   Engineer\n",
       "Research                   17   Research\n",
       "Scientist                  51  Scientist\n",
       "Architect                   8  Architect\n",
       "Director                    5   Director"
      ]
     },
     "execution_count": 19,
     "metadata": {},
     "output_type": "execute_result"
    }
   ],
   "source": [
    "word_counts_outliers = pd.DataFrame.from_dict(outlier_words, orient=\"index\", columns=[\"word_count_outlier\"]) \n",
    "word_counts_outliers[\"word\"] = word_counts_outliers.index\n",
    "word_counts_outliers.head()"
   ]
  },
  {
   "cell_type": "code",
   "execution_count": 20,
   "id": "d7d7907f-bce7-45dd-9ccb-97db45da75a0",
   "metadata": {},
   "outputs": [
    {
     "data": {
      "text/html": [
       "<div>\n",
       "<style scoped>\n",
       "    .dataframe tbody tr th:only-of-type {\n",
       "        vertical-align: middle;\n",
       "    }\n",
       "\n",
       "    .dataframe tbody tr th {\n",
       "        vertical-align: top;\n",
       "    }\n",
       "\n",
       "    .dataframe thead th {\n",
       "        text-align: right;\n",
       "    }\n",
       "</style>\n",
       "<table border=\"1\" class=\"dataframe\">\n",
       "  <thead>\n",
       "    <tr style=\"text-align: right;\">\n",
       "      <th></th>\n",
       "      <th>word_count_no_outlier</th>\n",
       "      <th>word</th>\n",
       "    </tr>\n",
       "  </thead>\n",
       "  <tbody>\n",
       "    <tr>\n",
       "      <th>DevOps</th>\n",
       "      <td>2</td>\n",
       "      <td>DevOps</td>\n",
       "    </tr>\n",
       "    <tr>\n",
       "      <th>Engineer</th>\n",
       "      <td>4012</td>\n",
       "      <td>Engineer</td>\n",
       "    </tr>\n",
       "    <tr>\n",
       "      <th>Architect</th>\n",
       "      <td>221</td>\n",
       "      <td>Architect</td>\n",
       "    </tr>\n",
       "    <tr>\n",
       "      <th>Scientist</th>\n",
       "      <td>2656</td>\n",
       "      <td>Scientist</td>\n",
       "    </tr>\n",
       "    <tr>\n",
       "      <th>Researcher</th>\n",
       "      <td>18</td>\n",
       "      <td>Researcher</td>\n",
       "    </tr>\n",
       "  </tbody>\n",
       "</table>\n",
       "</div>"
      ],
      "text/plain": [
       "            word_count_no_outlier        word\n",
       "DevOps                          2      DevOps\n",
       "Engineer                     4012    Engineer\n",
       "Architect                     221   Architect\n",
       "Scientist                    2656   Scientist\n",
       "Researcher                     18  Researcher"
      ]
     },
     "execution_count": 20,
     "metadata": {},
     "output_type": "execute_result"
    }
   ],
   "source": [
    "word_counts_no_outliers = pd.DataFrame.from_dict(no_outlier_words, orient=\"index\", columns=[\"word_count_no_outlier\"]) \n",
    "word_counts_no_outliers[\"word\"] = word_counts_no_outliers.index\n",
    "word_counts_no_outliers.head()"
   ]
  },
  {
   "cell_type": "markdown",
   "id": "37516c70-10da-45bb-93b8-48d3015a266e",
   "metadata": {},
   "source": [
    "We now join the two word count data frames into one so we can easily compare them."
   ]
  },
  {
   "cell_type": "code",
   "execution_count": 21,
   "id": "d5ab4300-9ba6-42c7-b578-cb0a19fbf95c",
   "metadata": {},
   "outputs": [
    {
     "data": {
      "text/html": [
       "<div>\n",
       "<style scoped>\n",
       "    .dataframe tbody tr th:only-of-type {\n",
       "        vertical-align: middle;\n",
       "    }\n",
       "\n",
       "    .dataframe tbody tr th {\n",
       "        vertical-align: top;\n",
       "    }\n",
       "\n",
       "    .dataframe thead th {\n",
       "        text-align: right;\n",
       "    }\n",
       "</style>\n",
       "<table border=\"1\" class=\"dataframe\">\n",
       "  <thead>\n",
       "    <tr style=\"text-align: right;\">\n",
       "      <th></th>\n",
       "      <th>no_outlier_count</th>\n",
       "      <th>word</th>\n",
       "      <th>outlier_count</th>\n",
       "    </tr>\n",
       "  </thead>\n",
       "  <tbody>\n",
       "    <tr>\n",
       "      <th>DevOps</th>\n",
       "      <td>2.0</td>\n",
       "      <td>DevOps</td>\n",
       "      <td>0.0</td>\n",
       "    </tr>\n",
       "    <tr>\n",
       "      <th>Engineer</th>\n",
       "      <td>4012.0</td>\n",
       "      <td>Engineer</td>\n",
       "      <td>78.0</td>\n",
       "    </tr>\n",
       "    <tr>\n",
       "      <th>Architect</th>\n",
       "      <td>221.0</td>\n",
       "      <td>Architect</td>\n",
       "      <td>8.0</td>\n",
       "    </tr>\n",
       "    <tr>\n",
       "      <th>Scientist</th>\n",
       "      <td>2656.0</td>\n",
       "      <td>Scientist</td>\n",
       "      <td>51.0</td>\n",
       "    </tr>\n",
       "    <tr>\n",
       "      <th>Researcher</th>\n",
       "      <td>18.0</td>\n",
       "      <td>Researcher</td>\n",
       "      <td>0.0</td>\n",
       "    </tr>\n",
       "  </tbody>\n",
       "</table>\n",
       "</div>"
      ],
      "text/plain": [
       "            no_outlier_count        word  outlier_count\n",
       "DevOps                   2.0      DevOps            0.0\n",
       "Engineer              4012.0    Engineer           78.0\n",
       "Architect              221.0   Architect            8.0\n",
       "Scientist             2656.0   Scientist           51.0\n",
       "Researcher              18.0  Researcher            0.0"
      ]
     },
     "execution_count": 21,
     "metadata": {},
     "output_type": "execute_result"
    }
   ],
   "source": [
    "# Join the two data frames together using the word variable\n",
    "word_counts = pd.concat([word_counts_no_outliers, word_counts_outliers], axis = 1, join = \"outer\", ignore_index=True)\n",
    "\n",
    "# Drop the last column\n",
    "word_counts = word_counts.drop([3], axis = 1) \n",
    "\n",
    "# Rename columns \n",
    "word_counts = word_counts.rename(columns = {0 : \"no_outlier_count\", 1 : \"word\", 2 : \"outlier_count\"})\n",
    "\n",
    "# Fill NAs with 0 to indicate no presence \n",
    "word_counts = word_counts.fillna(0) \n",
    "word_counts.head()"
   ]
  },
  {
   "cell_type": "markdown",
   "id": "372431a7-c9b0-4f4b-970f-2064cd4ca42a",
   "metadata": {},
   "source": [
    "We notice that there are sufficiently more non-outliers than outliers, so we cannot simply do a comparison by numbers. It is more accurate to compare proportions. We compute the proportion of titles which contain each word."
   ]
  },
  {
   "cell_type": "code",
   "execution_count": 22,
   "id": "d8871283-8bd2-45b7-92a2-49af49385f70",
   "metadata": {},
   "outputs": [
    {
     "data": {
      "text/html": [
       "<div>\n",
       "<style scoped>\n",
       "    .dataframe tbody tr th:only-of-type {\n",
       "        vertical-align: middle;\n",
       "    }\n",
       "\n",
       "    .dataframe tbody tr th {\n",
       "        vertical-align: top;\n",
       "    }\n",
       "\n",
       "    .dataframe thead th {\n",
       "        text-align: right;\n",
       "    }\n",
       "</style>\n",
       "<table border=\"1\" class=\"dataframe\">\n",
       "  <thead>\n",
       "    <tr style=\"text-align: right;\">\n",
       "      <th></th>\n",
       "      <th>no_outlier_count</th>\n",
       "      <th>word</th>\n",
       "      <th>outlier_count</th>\n",
       "      <th>outlier_prop</th>\n",
       "      <th>no_outlier_prop</th>\n",
       "      <th>prop_diff</th>\n",
       "    </tr>\n",
       "  </thead>\n",
       "  <tbody>\n",
       "    <tr>\n",
       "      <th>DevOps</th>\n",
       "      <td>2.0</td>\n",
       "      <td>DevOps</td>\n",
       "      <td>0.0</td>\n",
       "      <td>0.000000</td>\n",
       "      <td>0.000217</td>\n",
       "      <td>-0.000217</td>\n",
       "    </tr>\n",
       "    <tr>\n",
       "      <th>Engineer</th>\n",
       "      <td>4012.0</td>\n",
       "      <td>Engineer</td>\n",
       "      <td>78.0</td>\n",
       "      <td>0.493671</td>\n",
       "      <td>0.436229</td>\n",
       "      <td>0.057442</td>\n",
       "    </tr>\n",
       "    <tr>\n",
       "      <th>Architect</th>\n",
       "      <td>221.0</td>\n",
       "      <td>Architect</td>\n",
       "      <td>8.0</td>\n",
       "      <td>0.050633</td>\n",
       "      <td>0.024030</td>\n",
       "      <td>0.026603</td>\n",
       "    </tr>\n",
       "    <tr>\n",
       "      <th>Scientist</th>\n",
       "      <td>2656.0</td>\n",
       "      <td>Scientist</td>\n",
       "      <td>51.0</td>\n",
       "      <td>0.322785</td>\n",
       "      <td>0.288790</td>\n",
       "      <td>0.033995</td>\n",
       "    </tr>\n",
       "    <tr>\n",
       "      <th>Researcher</th>\n",
       "      <td>18.0</td>\n",
       "      <td>Researcher</td>\n",
       "      <td>0.0</td>\n",
       "      <td>0.000000</td>\n",
       "      <td>0.001957</td>\n",
       "      <td>-0.001957</td>\n",
       "    </tr>\n",
       "  </tbody>\n",
       "</table>\n",
       "</div>"
      ],
      "text/plain": [
       "            no_outlier_count        word  outlier_count  outlier_prop  \\\n",
       "DevOps                   2.0      DevOps            0.0      0.000000   \n",
       "Engineer              4012.0    Engineer           78.0      0.493671   \n",
       "Architect              221.0   Architect            8.0      0.050633   \n",
       "Scientist             2656.0   Scientist           51.0      0.322785   \n",
       "Researcher              18.0  Researcher            0.0      0.000000   \n",
       "\n",
       "            no_outlier_prop  prop_diff  \n",
       "DevOps             0.000217  -0.000217  \n",
       "Engineer           0.436229   0.057442  \n",
       "Architect          0.024030   0.026603  \n",
       "Scientist          0.288790   0.033995  \n",
       "Researcher         0.001957  -0.001957  "
      ]
     },
     "execution_count": 22,
     "metadata": {},
     "output_type": "execute_result"
    }
   ],
   "source": [
    "word_counts[\"outlier_prop\"] = word_counts[\"outlier_count\"]/(outliers.shape[0])\n",
    "word_counts[\"no_outlier_prop\"] = word_counts[\"no_outlier_count\"]/(wo_outliers.shape[0])\n",
    "word_counts[\"prop_diff\"] = word_counts[\"outlier_prop\"] - word_counts[\"no_outlier_prop\"]\n",
    "word_counts.head()"
   ]
  },
  {
   "cell_type": "markdown",
   "id": "046bbb71-eb98-4013-9aa0-2809495fb3d7",
   "metadata": {},
   "source": [
    "In the code above, we calculate the difference in the proportion between the proportion in the outlier set and no outlier sets, with negative values indicating a larger percentage in the no outlier set. If we sort the data frame by the difference in proportion, we can see the words which have the most drastic difference among the outliers and no outlier set."
   ]
  },
  {
   "cell_type": "code",
   "execution_count": 23,
   "id": "cf6572ce-54d5-4879-809b-2e03a57ed403",
   "metadata": {},
   "outputs": [
    {
     "data": {
      "text/html": [
       "<div>\n",
       "<style scoped>\n",
       "    .dataframe tbody tr th:only-of-type {\n",
       "        vertical-align: middle;\n",
       "    }\n",
       "\n",
       "    .dataframe tbody tr th {\n",
       "        vertical-align: top;\n",
       "    }\n",
       "\n",
       "    .dataframe thead th {\n",
       "        text-align: right;\n",
       "    }\n",
       "</style>\n",
       "<table border=\"1\" class=\"dataframe\">\n",
       "  <thead>\n",
       "    <tr style=\"text-align: right;\">\n",
       "      <th></th>\n",
       "      <th>no_outlier_count</th>\n",
       "      <th>word</th>\n",
       "      <th>outlier_count</th>\n",
       "      <th>outlier_prop</th>\n",
       "      <th>no_outlier_prop</th>\n",
       "      <th>prop_diff</th>\n",
       "    </tr>\n",
       "  </thead>\n",
       "  <tbody>\n",
       "    <tr>\n",
       "      <th>Analyst</th>\n",
       "      <td>1609.0</td>\n",
       "      <td>Analyst</td>\n",
       "      <td>4.0</td>\n",
       "      <td>0.025316</td>\n",
       "      <td>0.174948</td>\n",
       "      <td>-0.149632</td>\n",
       "    </tr>\n",
       "    <tr>\n",
       "      <th>Research</th>\n",
       "      <td>443.0</td>\n",
       "      <td>Research</td>\n",
       "      <td>17.0</td>\n",
       "      <td>0.107595</td>\n",
       "      <td>0.048168</td>\n",
       "      <td>0.059427</td>\n",
       "    </tr>\n",
       "    <tr>\n",
       "      <th>Engineer</th>\n",
       "      <td>4012.0</td>\n",
       "      <td>Engineer</td>\n",
       "      <td>78.0</td>\n",
       "      <td>0.493671</td>\n",
       "      <td>0.436229</td>\n",
       "      <td>0.057442</td>\n",
       "    </tr>\n",
       "    <tr>\n",
       "      <th>Head</th>\n",
       "      <td>39.0</td>\n",
       "      <td>Head</td>\n",
       "      <td>7.0</td>\n",
       "      <td>0.044304</td>\n",
       "      <td>0.004241</td>\n",
       "      <td>0.040063</td>\n",
       "    </tr>\n",
       "    <tr>\n",
       "      <th>Scientist</th>\n",
       "      <td>2656.0</td>\n",
       "      <td>Scientist</td>\n",
       "      <td>51.0</td>\n",
       "      <td>0.322785</td>\n",
       "      <td>0.288790</td>\n",
       "      <td>0.033995</td>\n",
       "    </tr>\n",
       "    <tr>\n",
       "      <th>Science</th>\n",
       "      <td>213.0</td>\n",
       "      <td>Science</td>\n",
       "      <td>9.0</td>\n",
       "      <td>0.056962</td>\n",
       "      <td>0.023160</td>\n",
       "      <td>0.033802</td>\n",
       "    </tr>\n",
       "    <tr>\n",
       "      <th>Applied</th>\n",
       "      <td>288.0</td>\n",
       "      <td>Applied</td>\n",
       "      <td>10.0</td>\n",
       "      <td>0.063291</td>\n",
       "      <td>0.031315</td>\n",
       "      <td>0.031977</td>\n",
       "    </tr>\n",
       "    <tr>\n",
       "      <th>Director</th>\n",
       "      <td>29.0</td>\n",
       "      <td>Director</td>\n",
       "      <td>5.0</td>\n",
       "      <td>0.031646</td>\n",
       "      <td>0.003153</td>\n",
       "      <td>0.028492</td>\n",
       "    </tr>\n",
       "    <tr>\n",
       "      <th>Architect</th>\n",
       "      <td>221.0</td>\n",
       "      <td>Architect</td>\n",
       "      <td>8.0</td>\n",
       "      <td>0.050633</td>\n",
       "      <td>0.024030</td>\n",
       "      <td>0.026603</td>\n",
       "    </tr>\n",
       "    <tr>\n",
       "      <th>Business</th>\n",
       "      <td>241.0</td>\n",
       "      <td>Business</td>\n",
       "      <td>0.0</td>\n",
       "      <td>0.000000</td>\n",
       "      <td>0.026204</td>\n",
       "      <td>-0.026204</td>\n",
       "    </tr>\n",
       "  </tbody>\n",
       "</table>\n",
       "</div>"
      ],
      "text/plain": [
       "           no_outlier_count       word  outlier_count  outlier_prop  \\\n",
       "Analyst              1609.0    Analyst            4.0      0.025316   \n",
       "Research              443.0   Research           17.0      0.107595   \n",
       "Engineer             4012.0   Engineer           78.0      0.493671   \n",
       "Head                   39.0       Head            7.0      0.044304   \n",
       "Scientist            2656.0  Scientist           51.0      0.322785   \n",
       "Science               213.0    Science            9.0      0.056962   \n",
       "Applied               288.0    Applied           10.0      0.063291   \n",
       "Director               29.0   Director            5.0      0.031646   \n",
       "Architect             221.0  Architect            8.0      0.050633   \n",
       "Business              241.0   Business            0.0      0.000000   \n",
       "\n",
       "           no_outlier_prop  prop_diff  \n",
       "Analyst           0.174948  -0.149632  \n",
       "Research          0.048168   0.059427  \n",
       "Engineer          0.436229   0.057442  \n",
       "Head              0.004241   0.040063  \n",
       "Scientist         0.288790   0.033995  \n",
       "Science           0.023160   0.033802  \n",
       "Applied           0.031315   0.031977  \n",
       "Director          0.003153   0.028492  \n",
       "Architect         0.024030   0.026603  \n",
       "Business          0.026204  -0.026204  "
      ]
     },
     "execution_count": 23,
     "metadata": {},
     "output_type": "execute_result"
    }
   ],
   "source": [
    "top_words = word_counts.sort_values(by = ['prop_diff'], key = abs, ascending=False).head(10)\n",
    "top_words"
   ]
  },
  {
   "cell_type": "markdown",
   "id": "4f04c64e-27f1-444c-9eed-866f2888e76b",
   "metadata": {},
   "source": [
    "Recall that negative values correspond to a larger proportion in the no outlier set. From the table above, we see that the word \"analyst\" is more prevalent among job titles in the no outlier set than the outlier set, implying that jobs with \"analyst\" in the title are likely more entry-level positions. \n",
    "\n",
    "On the contrary, we see that words like \"research\", \"engineer\", and \"head\" are more prevalent among the outlier salaries and thus lead to larger salaries. This matches our prediction, since these are more specalized roles that require more experience and would cosnequently yield a higher salary. The word \"head\" also denotes a more senior position, which would indicate more pay. \n",
    "\n",
    "Interestingly, this analysis does not reveal any large difference between roles with specific certification requirelemts (i.e. like AWS positions). We thought that these extra qualifications would cause a higher salary, but this is not supported by the data. A possible reason could be the relatively few job titles with these roles, meaning there might not be enough data to reach an accurate conclusion on this aspect."
   ]
  },
  {
   "cell_type": "markdown",
   "id": "06c412fe-d8b8-4118-98e8-1eb4b56676c3",
   "metadata": {},
   "source": [
    "Here, we assess the trends in experience level on salary."
   ]
  },
  {
   "cell_type": "code",
   "execution_count": 24,
   "id": "d0cd9497-ad72-49f5-9885-26d915cc8cf5",
   "metadata": {},
   "outputs": [
    {
     "name": "stdout",
     "output_type": "stream",
     "text": [
      "Unique experience levels in the no outlier set: ['Mid-level' 'Senior' 'Executive' 'Entry-level']\n",
      "Unique experience levels in the outlier set: ['Senior' 'Mid-level' 'Executive']\n"
     ]
    }
   ],
   "source": [
    "# First, assess the experience level of the position. \n",
    "print(\"Unique experience levels in the no outlier set:\", wo_outliers[\"experience_level\"].unique())\n",
    "print(\"Unique experience levels in the outlier set:\", outliers[\"experience_level\"].unique())"
   ]
  }
 ],
 "metadata": {
  "kernelspec": {
   "display_name": "Python 3 (ipykernel)",
   "language": "python",
   "name": "python3"
  },
  "language_info": {
   "codemirror_mode": {
    "name": "ipython",
    "version": 3
   },
   "file_extension": ".py",
   "mimetype": "text/x-python",
   "name": "python",
   "nbconvert_exporter": "python",
   "pygments_lexer": "ipython3",
   "version": "3.10.2"
  }
 },
 "nbformat": 4,
 "nbformat_minor": 5
}
