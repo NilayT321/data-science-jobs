{
 "cells": [
  {
   "cell_type": "markdown",
   "id": "3110df4b-497c-46ae-bbbd-509a07dc0fb2",
   "metadata": {},
   "source": [
    "# CS 210 -- Data Management For Data Science \n",
    "\n",
    "Final Project, Preliminary Analysis \n",
    "\n",
    "Group Members: Nilay Tripathi, Nikhil Munagala, Arnav Borborah, Ajay Anand"
   ]
  },
  {
   "cell_type": "code",
   "execution_count": 4,
   "id": "34e5cc1a-129a-4b9b-a8a3-cb9242f3257f",
   "metadata": {},
   "outputs": [],
   "source": [
    "import numpy as np \n",
    "import pandas as pd \n",
    "import matplotlib.pyplot as plt "
   ]
  },
  {
   "cell_type": "markdown",
   "id": "da0344a1-801d-4b59-a56d-3aabbe5a3040",
   "metadata": {},
   "source": [
    "## Information About The Data Set"
   ]
  },
  {
   "cell_type": "markdown",
   "id": "31798cc3-98ac-40e5-9426-93c743a0d0eb",
   "metadata": {},
   "source": [
    "Our data set is \"Jobs And Salaries In Data Science\", which gives information about salaries in careers related to data science (e.g. data scientist, data architect, machine learning engineer, etc.). The data set was obtained from Kaggle and can be found [here](https://www.kaggle.com/datasets/hummaamqaasim/jobs-in-data). \n",
    "\n",
    "Here is a brief summary of the meanings of the columns\n",
    "\n",
    "- `work_year`: year the data was recorded.\n",
    "- `job_title`: the specific title of the job.\n",
    "- `job_category`: specialized category of the job (data science, analyst, machine learning etc.). More descriptive.\n",
    "- `salary_currency`: currency the salary is reported in\n",
    "- `salary`: annual salary, in the currency specified by the `salary_currency` column.\n",
    "- `salary_in_usd`: salary converted to USD\n",
    "- `employee_residence`: employee's country of residence\n",
    "- `experience_level`: employee's experience level (entry-level, mid-level, etc)\n",
    "- `employment_type`: full-time, part-time, contract work, etc.\n",
    "- `work_setting`: working environment (remote, in-person, hybrid, etc)\n",
    "- `company_location`: country of company\n",
    "- `company_size`: relative size of companies (S for Small, M for Medium, etc)\n",
    "\n",
    "Data science and its related fields play an extremely crucial role in today's society, where machine learning and artificial intelligence play increasingly important role. This data set includes data on time, allowing us to analyze trends in data science salary (and consequently, demand) over time. We can also use this data to learn how other information regarding experience, company size, and location impact salaries in data science and its related fields. Finally, there are tons of subfields within data science (like data analyst, data engineer, machine learning engineer, etc.) and as students who are interested in careers in data science, we would like to investigate how the subtle differences between these job titles impacts salary and future potential. "
   ]
  },
  {
   "cell_type": "markdown",
   "id": "373f646f-b38b-4695-a8da-b8ac7b13bdf5",
   "metadata": {},
   "source": [
    "## Preliminary Analysis Of Data"
   ]
  },
  {
   "cell_type": "markdown",
   "id": "d4d3197a-6094-4b5d-b44c-cc2b1a884dd9",
   "metadata": {},
   "source": [
    "In this section, we import the data and try to learn about its columns and the types of data which are being stored."
   ]
  },
  {
   "cell_type": "code",
   "execution_count": 5,
   "id": "71d95f09-cb00-4747-82fe-bb8a6ae59172",
   "metadata": {},
   "outputs": [],
   "source": [
    "dat = pd.read_csv(\"jobs_in_data.csv\")"
   ]
  },
  {
   "cell_type": "code",
   "execution_count": 6,
   "id": "65119cda-682b-4f63-95fa-448f9f92f134",
   "metadata": {},
   "outputs": [
    {
     "data": {
      "text/html": [
       "<div>\n",
       "<style scoped>\n",
       "    .dataframe tbody tr th:only-of-type {\n",
       "        vertical-align: middle;\n",
       "    }\n",
       "\n",
       "    .dataframe tbody tr th {\n",
       "        vertical-align: top;\n",
       "    }\n",
       "\n",
       "    .dataframe thead th {\n",
       "        text-align: right;\n",
       "    }\n",
       "</style>\n",
       "<table border=\"1\" class=\"dataframe\">\n",
       "  <thead>\n",
       "    <tr style=\"text-align: right;\">\n",
       "      <th></th>\n",
       "      <th>work_year</th>\n",
       "      <th>job_title</th>\n",
       "      <th>job_category</th>\n",
       "      <th>salary_currency</th>\n",
       "      <th>salary</th>\n",
       "      <th>salary_in_usd</th>\n",
       "      <th>employee_residence</th>\n",
       "      <th>experience_level</th>\n",
       "      <th>employment_type</th>\n",
       "      <th>work_setting</th>\n",
       "      <th>company_location</th>\n",
       "      <th>company_size</th>\n",
       "    </tr>\n",
       "  </thead>\n",
       "  <tbody>\n",
       "    <tr>\n",
       "      <th>0</th>\n",
       "      <td>2023</td>\n",
       "      <td>Data DevOps Engineer</td>\n",
       "      <td>Data Engineering</td>\n",
       "      <td>EUR</td>\n",
       "      <td>88000</td>\n",
       "      <td>95012</td>\n",
       "      <td>Germany</td>\n",
       "      <td>Mid-level</td>\n",
       "      <td>Full-time</td>\n",
       "      <td>Hybrid</td>\n",
       "      <td>Germany</td>\n",
       "      <td>L</td>\n",
       "    </tr>\n",
       "    <tr>\n",
       "      <th>1</th>\n",
       "      <td>2023</td>\n",
       "      <td>Data Architect</td>\n",
       "      <td>Data Architecture and Modeling</td>\n",
       "      <td>USD</td>\n",
       "      <td>186000</td>\n",
       "      <td>186000</td>\n",
       "      <td>United States</td>\n",
       "      <td>Senior</td>\n",
       "      <td>Full-time</td>\n",
       "      <td>In-person</td>\n",
       "      <td>United States</td>\n",
       "      <td>M</td>\n",
       "    </tr>\n",
       "    <tr>\n",
       "      <th>2</th>\n",
       "      <td>2023</td>\n",
       "      <td>Data Architect</td>\n",
       "      <td>Data Architecture and Modeling</td>\n",
       "      <td>USD</td>\n",
       "      <td>81800</td>\n",
       "      <td>81800</td>\n",
       "      <td>United States</td>\n",
       "      <td>Senior</td>\n",
       "      <td>Full-time</td>\n",
       "      <td>In-person</td>\n",
       "      <td>United States</td>\n",
       "      <td>M</td>\n",
       "    </tr>\n",
       "    <tr>\n",
       "      <th>3</th>\n",
       "      <td>2023</td>\n",
       "      <td>Data Scientist</td>\n",
       "      <td>Data Science and Research</td>\n",
       "      <td>USD</td>\n",
       "      <td>212000</td>\n",
       "      <td>212000</td>\n",
       "      <td>United States</td>\n",
       "      <td>Senior</td>\n",
       "      <td>Full-time</td>\n",
       "      <td>In-person</td>\n",
       "      <td>United States</td>\n",
       "      <td>M</td>\n",
       "    </tr>\n",
       "    <tr>\n",
       "      <th>4</th>\n",
       "      <td>2023</td>\n",
       "      <td>Data Scientist</td>\n",
       "      <td>Data Science and Research</td>\n",
       "      <td>USD</td>\n",
       "      <td>93300</td>\n",
       "      <td>93300</td>\n",
       "      <td>United States</td>\n",
       "      <td>Senior</td>\n",
       "      <td>Full-time</td>\n",
       "      <td>In-person</td>\n",
       "      <td>United States</td>\n",
       "      <td>M</td>\n",
       "    </tr>\n",
       "  </tbody>\n",
       "</table>\n",
       "</div>"
      ],
      "text/plain": [
       "   work_year             job_title                    job_category  \\\n",
       "0       2023  Data DevOps Engineer                Data Engineering   \n",
       "1       2023        Data Architect  Data Architecture and Modeling   \n",
       "2       2023        Data Architect  Data Architecture and Modeling   \n",
       "3       2023        Data Scientist       Data Science and Research   \n",
       "4       2023        Data Scientist       Data Science and Research   \n",
       "\n",
       "  salary_currency  salary  salary_in_usd employee_residence experience_level  \\\n",
       "0             EUR   88000          95012            Germany        Mid-level   \n",
       "1             USD  186000         186000      United States           Senior   \n",
       "2             USD   81800          81800      United States           Senior   \n",
       "3             USD  212000         212000      United States           Senior   \n",
       "4             USD   93300          93300      United States           Senior   \n",
       "\n",
       "  employment_type work_setting company_location company_size  \n",
       "0       Full-time       Hybrid          Germany            L  \n",
       "1       Full-time    In-person    United States            M  \n",
       "2       Full-time    In-person    United States            M  \n",
       "3       Full-time    In-person    United States            M  \n",
       "4       Full-time    In-person    United States            M  "
      ]
     },
     "execution_count": 6,
     "metadata": {},
     "output_type": "execute_result"
    }
   ],
   "source": [
    "# Peek at the data \n",
    "dat.head()"
   ]
  },
  {
   "cell_type": "markdown",
   "id": "766ba260-bf5c-4c79-9e00-bd18199424e8",
   "metadata": {},
   "source": [
    "We first gather some preliminary information about the data and the types involved. For this purpose, we use the pandas `info()` function."
   ]
  },
  {
   "cell_type": "code",
   "execution_count": 7,
   "id": "6dcb5982-49fe-4471-b144-a55c263c2c20",
   "metadata": {},
   "outputs": [
    {
     "name": "stdout",
     "output_type": "stream",
     "text": [
      "<class 'pandas.core.frame.DataFrame'>\n",
      "RangeIndex: 9355 entries, 0 to 9354\n",
      "Data columns (total 12 columns):\n",
      " #   Column              Non-Null Count  Dtype \n",
      "---  ------              --------------  ----- \n",
      " 0   work_year           9355 non-null   int64 \n",
      " 1   job_title           9355 non-null   object\n",
      " 2   job_category        9355 non-null   object\n",
      " 3   salary_currency     9355 non-null   object\n",
      " 4   salary              9355 non-null   int64 \n",
      " 5   salary_in_usd       9355 non-null   int64 \n",
      " 6   employee_residence  9355 non-null   object\n",
      " 7   experience_level    9355 non-null   object\n",
      " 8   employment_type     9355 non-null   object\n",
      " 9   work_setting        9355 non-null   object\n",
      " 10  company_location    9355 non-null   object\n",
      " 11  company_size        9355 non-null   object\n",
      "dtypes: int64(3), object(9)\n",
      "memory usage: 877.2+ KB\n"
     ]
    }
   ],
   "source": [
    "# Preliminary info \n",
    "dat.info()"
   ]
  },
  {
   "cell_type": "markdown",
   "id": "cb442892-1bdf-4aff-9253-8db417c5e0be",
   "metadata": {},
   "source": [
    "The first line indicates that there are 9,355 observations in the data frame. We see that the data records 12 features in the data. From the output below, we see that there are no NA values in our data set. When looking at data types, we see that only `work_year` and the variables recording salaries are numerical while everything else is a string type (denoted in pandas as type \"object\")."
   ]
  },
  {
   "cell_type": "markdown",
   "id": "7ac29e88-4d75-401d-955f-ff9825905f8a",
   "metadata": {},
   "source": [
    "Next, we would like to investigate preliminary descriptive statistics to learn about the data set and begin to formulate hypotheses about it. We will use the pandas `describe()` function to obtain the preliminary statistics. \n",
    "\n",
    "Note that we only report the `salary_in_usd` variable: the statistics for `work_year` are meaningless (since this variable records time) and the `salary` variable records values with different currencies, making it inconsistent for comparisons."
   ]
  },
  {
   "cell_type": "code",
   "execution_count": 8,
   "id": "e9aefdee-bb06-4f5f-ab29-f24ea2670581",
   "metadata": {},
   "outputs": [
    {
     "data": {
      "text/plain": [
       "count      9355.000000\n",
       "mean     150299.495564\n",
       "std       63177.372024\n",
       "min       15000.000000\n",
       "25%      105700.000000\n",
       "50%      143000.000000\n",
       "75%      186723.000000\n",
       "max      450000.000000\n",
       "Name: salary_in_usd, dtype: float64"
      ]
     },
     "execution_count": 8,
     "metadata": {},
     "output_type": "execute_result"
    }
   ],
   "source": [
    "# Preliminary statistics \n",
    "dat[\"salary_in_usd\"].describe()"
   ]
  },
  {
   "cell_type": "markdown",
   "id": "c079794f-68b0-47f4-b16f-76933700020f",
   "metadata": {},
   "source": [
    "### Preliminary Investigation Of Categorical Types"
   ]
  },
  {
   "cell_type": "markdown",
   "id": "63b882a0-84b1-4b67-b7c1-1778ddca5238",
   "metadata": {},
   "source": [
    "Several variables in our data set are strings (labeled as type \"object\" by pandas). We need to be able to extract relevant information about the job title and category given the large variety in strings of this type. "
   ]
  },
  {
   "cell_type": "code",
   "execution_count": 11,
   "id": "71331b00-c1d5-4c2a-83d3-d8bf8e540a42",
   "metadata": {},
   "outputs": [
    {
     "data": {
      "text/plain": [
       "125"
      ]
     },
     "execution_count": 11,
     "metadata": {},
     "output_type": "execute_result"
    }
   ],
   "source": [
    "# Number of unique jobtitles and categories\n",
    "dat[\"job_title\"].nunique()"
   ]
  },
  {
   "cell_type": "code",
   "execution_count": 12,
   "id": "590dec58-e57e-4331-867c-8e633797b8cf",
   "metadata": {},
   "outputs": [
    {
     "data": {
      "text/plain": [
       "10"
      ]
     },
     "execution_count": 12,
     "metadata": {},
     "output_type": "execute_result"
    }
   ],
   "source": [
    "dat[\"job_category\"].nunique()"
   ]
  },
  {
   "cell_type": "code",
   "execution_count": 13,
   "id": "c299da0e-4f84-4fbb-b88c-fda731273707",
   "metadata": {},
   "outputs": [
    {
     "data": {
      "text/plain": [
       "array(['Data DevOps Engineer', 'Data Architect', 'Data Scientist',\n",
       "       'Machine Learning Researcher', 'Data Engineer',\n",
       "       'Machine Learning Engineer', 'Data Analyst', 'Analytics Engineer',\n",
       "       'Applied Scientist', 'BI Developer',\n",
       "       'Business Intelligence Engineer', 'Research Scientist',\n",
       "       'Research Analyst', 'Research Engineer', 'Data Science Engineer',\n",
       "       'Data Quality Analyst', 'Data Product Manager',\n",
       "       'Machine Learning Scientist', 'AI Engineer', 'MLOps Engineer',\n",
       "       'Deep Learning Engineer', 'Data Modeler', 'Data Product Owner',\n",
       "       'Data Science Consultant', 'Business Intelligence Analyst',\n",
       "       'AI Developer', 'Data Manager', 'ML Engineer',\n",
       "       'Data Science Director', 'Head of Data', 'BI Analyst',\n",
       "       'Data Management Analyst', 'Machine Learning Modeler',\n",
       "       'Data Specialist', 'BI Data Analyst', 'Data Integration Engineer',\n",
       "       'Business Intelligence Manager', 'Data Integration Specialist',\n",
       "       'Data Science Practitioner', 'Business Intelligence Developer',\n",
       "       'AI Research Engineer', 'Data Lead', 'Data Management Specialist',\n",
       "       'AI Architect', 'Data Science Manager', 'Data Strategist',\n",
       "       'Business Intelligence Specialist',\n",
       "       'Machine Learning Infrastructure Engineer',\n",
       "       'Data Quality Engineer', 'Director of Data Science',\n",
       "       'Business Data Analyst', 'Decision Scientist',\n",
       "       'Financial Data Analyst', 'Data Strategy Manager',\n",
       "       'Computer Vision Engineer', 'Data Visualization Specialist',\n",
       "       'Insight Analyst', 'Data Visualization Engineer', 'ETL Developer',\n",
       "       'Data Analytics Manager', 'Azure Data Engineer', 'Data Developer',\n",
       "       'Principal Data Scientist', 'Data Science Lead',\n",
       "       'Staff Data Analyst', 'Data Infrastructure Engineer',\n",
       "       'Machine Learning Software Engineer',\n",
       "       'Machine Learning Operations Engineer', 'AI Scientist',\n",
       "       'Head of Machine Learning', 'Applied Data Scientist',\n",
       "       'AI Programmer', 'Data Operations Analyst',\n",
       "       'Applied Machine Learning Scientist', 'Data Analytics Lead',\n",
       "       'Data Operations Engineer', 'Machine Learning Manager',\n",
       "       'Lead Data Scientist', 'Principal Machine Learning Engineer',\n",
       "       'Principal Data Engineer', 'Power BI Developer',\n",
       "       'Head of Data Science', 'Staff Machine Learning Engineer',\n",
       "       'Staff Data Scientist', 'Consultant Data Engineer',\n",
       "       'Machine Learning Specialist',\n",
       "       'Business Intelligence Data Analyst', 'Data Operations Manager',\n",
       "       'Lead Machine Learning Engineer', 'Managing Director Data Science',\n",
       "       'Data Modeller', 'Finance Data Analyst', 'Software Data Engineer',\n",
       "       'Machine Learning Research Engineer', 'Compliance Data Analyst',\n",
       "       'Data Operations Specialist', 'Cloud Data Engineer',\n",
       "       'Analytics Engineering Manager', 'NLP Engineer',\n",
       "       'AWS Data Architect', 'Product Data Analyst',\n",
       "       'Machine Learning Developer', 'Data Visualization Analyst',\n",
       "       'Autonomous Vehicle Technician', 'Sales Data Analyst',\n",
       "       'Applied Machine Learning Engineer', 'ETL Engineer',\n",
       "       'Big Data Engineer', 'Lead Data Analyst', 'BI Data Engineer',\n",
       "       'Cloud Database Engineer', 'Deep Learning Researcher',\n",
       "       'Data Analytics Specialist', 'Big Data Architect',\n",
       "       'Computer Vision Software Engineer', 'Marketing Data Engineer',\n",
       "       'Manager Data Management', 'Data Analytics Consultant',\n",
       "       'Data Science Tech Lead', 'Data Scientist Lead',\n",
       "       'Marketing Data Analyst', 'Data Analytics Engineer',\n",
       "       'Cloud Data Architect', 'Lead Data Engineer',\n",
       "       'Principal Data Analyst'], dtype=object)"
      ]
     },
     "execution_count": 13,
     "metadata": {},
     "output_type": "execute_result"
    }
   ],
   "source": [
    "dat[\"job_title\"].unique()"
   ]
  },
  {
   "cell_type": "code",
   "execution_count": 14,
   "id": "e6001ae1-2a93-44fc-96bc-758e2c40758c",
   "metadata": {},
   "outputs": [
    {
     "data": {
      "text/plain": [
       "array(['Data Engineering', 'Data Architecture and Modeling',\n",
       "       'Data Science and Research', 'Machine Learning and AI',\n",
       "       'Data Analysis', 'Leadership and Management',\n",
       "       'BI and Visualization', 'Data Quality and Operations',\n",
       "       'Data Management and Strategy', 'Cloud and Database'], dtype=object)"
      ]
     },
     "execution_count": 14,
     "metadata": {},
     "output_type": "execute_result"
    }
   ],
   "source": [
    "dat[\"job_category\"].unique()"
   ]
  },
  {
   "cell_type": "markdown",
   "id": "f54e91f4-a2d2-40c1-b23c-340ccff0e5e9",
   "metadata": {},
   "source": [
    "### Preliminary Plotting"
   ]
  },
  {
   "cell_type": "markdown",
   "id": "57ab8ae4-a3cb-4941-9c2e-7cb8baaaaa85",
   "metadata": {},
   "source": [
    "To quickly learn about the relationships among the numerical variable, we will make use of graphs. They can help us quickly assess the quality and behavior of our numerical variables. "
   ]
  },
  {
   "cell_type": "markdown",
   "id": "3587ea5a-cbcd-480d-ba78-aa4f36d70097",
   "metadata": {},
   "source": [
    "First, we want to analyze the distributions of the salary variable. We will restrict our attention to the `salary_in_usd` column, since the regular `salary` column records its values with inconsistent units. A box plot will show us the overall skewness of the data. "
   ]
  },
  {
   "cell_type": "markdown",
   "id": "e34e3bcb-046d-4e97-9882-a3ce4089f960",
   "metadata": {},
   "source": [
    "We first want to assess the overall distribution of the salary (recorded in USD). To do this, we generate a box plot and histogram of the `salary_in_usd` variable. "
   ]
  },
  {
   "cell_type": "code",
   "execution_count": 61,
   "id": "81c98c43-509b-4637-8456-561af54fe964",
   "metadata": {},
   "outputs": [
    {
     "data": {
      "text/plain": [
       "(array([ 507., 1631., 2719., 2195., 1356.,  588.,  242.,   77.,   34.,\n",
       "           6.]),\n",
       " array([ 15000.,  58500., 102000., 145500., 189000., 232500., 276000.,\n",
       "        319500., 363000., 406500., 450000.]),\n",
       " <BarContainer object of 10 artists>)"
      ]
     },
     "execution_count": 61,
     "metadata": {},
     "output_type": "execute_result"
    },
    {
     "data": {
      "image/png": "[encoded data removed]",
      "text/plain": [
       "<Figure size 1200x400 with 2 Axes>"
      ]
     },
     "metadata": {},
     "output_type": "display_data"
    }
   ],
   "source": [
    "# Use a subplot to show both figures side by side for easy comparison.\n",
    "sal_fig, x = plt.subplots(1,2, figsize = (12,4)) \n",
    "\n",
    "x[0].set_title(\"Box Plot of Salary (USD)\")\n",
    "x[0].set_xlabel(\"Salary (USD)\")\n",
    "x[0].boxplot(dat['salary_in_usd'], vert = False)\n",
    "\n",
    "x[1].set_title(\"Histogram of Salary (USD)\") \n",
    "x[1].set_xlabel(\"Salary (USD)\") \n",
    "x[1].set_ylabel(\"Count\")\n",
    "x[1].hist(dat['salary_in_usd'])"
   ]
  },
  {
   "cell_type": "markdown",
   "id": "66ea5235-1187-4064-b7fd-817be06299e8",
   "metadata": {},
   "source": [
    "The box plot indicates several potential outliers in the data (indicated by the circles on the right hand tail of the plot). This is also indicated on the histogram by the presence of a tail, indicating an overall right-skewed distribution. \n",
    "\n",
    "Both of these observations indicate that there are extreme values of salary on the higher end i.e. that there are a small subset of individuals who make substantially more than the median income for this field. Investigating this is an avenue for further investigation."
   ]
  }
 ],
 "metadata": {
  "kernelspec": {
   "display_name": "Python 3 (ipykernel)",
   "language": "python",
   "name": "python3"
  },
  "language_info": {
   "codemirror_mode": {
    "name": "ipython",
    "version": 3
   },
   "file_extension": ".py",
   "mimetype": "text/x-python",
   "name": "python",
   "nbconvert_exporter": "python",
   "pygments_lexer": "ipython3",
   "version": "3.10.2"
  }
 },
 "nbformat": 4,
 "nbformat_minor": 5
}
