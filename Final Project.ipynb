{
 "cells": [
  {
   "cell_type": "markdown",
   "id": "63f99c82-d2af-482a-b21e-0a8478702380",
   "metadata": {},
   "source": [
    "Hypothesis Testing\n",
    "\n",
    "Null Hypothesis: The average salary for a data scientist is the same as the average salary for a data engineer. \n",
    "\n",
    "Alternative Hypothesis: The average salary for a data scientist is greater than the average salary for a data engineer. "
   ]
  },
  {
   "cell_type": "code",
   "execution_count": 50,
   "id": "c8e508d2-4566-4ba6-af31-c4720834585b",
   "metadata": {
    "tags": []
   },
   "outputs": [
    {
     "name": "stdout",
     "output_type": "stream",
     "text": [
      "156411.67068878835\n",
      "145969.5854214123\n",
      "60349.58396881377\n",
      "57600.636483955284\n",
      "1989\n",
      "2195\n",
      "1828.2911720418185\n",
      "5.711390738552008\n"
     ]
    }
   ],
   "source": [
    "import csv\n",
    "import os\n",
    "import math\n",
    "\n",
    "import pandas as pd\n",
    "\n",
    "jobs = open(\"/home/aa2359/ProjectFolder/jobs.csv\")\n",
    "jobs = pd.read_csv(jobs)\n",
    "#print(jobs)\n",
    "\n",
    "data_scientists = jobs[jobs['job_title'] == 'Data Scientist']\n",
    "data_engineers = jobs[jobs['job_title'] == 'Data Engineer']\n",
    "\n",
    "salaryDSMean = data_scientists['salary'].mean()\n",
    "salaryDEMean = data_engineers['salary'].mean()\n",
    "\n",
    "print(salaryDSMean)#Mean for Data Scientists\n",
    "print(salaryDEMean)#Mean for Data Engineers\n",
    "\n",
    "salaryDSsd = data_scientists['salary'].std()\n",
    "salaryDEsd = data_engineers['salary'].std()\n",
    "\n",
    "print(salaryDSsd)#Standard Deviation for Data Scientists\n",
    "print(salaryDEsd)#Standard Deviation for Data Engineers\n",
    "\n",
    "DSlen = len(data_scientists)\n",
    "DElen = len(data_engineers)\n",
    "\n",
    "print(DSlen)#amount of Data Scientists\n",
    "print(DElen)#amount of Data Engineers\n",
    "\n",
    "#Because n is greater than 30, the distribution is approximately normal. This means that I can use a z-test. \n",
    "\n",
    "sdBothSamples = math.sqrt((salaryDSsd ** 2)/DSlen + (salaryDEsd ** 2)/DElen)\n",
    "    \n",
    "print(sdBothSamples)\n",
    "\n",
    "zscore = (salaryDSMean-salaryDEMean)/sdBothSamples\n",
    "print(zscore)\n",
    "\n",
    "pvalue = 5.602832e-09"
   ]
  },
  {
   "cell_type": "markdown",
   "id": "2ddc7056-746d-4084-90f7-0f59279978b4",
   "metadata": {},
   "source": [
    "Because the p-value is less than 0.05, I reject the null hypothesis. There is sufficient evidence suggesting that the average salary for a data scientist is greater than the average salary for a data engineer. "
   ]
  },
  {
   "cell_type": "markdown",
   "id": "8d2f01f1-5bef-4e6e-97c5-71343dfb002f",
   "metadata": {},
   "source": [
    "Hypothesis Testing\n",
    "\n",
    "Null Hypothesis: The average salary for data scientists in a large company size is same as the average salary for data scinetists in medium company size. \n",
    "\n",
    "Alternative Hypothesis: The average salary for data scientists in a large company size is lower than the average salary for data scientists in medium company size. \n"
   ]
  },
  {
   "cell_type": "code",
   "execution_count": 74,
   "id": "a05519db-1140-4e81-8115-986ec8f90bc5",
   "metadata": {
    "tags": []
   },
   "outputs": [
    {
     "name": "stdout",
     "output_type": "stream",
     "text": [
      "122138.21818181819\n",
      "159681.82009724472\n",
      "63710.96444074841\n",
      "58838.265407760824\n",
      "110\n",
      "1851\n",
      "6226.644325563869\n",
      "-6.029508022690326\n"
     ]
    }
   ],
   "source": [
    "DSL = jobs[(jobs['job_title'] == 'Data Scientist') & (jobs['company_size'] == 'L')]\n",
    "DSM = jobs[(jobs['job_title'] == 'Data Scientist') & (jobs['company_size'] == 'M')]\n",
    "\n",
    "#print(DSL)\n",
    "#print(DSS)\n",
    "\n",
    "salaryDSLMean = DSL['salary'].mean()\n",
    "salaryDSMMean = DSS['salary'].mean()\n",
    "\n",
    "print(salaryDSLMean)\n",
    "print(salaryDSMMean)\n",
    "\n",
    "salaryDSLsd = DSL['salary'].std()\n",
    "salaryDSMsd = DSM['salary'].std()\n",
    "\n",
    "print(salaryDSLsd)\n",
    "print(salaryDSMsd)\n",
    "\n",
    "DSLlen = len(DSL)\n",
    "DSMlen = len(DSM)\n",
    "\n",
    "print(DSLlen)\n",
    "print(DSMlen)\n",
    "\n",
    "#Because n is greater than 30, the distribution is approximately normal. This means that I can use a z-test. \n",
    "\n",
    "sdBothSamples = math.sqrt((salaryDSLsd ** 2)/DSLlen + (salaryDSMsd ** 2)/DSMlen)\n",
    "    \n",
    "print(sdBothSamples)\n",
    "\n",
    "zscore = (salaryDSLMean-salaryDSMMean)/sdBothSamples\n",
    "print(zscore)\n",
    "\n",
    "pvalue = 8.222978e-10"
   ]
  },
  {
   "cell_type": "markdown",
   "id": "8c2e0568-173f-45a9-a7f9-09ea835bedf8",
   "metadata": {},
   "source": [
    "Because the p-value is less than 0.05, I reject the null hypothesis. There is sufficient evidence suggesting that the average salary for data scientists in a large company size is lower than the average salary for data scientists in medium company size. "
   ]
  }
 ],
 "metadata": {
  "kernelspec": {
   "display_name": "Python 3 (ipykernel)",
   "language": "python",
   "name": "python3"
  },
  "language_info": {
   "codemirror_mode": {
    "name": "ipython",
    "version": 3
   },
   "file_extension": ".py",
   "mimetype": "text/x-python",
   "name": "python",
   "nbconvert_exporter": "python",
   "pygments_lexer": "ipython3",
   "version": "3.11.3"
  }
 },
 "nbformat": 4,
 "nbformat_minor": 5
}
