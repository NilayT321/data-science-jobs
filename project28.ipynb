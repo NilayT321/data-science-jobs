{
 "cells": [
  {
   "cell_type": "markdown",
   "id": "3110df4b-497c-46ae-bbbd-509a07dc0fb2",
   "metadata": {},
   "source": [
    "# CS 210 -- Data Management For Data Science \n",
    "\n",
    "Final Project\n",
    "\n",
    "Group Members: Nilay Tripathi (nt406), Nikhil Munagala (nsm123), Arnav Borborah (ab2274), Ajay Anand (aa2359)"
   ]
  },
  {
   "cell_type": "code",
   "execution_count": 1,
   "id": "34e5cc1a-129a-4b9b-a8a3-cb9242f3257f",
   "metadata": {
    "tags": []
   },
   "outputs": [],
   "source": [
    "import numpy as np \n",
    "import pandas as pd \n",
    "import matplotlib.pyplot as plt \n",
    "import math"
   ]
  },
  {
   "cell_type": "markdown",
   "id": "da0344a1-801d-4b59-a56d-3aabbe5a3040",
   "metadata": {},
   "source": [
    "## Information About The Data Set"
   ]
  },
  {
   "cell_type": "markdown",
   "id": "31798cc3-98ac-40e5-9426-93c743a0d0eb",
   "metadata": {},
   "source": [
    "Our data set is \"Jobs And Salaries In Data Science\", which gives information about salaries in careers related to data science (e.g. data scientist, data architect, machine learning engineer, etc.). The data set was obtained from Kaggle and can be found [here](https://www.kaggle.com/datasets/hummaamqaasim/jobs-in-data). \n",
    "\n",
    "Here is a brief summary of the meanings of the columns\n",
    "\n",
    "- `work_year`: year the data was recorded.\n",
    "- `job_title`: the specific title of the job.\n",
    "- `job_category`: specialized category of the job (data science, analyst, machine learning etc.). More descriptive.\n",
    "- `salary_currency`: currency the salary is reported in\n",
    "- `salary`: annual salary, in the currency specified by the `salary_currency` column.\n",
    "- `salary_in_usd`: salary converted to USD\n",
    "- `employee_residence`: employee's country of residence\n",
    "- `experience_level`: employee's experience level (entry-level, mid-level, etc)\n",
    "- `employment_type`: full-time, part-time, contract work, etc.\n",
    "- `work_setting`: working environment (remote, in-person, hybrid, etc)\n",
    "- `company_location`: country of company\n",
    "- `company_size`: relative size of companies (S for Small, M for Medium, etc)\n",
    "\n",
    "Data science and its related fields play an extremely crucial role in today's society, where machine learning and artificial intelligence play increasingly important role. This data set includes data on time, allowing us to analyze trends in data science salary (and consequently, demand) over time. We can also use this data to learn how other information regarding experience, company size, and location impact salaries in data science and its related fields. Finally, there are tons of subfields within data science (like data analyst, data engineer, machine learning engineer, etc.) and as students who are interested in careers in data science, we would like to investigate how the subtle differences between these job titles impacts salary and future potential. "
   ]
  },
  {
   "cell_type": "markdown",
   "id": "373f646f-b38b-4695-a8da-b8ac7b13bdf5",
   "metadata": {},
   "source": [
    "## Preliminary Analysis Of Data"
   ]
  },
  {
   "cell_type": "markdown",
   "id": "d4d3197a-6094-4b5d-b44c-cc2b1a884dd9",
   "metadata": {},
   "source": [
    "In this section, we import the data and try to learn about its columns and the types of data which are being stored."
   ]
  },
  {
   "cell_type": "code",
   "execution_count": 2,
   "id": "71d95f09-cb00-4747-82fe-bb8a6ae59172",
   "metadata": {
    "tags": []
   },
   "outputs": [],
   "source": [
    "dat = pd.read_csv(\"jobs_in_data.csv\")"
   ]
  },
  {
   "cell_type": "code",
   "execution_count": 3,
   "id": "65119cda-682b-4f63-95fa-448f9f92f134",
   "metadata": {
    "tags": []
   },
   "outputs": [
    {
     "data": {
      "text/html": [
       "<div>\n",
       "<style scoped>\n",
       "    .dataframe tbody tr th:only-of-type {\n",
       "        vertical-align: middle;\n",
       "    }\n",
       "\n",
       "    .dataframe tbody tr th {\n",
       "        vertical-align: top;\n",
       "    }\n",
       "\n",
       "    .dataframe thead th {\n",
       "        text-align: right;\n",
       "    }\n",
       "</style>\n",
       "<table border=\"1\" class=\"dataframe\">\n",
       "  <thead>\n",
       "    <tr style=\"text-align: right;\">\n",
       "      <th></th>\n",
       "      <th>work_year</th>\n",
       "      <th>job_title</th>\n",
       "      <th>job_category</th>\n",
       "      <th>salary_currency</th>\n",
       "      <th>salary</th>\n",
       "      <th>salary_in_usd</th>\n",
       "      <th>employee_residence</th>\n",
       "      <th>experience_level</th>\n",
       "      <th>employment_type</th>\n",
       "      <th>work_setting</th>\n",
       "      <th>company_location</th>\n",
       "      <th>company_size</th>\n",
       "    </tr>\n",
       "  </thead>\n",
       "  <tbody>\n",
       "    <tr>\n",
       "      <th>0</th>\n",
       "      <td>2023</td>\n",
       "      <td>Data DevOps Engineer</td>\n",
       "      <td>Data Engineering</td>\n",
       "      <td>EUR</td>\n",
       "      <td>88000</td>\n",
       "      <td>95012</td>\n",
       "      <td>Germany</td>\n",
       "      <td>Mid-level</td>\n",
       "      <td>Full-time</td>\n",
       "      <td>Hybrid</td>\n",
       "      <td>Germany</td>\n",
       "      <td>L</td>\n",
       "    </tr>\n",
       "    <tr>\n",
       "      <th>1</th>\n",
       "      <td>2023</td>\n",
       "      <td>Data Architect</td>\n",
       "      <td>Data Architecture and Modeling</td>\n",
       "      <td>USD</td>\n",
       "      <td>186000</td>\n",
       "      <td>186000</td>\n",
       "      <td>United States</td>\n",
       "      <td>Senior</td>\n",
       "      <td>Full-time</td>\n",
       "      <td>In-person</td>\n",
       "      <td>United States</td>\n",
       "      <td>M</td>\n",
       "    </tr>\n",
       "    <tr>\n",
       "      <th>2</th>\n",
       "      <td>2023</td>\n",
       "      <td>Data Architect</td>\n",
       "      <td>Data Architecture and Modeling</td>\n",
       "      <td>USD</td>\n",
       "      <td>81800</td>\n",
       "      <td>81800</td>\n",
       "      <td>United States</td>\n",
       "      <td>Senior</td>\n",
       "      <td>Full-time</td>\n",
       "      <td>In-person</td>\n",
       "      <td>United States</td>\n",
       "      <td>M</td>\n",
       "    </tr>\n",
       "    <tr>\n",
       "      <th>3</th>\n",
       "      <td>2023</td>\n",
       "      <td>Data Scientist</td>\n",
       "      <td>Data Science and Research</td>\n",
       "      <td>USD</td>\n",
       "      <td>212000</td>\n",
       "      <td>212000</td>\n",
       "      <td>United States</td>\n",
       "      <td>Senior</td>\n",
       "      <td>Full-time</td>\n",
       "      <td>In-person</td>\n",
       "      <td>United States</td>\n",
       "      <td>M</td>\n",
       "    </tr>\n",
       "    <tr>\n",
       "      <th>4</th>\n",
       "      <td>2023</td>\n",
       "      <td>Data Scientist</td>\n",
       "      <td>Data Science and Research</td>\n",
       "      <td>USD</td>\n",
       "      <td>93300</td>\n",
       "      <td>93300</td>\n",
       "      <td>United States</td>\n",
       "      <td>Senior</td>\n",
       "      <td>Full-time</td>\n",
       "      <td>In-person</td>\n",
       "      <td>United States</td>\n",
       "      <td>M</td>\n",
       "    </tr>\n",
       "  </tbody>\n",
       "</table>\n",
       "</div>"
      ],
      "text/plain": [
       "   work_year             job_title                    job_category  \\\n",
       "0       2023  Data DevOps Engineer                Data Engineering   \n",
       "1       2023        Data Architect  Data Architecture and Modeling   \n",
       "2       2023        Data Architect  Data Architecture and Modeling   \n",
       "3       2023        Data Scientist       Data Science and Research   \n",
       "4       2023        Data Scientist       Data Science and Research   \n",
       "\n",
       "  salary_currency  salary  salary_in_usd employee_residence experience_level  \\\n",
       "0             EUR   88000          95012            Germany        Mid-level   \n",
       "1             USD  186000         186000      United States           Senior   \n",
       "2             USD   81800          81800      United States           Senior   \n",
       "3             USD  212000         212000      United States           Senior   \n",
       "4             USD   93300          93300      United States           Senior   \n",
       "\n",
       "  employment_type work_setting company_location company_size  \n",
       "0       Full-time       Hybrid          Germany            L  \n",
       "1       Full-time    In-person    United States            M  \n",
       "2       Full-time    In-person    United States            M  \n",
       "3       Full-time    In-person    United States            M  \n",
       "4       Full-time    In-person    United States            M  "
      ]
     },
     "execution_count": 3,
     "metadata": {},
     "output_type": "execute_result"
    }
   ],
   "source": [
    "# Peek at the data \n",
    "dat.head()"
   ]
  },
  {
   "cell_type": "markdown",
   "id": "766ba260-bf5c-4c79-9e00-bd18199424e8",
   "metadata": {},
   "source": [
    "We first gather some preliminary information about the data and the types involved. For this purpose, we use the pandas `info()` function."
   ]
  },
  {
   "cell_type": "code",
   "execution_count": 4,
   "id": "6dcb5982-49fe-4471-b144-a55c263c2c20",
   "metadata": {
    "tags": []
   },
   "outputs": [
    {
     "name": "stdout",
     "output_type": "stream",
     "text": [
      "<class 'pandas.core.frame.DataFrame'>\n",
      "RangeIndex: 9355 entries, 0 to 9354\n",
      "Data columns (total 12 columns):\n",
      " #   Column              Non-Null Count  Dtype \n",
      "---  ------              --------------  ----- \n",
      " 0   work_year           9355 non-null   int64 \n",
      " 1   job_title           9355 non-null   object\n",
      " 2   job_category        9355 non-null   object\n",
      " 3   salary_currency     9355 non-null   object\n",
      " 4   salary              9355 non-null   int64 \n",
      " 5   salary_in_usd       9355 non-null   int64 \n",
      " 6   employee_residence  9355 non-null   object\n",
      " 7   experience_level    9355 non-null   object\n",
      " 8   employment_type     9355 non-null   object\n",
      " 9   work_setting        9355 non-null   object\n",
      " 10  company_location    9355 non-null   object\n",
      " 11  company_size        9355 non-null   object\n",
      "dtypes: int64(3), object(9)\n",
      "memory usage: 877.2+ KB\n"
     ]
    }
   ],
   "source": [
    "# Preliminary info \n",
    "dat.info()"
   ]
  },
  {
   "cell_type": "markdown",
   "id": "cb442892-1bdf-4aff-9253-8db417c5e0be",
   "metadata": {},
   "source": [
    "The first line indicates that there are 9,355 observations in the data frame. We see that the data records 12 features in the data. From the output below, we see that there are no NA values in our data set. When looking at data types, we see that only `work_year` and the variables recording salaries are numerical while everything else is a string type (denoted in pandas as type \"object\")."
   ]
  },
  {
   "cell_type": "markdown",
   "id": "7ac29e88-4d75-401d-955f-ff9825905f8a",
   "metadata": {},
   "source": [
    "Next, we would like to investigate preliminary descriptive statistics to learn about the data set and begin to formulate hypotheses about it. We will use the pandas `describe()` function to obtain the preliminary statistics. \n",
    "\n",
    "Note that we only report the `salary_in_usd` variable: the statistics for `work_year` are meaningless (since this variable records time) and the `salary` variable records values with different currencies, making it inconsistent for comparisons."
   ]
  },
  {
   "cell_type": "code",
   "execution_count": 5,
   "id": "e9aefdee-bb06-4f5f-ab29-f24ea2670581",
   "metadata": {
    "tags": []
   },
   "outputs": [
    {
     "data": {
      "text/plain": [
       "count      9355.000000\n",
       "mean     150299.495564\n",
       "std       63177.372024\n",
       "min       15000.000000\n",
       "25%      105700.000000\n",
       "50%      143000.000000\n",
       "75%      186723.000000\n",
       "max      450000.000000\n",
       "Name: salary_in_usd, dtype: float64"
      ]
     },
     "execution_count": 5,
     "metadata": {},
     "output_type": "execute_result"
    }
   ],
   "source": [
    "# Preliminary statistics \n",
    "dat[\"salary_in_usd\"].describe()"
   ]
  },
  {
   "cell_type": "markdown",
   "id": "c079794f-68b0-47f4-b16f-76933700020f",
   "metadata": {},
   "source": [
    "### Preliminary Investigation Of Categorical Types"
   ]
  },
  {
   "cell_type": "markdown",
   "id": "63b882a0-84b1-4b67-b7c1-1778ddca5238",
   "metadata": {},
   "source": [
    "Several variables in our data set are strings (labeled as type \"object\" by pandas). We need to be able to extract relevant information about the job title and category given the large variety in strings of this type. "
   ]
  },
  {
   "cell_type": "code",
   "execution_count": 6,
   "id": "71331b00-c1d5-4c2a-83d3-d8bf8e540a42",
   "metadata": {
    "tags": []
   },
   "outputs": [
    {
     "data": {
      "text/plain": [
       "125"
      ]
     },
     "execution_count": 6,
     "metadata": {},
     "output_type": "execute_result"
    }
   ],
   "source": [
    "# Number of unique jobtitles and categories\n",
    "dat[\"job_title\"].nunique()"
   ]
  },
  {
   "cell_type": "code",
   "execution_count": 7,
   "id": "590dec58-e57e-4331-867c-8e633797b8cf",
   "metadata": {
    "tags": []
   },
   "outputs": [
    {
     "data": {
      "text/plain": [
       "10"
      ]
     },
     "execution_count": 7,
     "metadata": {},
     "output_type": "execute_result"
    }
   ],
   "source": [
    "dat[\"job_category\"].nunique()"
   ]
  },
  {
   "cell_type": "code",
   "execution_count": 8,
   "id": "c299da0e-4f84-4fbb-b88c-fda731273707",
   "metadata": {
    "tags": []
   },
   "outputs": [
    {
     "data": {
      "text/plain": [
       "array(['Data DevOps Engineer', 'Data Architect', 'Data Scientist',\n",
       "       'Machine Learning Researcher', 'Data Engineer',\n",
       "       'Machine Learning Engineer', 'Data Analyst', 'Analytics Engineer',\n",
       "       'Applied Scientist', 'BI Developer',\n",
       "       'Business Intelligence Engineer', 'Research Scientist',\n",
       "       'Research Analyst', 'Research Engineer', 'Data Science Engineer',\n",
       "       'Data Quality Analyst', 'Data Product Manager',\n",
       "       'Machine Learning Scientist', 'AI Engineer', 'MLOps Engineer',\n",
       "       'Deep Learning Engineer', 'Data Modeler', 'Data Product Owner',\n",
       "       'Data Science Consultant', 'Business Intelligence Analyst',\n",
       "       'AI Developer', 'Data Manager', 'ML Engineer',\n",
       "       'Data Science Director', 'Head of Data', 'BI Analyst',\n",
       "       'Data Management Analyst', 'Machine Learning Modeler',\n",
       "       'Data Specialist', 'BI Data Analyst', 'Data Integration Engineer',\n",
       "       'Business Intelligence Manager', 'Data Integration Specialist',\n",
       "       'Data Science Practitioner', 'Business Intelligence Developer',\n",
       "       'AI Research Engineer', 'Data Lead', 'Data Management Specialist',\n",
       "       'AI Architect', 'Data Science Manager', 'Data Strategist',\n",
       "       'Business Intelligence Specialist',\n",
       "       'Machine Learning Infrastructure Engineer',\n",
       "       'Data Quality Engineer', 'Director of Data Science',\n",
       "       'Business Data Analyst', 'Decision Scientist',\n",
       "       'Financial Data Analyst', 'Data Strategy Manager',\n",
       "       'Computer Vision Engineer', 'Data Visualization Specialist',\n",
       "       'Insight Analyst', 'Data Visualization Engineer', 'ETL Developer',\n",
       "       'Data Analytics Manager', 'Azure Data Engineer', 'Data Developer',\n",
       "       'Principal Data Scientist', 'Data Science Lead',\n",
       "       'Staff Data Analyst', 'Data Infrastructure Engineer',\n",
       "       'Machine Learning Software Engineer',\n",
       "       'Machine Learning Operations Engineer', 'AI Scientist',\n",
       "       'Head of Machine Learning', 'Applied Data Scientist',\n",
       "       'AI Programmer', 'Data Operations Analyst',\n",
       "       'Applied Machine Learning Scientist', 'Data Analytics Lead',\n",
       "       'Data Operations Engineer', 'Machine Learning Manager',\n",
       "       'Lead Data Scientist', 'Principal Machine Learning Engineer',\n",
       "       'Principal Data Engineer', 'Power BI Developer',\n",
       "       'Head of Data Science', 'Staff Machine Learning Engineer',\n",
       "       'Staff Data Scientist', 'Consultant Data Engineer',\n",
       "       'Machine Learning Specialist',\n",
       "       'Business Intelligence Data Analyst', 'Data Operations Manager',\n",
       "       'Lead Machine Learning Engineer', 'Managing Director Data Science',\n",
       "       'Data Modeller', 'Finance Data Analyst', 'Software Data Engineer',\n",
       "       'Machine Learning Research Engineer', 'Compliance Data Analyst',\n",
       "       'Data Operations Specialist', 'Cloud Data Engineer',\n",
       "       'Analytics Engineering Manager', 'NLP Engineer',\n",
       "       'AWS Data Architect', 'Product Data Analyst',\n",
       "       'Machine Learning Developer', 'Data Visualization Analyst',\n",
       "       'Autonomous Vehicle Technician', 'Sales Data Analyst',\n",
       "       'Applied Machine Learning Engineer', 'ETL Engineer',\n",
       "       'Big Data Engineer', 'Lead Data Analyst', 'BI Data Engineer',\n",
       "       'Cloud Database Engineer', 'Deep Learning Researcher',\n",
       "       'Data Analytics Specialist', 'Big Data Architect',\n",
       "       'Computer Vision Software Engineer', 'Marketing Data Engineer',\n",
       "       'Manager Data Management', 'Data Analytics Consultant',\n",
       "       'Data Science Tech Lead', 'Data Scientist Lead',\n",
       "       'Marketing Data Analyst', 'Data Analytics Engineer',\n",
       "       'Cloud Data Architect', 'Lead Data Engineer',\n",
       "       'Principal Data Analyst'], dtype=object)"
      ]
     },
     "execution_count": 8,
     "metadata": {},
     "output_type": "execute_result"
    }
   ],
   "source": [
    "dat[\"job_title\"].unique()"
   ]
  },
  {
   "cell_type": "code",
   "execution_count": 9,
   "id": "e6001ae1-2a93-44fc-96bc-758e2c40758c",
   "metadata": {
    "tags": []
   },
   "outputs": [
    {
     "data": {
      "text/plain": [
       "array(['Data Engineering', 'Data Architecture and Modeling',\n",
       "       'Data Science and Research', 'Machine Learning and AI',\n",
       "       'Data Analysis', 'Leadership and Management',\n",
       "       'BI and Visualization', 'Data Quality and Operations',\n",
       "       'Data Management and Strategy', 'Cloud and Database'], dtype=object)"
      ]
     },
     "execution_count": 9,
     "metadata": {},
     "output_type": "execute_result"
    }
   ],
   "source": [
    "dat[\"job_category\"].unique()"
   ]
  },
  {
   "cell_type": "markdown",
   "id": "f54e91f4-a2d2-40c1-b23c-340ccff0e5e9",
   "metadata": {},
   "source": [
    "### Preliminary Plotting"
   ]
  },
  {
   "cell_type": "markdown",
   "id": "57ab8ae4-a3cb-4941-9c2e-7cb8baaaaa85",
   "metadata": {},
   "source": [
    "To quickly learn about the relationships among the numerical variable, we will make use of graphs. They can help us quickly assess the quality and behavior of our numerical variables. "
   ]
  },
  {
   "cell_type": "markdown",
   "id": "3587ea5a-cbcd-480d-ba78-aa4f36d70097",
   "metadata": {},
   "source": [
    "First, we want to analyze the distributions of the salary variable. We will restrict our attention to the `salary_in_usd` column, since the regular `salary` column records its values with inconsistent units. A box plot will show us the overall skewness of the data. "
   ]
  },
  {
   "cell_type": "markdown",
   "id": "e34e3bcb-046d-4e97-9882-a3ce4089f960",
   "metadata": {},
   "source": [
    "We first want to assess the overall distribution of the salary (recorded in USD). To do this, we generate a box plot and histogram of the `salary_in_usd` variable. "
   ]
  },
  {
   "cell_type": "code",
   "execution_count": 10,
   "id": "81c98c43-509b-4637-8456-561af54fe964",
   "metadata": {
    "tags": []
   },
   "outputs": [
    {
     "data": {
      "text/plain": [
       "(array([ 507., 1631., 2719., 2195., 1356.,  588.,  242.,   77.,   34.,\n",
       "           6.]),\n",
       " array([ 15000.,  58500., 102000., 145500., 189000., 232500., 276000.,\n",
       "        319500., 363000., 406500., 450000.]),\n",
       " <BarContainer object of 10 artists>)"
      ]
     },
     "execution_count": 10,
     "metadata": {},
     "output_type": "execute_result"
    },
    {
     "data": {
      "image/png": "[encoded data removed]",
      "text/plain": [
       "<Figure size 1200x400 with 2 Axes>"
      ]
     },
     "metadata": {},
     "output_type": "display_data"
    }
   ],
   "source": [
    "# Use a subplot to show both figures side by side for easy comparison.\n",
    "sal_fig, x = plt.subplots(1,2, figsize = (12,4)) \n",
    "\n",
    "x[0].set_title(\"Box Plot of Salary (USD)\")\n",
    "x[0].set_xlabel(\"Salary (USD)\")\n",
    "x[0].boxplot(dat['salary_in_usd'], vert = False)\n",
    "\n",
    "x[1].set_title(\"Histogram of Salary (USD)\") \n",
    "x[1].set_xlabel(\"Salary (USD)\") \n",
    "x[1].set_ylabel(\"Count\")\n",
    "x[1].hist(dat['salary_in_usd'])"
   ]
  },
  {
   "cell_type": "markdown",
   "id": "66ea5235-1187-4064-b7fd-817be06299e8",
   "metadata": {},
   "source": [
    "The box plot indicates several potential outliers in the data (indicated by the circles on the right hand tail of the plot). This is also indicated on the histogram by the presence of a tail, indicating an overall right-skewed distribution. \n",
    "\n",
    "Both of these observations indicate that there are extreme values of salary on the higher end i.e. that there are a small subset of individuals who make substantially more than the median income for this field. Investigating this is an avenue for further investigation."
   ]
  },
  {
   "cell_type": "markdown",
   "id": "8721c7a8-d6ae-4910-9fb9-a8f6fbbd79b2",
   "metadata": {
    "tags": []
   },
   "source": [
    "# Some Correlation Analysis"
   ]
  },
  {
   "cell_type": "markdown",
   "id": "e2b6a4cc-d267-495d-8829-9dec3ab16989",
   "metadata": {},
   "source": [
    "Between the various columns, we plot correlations to see if any particular patterns are interesting or worth exploring further. This exploratory analysis is shown below."
   ]
  },
  {
   "cell_type": "markdown",
   "id": "b715a51d-687e-4544-8798-59bf4a683c1b",
   "metadata": {},
   "source": [
    "# Salary vs. Experience Level"
   ]
  },
  {
   "cell_type": "markdown",
   "id": "65f15757-2c38-4fa2-ba87-8e180fbb359e",
   "metadata": {
    "tags": []
   },
   "source": [
    "The general expectation is that higher level positions will correspond to higher salaries. That is visualized below."
   ]
  },
  {
   "cell_type": "code",
   "execution_count": 11,
   "id": "76508d94-9784-4d74-bfde-06f24fe88001",
   "metadata": {
    "tags": []
   },
   "outputs": [
    {
     "data": {
      "image/png": "[encoded data removed]",
      "text/plain": [
       "<Figure size 500x500 with 1 Axes>"
      ]
     },
     "metadata": {},
     "output_type": "display_data"
    }
   ],
   "source": [
    "salaries_by_job_exp = dat.groupby('experience_level')['salary_in_usd'].mean().sort_values()\n",
    "\n",
    "fig, ax = plt.subplots(figsize = (5,5))\n",
    "\n",
    "bars = ax.bar(x=salaries_by_job_exp.index, height=salaries_by_job_exp.values)\n",
    "ax.bar_label(bars, labels=[f'${it/1000:.2f}k' for it in salaries_by_job_exp])\n",
    "ax.yaxis.set_major_formatter('${x}')\n",
    "ax.set_xlabel('Experience level')\n",
    "ax.set_ylabel('Average salary')\n",
    "ax.set_title('Average salary vs. Experience level');"
   ]
  },
  {
   "cell_type": "markdown",
   "id": "69d07a22-99d2-4067-95f8-70eef5a3c451",
   "metadata": {},
   "source": [
    "The data here clearly matches the expectations above. We can delve into this with more depth, focusing on salaries within a certain field, shown below:"
   ]
  },
  {
   "cell_type": "code",
   "execution_count": 12,
   "id": "f5731a4a-f143-46c5-a628-3d72ad282450",
   "metadata": {
    "tags": []
   },
   "outputs": [
    {
     "data": {
      "image/png": "[encoded data removed]",
      "text/plain": [
       "<Figure size 1000x500 with 1 Axes>"
      ]
     },
     "metadata": {},
     "output_type": "display_data"
    }
   ],
   "source": [
    "salaries_by_job_cat = dat.groupby('job_category')['salary_in_usd'].mean().sort_values()\n",
    "\n",
    "fig, ax = plt.subplots(figsize = (10,5))\n",
    "\n",
    "bars = ax.barh(y=salaries_by_job_cat.index, width=salaries_by_job_cat.values)\n",
    "ax.bar_label(bars, labels=[f'${it/1000:.2f}k' for it in salaries_by_job_cat.values])\n",
    "ax.xaxis.set_major_formatter('${x}')\n",
    "ax.set_ylabel('Job category')\n",
    "ax.set_xlabel('Average salary')\n",
    "ax.set_title('Average salary vs. Job category');"
   ]
  },
  {
   "cell_type": "markdown",
   "id": "41e52c3d-9e01-4070-a57e-12f3b3ddd24b",
   "metadata": {},
   "source": [
    "The data seems to indicate that Machine Learning/AI/Data Science/Data Science Research jobs seem to pay the highest amounts on average."
   ]
  },
  {
   "cell_type": "markdown",
   "id": "6cc6f67a-31fa-4b3a-ba1a-0ecab1a5ae1a",
   "metadata": {
    "tags": []
   },
   "source": [
    "We can combine both of these pieces to see the range of salaries for each field."
   ]
  },
  {
   "cell_type": "code",
   "execution_count": 13,
   "id": "f6ae6b31-107d-4774-a328-0ad7210b8780",
   "metadata": {
    "tags": []
   },
   "outputs": [
    {
     "data": {
      "image/png": "[encoded data removed]",
      "text/plain": [
       "<Figure size 640x480 with 1 Axes>"
      ]
     },
     "metadata": {},
     "output_type": "display_data"
    }
   ],
   "source": [
    "salaries_by_job_cat_and_level = dat.groupby(['job_category', 'experience_level'])['salary_in_usd'].mean()\n",
    "\n",
    "reordered = salaries_by_job_cat_and_level.unstack()\n",
    "reordered = reordered.reindex(columns=['Entry-level', 'Mid-level', 'Senior', 'Executive'])\n",
    "ax = reordered.plot.barh()\n",
    "ax.xaxis.set_major_formatter('${x}')\n",
    "ax.set_ylabel('Job category')\n",
    "ax.set_xlabel('Average salary')\n",
    "plt.xticks(rotation=45)\n",
    "ax.set_title('Average salary vs. Job category for each level');"
   ]
  },
  {
   "cell_type": "markdown",
   "id": "f97afbb0-5cc0-40d5-bf00-38bb8f8d07f1",
   "metadata": {},
   "source": [
    "Within each job category, for the most part we can see that higher job levels lead to higher salaries. There is one visible exception for the data analysis jobs, where the mean senior salary is higher than that of the executives. This may be potentially be due to outliers."
   ]
  },
  {
   "cell_type": "markdown",
   "id": "19775d85-3501-4068-8881-d53086548f31",
   "metadata": {},
   "source": [
    "Next, we will see whether the title of the position has any general correlation with the salary for a certain field. To understand this, we will use regex to extract the defining name of any position and plot the average salary when grouping by that word."
   ]
  },
  {
   "cell_type": "markdown",
   "id": "0f6c3085-61c5-4d0d-81e6-77c920ecf649",
   "metadata": {
    "tags": []
   },
   "source": [
    "From the original list of unique jobs, we have the following:"
   ]
  },
  {
   "cell_type": "code",
   "execution_count": 14,
   "id": "7074994c-b1eb-43da-a2f3-c48b5659b999",
   "metadata": {
    "tags": []
   },
   "outputs": [
    {
     "name": "stdout",
     "output_type": "stream",
     "text": [
      "Data DevOps Engineer\n",
      "Data Architect\n",
      "Data Scientist\n",
      "Machine Learning Researcher\n",
      "Data Engineer\n",
      "Machine Learning Engineer\n",
      "Data Analyst\n",
      "Analytics Engineer\n",
      "Applied Scientist\n",
      "BI Developer\n",
      "Business Intelligence Engineer\n",
      "Research Scientist\n",
      "Research Analyst\n",
      "Research Engineer\n",
      "Data Science Engineer\n",
      "Data Quality Analyst\n",
      "Data Product Manager\n",
      "Machine Learning Scientist\n",
      "AI Engineer\n",
      "MLOps Engineer\n",
      "Deep Learning Engineer\n",
      "Data Modeler\n",
      "Data Product Owner\n",
      "Data Science Consultant\n",
      "Business Intelligence Analyst\n",
      "AI Developer\n",
      "Data Manager\n",
      "ML Engineer\n",
      "Data Science Director\n",
      "Head of Data\n",
      "BI Analyst\n",
      "Data Management Analyst\n",
      "Machine Learning Modeler\n",
      "Data Specialist\n",
      "BI Data Analyst\n",
      "Data Integration Engineer\n",
      "Business Intelligence Manager\n",
      "Data Integration Specialist\n",
      "Data Science Practitioner\n",
      "Business Intelligence Developer\n",
      "AI Research Engineer\n",
      "Data Lead\n",
      "Data Management Specialist\n",
      "AI Architect\n",
      "Data Science Manager\n",
      "Data Strategist\n",
      "Business Intelligence Specialist\n",
      "Machine Learning Infrastructure Engineer\n",
      "Data Quality Engineer\n",
      "Director of Data Science\n",
      "Business Data Analyst\n",
      "Decision Scientist\n",
      "Financial Data Analyst\n",
      "Data Strategy Manager\n",
      "Computer Vision Engineer\n",
      "Data Visualization Specialist\n",
      "Insight Analyst\n",
      "Data Visualization Engineer\n",
      "ETL Developer\n",
      "Data Analytics Manager\n",
      "Azure Data Engineer\n",
      "Data Developer\n",
      "Principal Data Scientist\n",
      "Data Science Lead\n",
      "Staff Data Analyst\n",
      "Data Infrastructure Engineer\n",
      "Machine Learning Software Engineer\n",
      "Machine Learning Operations Engineer\n",
      "AI Scientist\n",
      "Head of Machine Learning\n",
      "Applied Data Scientist\n",
      "AI Programmer\n",
      "Data Operations Analyst\n",
      "Applied Machine Learning Scientist\n",
      "Data Analytics Lead\n",
      "Data Operations Engineer\n",
      "Machine Learning Manager\n",
      "Lead Data Scientist\n",
      "Principal Machine Learning Engineer\n",
      "Principal Data Engineer\n",
      "Power BI Developer\n",
      "Head of Data Science\n",
      "Staff Machine Learning Engineer\n",
      "Staff Data Scientist\n",
      "Consultant Data Engineer\n",
      "Machine Learning Specialist\n",
      "Business Intelligence Data Analyst\n",
      "Data Operations Manager\n",
      "Lead Machine Learning Engineer\n",
      "Managing Director Data Science\n",
      "Data Modeller\n",
      "Finance Data Analyst\n",
      "Software Data Engineer\n",
      "Machine Learning Research Engineer\n",
      "Compliance Data Analyst\n",
      "Data Operations Specialist\n",
      "Cloud Data Engineer\n",
      "Analytics Engineering Manager\n",
      "NLP Engineer\n",
      "AWS Data Architect\n",
      "Product Data Analyst\n",
      "Machine Learning Developer\n",
      "Data Visualization Analyst\n",
      "Autonomous Vehicle Technician\n",
      "Sales Data Analyst\n",
      "Applied Machine Learning Engineer\n",
      "ETL Engineer\n",
      "Big Data Engineer\n",
      "Lead Data Analyst\n",
      "BI Data Engineer\n",
      "Cloud Database Engineer\n",
      "Deep Learning Researcher\n",
      "Data Analytics Specialist\n",
      "Big Data Architect\n",
      "Computer Vision Software Engineer\n",
      "Marketing Data Engineer\n",
      "Manager Data Management\n",
      "Data Analytics Consultant\n",
      "Data Science Tech Lead\n",
      "Data Scientist Lead\n",
      "Marketing Data Analyst\n",
      "Data Analytics Engineer\n",
      "Cloud Data Architect\n",
      "Lead Data Engineer\n",
      "Principal Data Analyst\n"
     ]
    }
   ],
   "source": [
    "for job in dat['job_title'].unique():\n",
    "    print(job)"
   ]
  },
  {
   "cell_type": "markdown",
   "id": "88523a67-512c-4000-9273-6ec352846417",
   "metadata": {
    "tags": []
   },
   "source": [
    "Using [regex101.com](https://regex101.com/r/HiEg0g/1), we created the following regex to extract the position from each job title:\n",
    "\n",
    "```python\n",
    "reg = r\"((Engineer|Architect|Scientist|Researcher|Analyst|Modeler|Owner|Consultant|Developer|Specialist|Strategist|Lead|Programmer|Modeller|Technician|Practitioner)$)|(Manager|Head|Director)\"\n",
    "```\n",
    "\n",
    "With this regex, we can create a new dataframe with the columns relevant to us. The regex is then used to create a new column with the position corresponding to each job."
   ]
  },
  {
   "cell_type": "code",
   "execution_count": 15,
   "id": "39cf7b52-8d59-49e7-a7c5-6586bfd4a80f",
   "metadata": {
    "tags": []
   },
   "outputs": [
    {
     "data": {
      "text/html": [
       "<div>\n",
       "<style scoped>\n",
       "    .dataframe tbody tr th:only-of-type {\n",
       "        vertical-align: middle;\n",
       "    }\n",
       "\n",
       "    .dataframe tbody tr th {\n",
       "        vertical-align: top;\n",
       "    }\n",
       "\n",
       "    .dataframe thead th {\n",
       "        text-align: right;\n",
       "    }\n",
       "</style>\n",
       "<table border=\"1\" class=\"dataframe\">\n",
       "  <thead>\n",
       "    <tr style=\"text-align: right;\">\n",
       "      <th></th>\n",
       "      <th>job_title</th>\n",
       "      <th>salary_in_usd</th>\n",
       "      <th>experience_level</th>\n",
       "      <th>job_position</th>\n",
       "    </tr>\n",
       "  </thead>\n",
       "  <tbody>\n",
       "    <tr>\n",
       "      <th>0</th>\n",
       "      <td>Data DevOps Engineer</td>\n",
       "      <td>95012</td>\n",
       "      <td>Mid-level</td>\n",
       "      <td>Engineer</td>\n",
       "    </tr>\n",
       "    <tr>\n",
       "      <th>1</th>\n",
       "      <td>Data Architect</td>\n",
       "      <td>186000</td>\n",
       "      <td>Senior</td>\n",
       "      <td>Architect</td>\n",
       "    </tr>\n",
       "    <tr>\n",
       "      <th>2</th>\n",
       "      <td>Data Architect</td>\n",
       "      <td>81800</td>\n",
       "      <td>Senior</td>\n",
       "      <td>Architect</td>\n",
       "    </tr>\n",
       "    <tr>\n",
       "      <th>3</th>\n",
       "      <td>Data Scientist</td>\n",
       "      <td>212000</td>\n",
       "      <td>Senior</td>\n",
       "      <td>Scientist</td>\n",
       "    </tr>\n",
       "    <tr>\n",
       "      <th>4</th>\n",
       "      <td>Data Scientist</td>\n",
       "      <td>93300</td>\n",
       "      <td>Senior</td>\n",
       "      <td>Scientist</td>\n",
       "    </tr>\n",
       "    <tr>\n",
       "      <th>...</th>\n",
       "      <td>...</td>\n",
       "      <td>...</td>\n",
       "      <td>...</td>\n",
       "      <td>...</td>\n",
       "    </tr>\n",
       "    <tr>\n",
       "      <th>9350</th>\n",
       "      <td>Data Specialist</td>\n",
       "      <td>165000</td>\n",
       "      <td>Senior</td>\n",
       "      <td>Specialist</td>\n",
       "    </tr>\n",
       "    <tr>\n",
       "      <th>9351</th>\n",
       "      <td>Data Scientist</td>\n",
       "      <td>412000</td>\n",
       "      <td>Senior</td>\n",
       "      <td>Scientist</td>\n",
       "    </tr>\n",
       "    <tr>\n",
       "      <th>9352</th>\n",
       "      <td>Principal Data Scientist</td>\n",
       "      <td>151000</td>\n",
       "      <td>Mid-level</td>\n",
       "      <td>Scientist</td>\n",
       "    </tr>\n",
       "    <tr>\n",
       "      <th>9353</th>\n",
       "      <td>Data Scientist</td>\n",
       "      <td>105000</td>\n",
       "      <td>Entry-level</td>\n",
       "      <td>Scientist</td>\n",
       "    </tr>\n",
       "    <tr>\n",
       "      <th>9354</th>\n",
       "      <td>Business Data Analyst</td>\n",
       "      <td>100000</td>\n",
       "      <td>Entry-level</td>\n",
       "      <td>Analyst</td>\n",
       "    </tr>\n",
       "  </tbody>\n",
       "</table>\n",
       "<p>9355 rows × 4 columns</p>\n",
       "</div>"
      ],
      "text/plain": [
       "                     job_title  salary_in_usd experience_level job_position\n",
       "0         Data DevOps Engineer          95012        Mid-level     Engineer\n",
       "1               Data Architect         186000           Senior    Architect\n",
       "2               Data Architect          81800           Senior    Architect\n",
       "3               Data Scientist         212000           Senior    Scientist\n",
       "4               Data Scientist          93300           Senior    Scientist\n",
       "...                        ...            ...              ...          ...\n",
       "9350           Data Specialist         165000           Senior   Specialist\n",
       "9351            Data Scientist         412000           Senior    Scientist\n",
       "9352  Principal Data Scientist         151000        Mid-level    Scientist\n",
       "9353            Data Scientist         105000      Entry-level    Scientist\n",
       "9354     Business Data Analyst         100000      Entry-level      Analyst\n",
       "\n",
       "[9355 rows x 4 columns]"
      ]
     },
     "execution_count": 15,
     "metadata": {},
     "output_type": "execute_result"
    }
   ],
   "source": [
    "position_dat = dat[[\"job_title\", \"salary_in_usd\", \"experience_level\"]].copy()\n",
    "\n",
    "reg = r\"(Engineer$|Architect$|Scientist$|Researcher$|Analyst$|Modeler$|Owner$|Consultant$|Developer$|Specialist$|Strategist$|Lead$|Programmer$|Modeller$|Technician$|Practitioner$|Manager|Head|Director)\"\n",
    "position_dat['job_position'] = dat['job_title'].str.extract(reg)\n",
    "\n",
    "position_dat"
   ]
  },
  {
   "cell_type": "markdown",
   "id": "d0d806de-9afc-432a-9822-6df763f03aaf",
   "metadata": {
    "tags": []
   },
   "source": [
    "We can then group by this new job position and inspect the output"
   ]
  },
  {
   "cell_type": "code",
   "execution_count": 16,
   "id": "61fef524-22b7-461b-8046-9c8a2979b023",
   "metadata": {
    "tags": []
   },
   "outputs": [
    {
     "data": {
      "text/html": [
       "<div>\n",
       "<style scoped>\n",
       "    .dataframe tbody tr th:only-of-type {\n",
       "        vertical-align: middle;\n",
       "    }\n",
       "\n",
       "    .dataframe tbody tr th {\n",
       "        vertical-align: top;\n",
       "    }\n",
       "\n",
       "    .dataframe thead th {\n",
       "        text-align: right;\n",
       "    }\n",
       "</style>\n",
       "<table border=\"1\" class=\"dataframe\">\n",
       "  <thead>\n",
       "    <tr style=\"text-align: right;\">\n",
       "      <th></th>\n",
       "      <th>count</th>\n",
       "      <th>mean</th>\n",
       "      <th>std</th>\n",
       "      <th>min</th>\n",
       "      <th>25%</th>\n",
       "      <th>50%</th>\n",
       "      <th>75%</th>\n",
       "      <th>max</th>\n",
       "    </tr>\n",
       "    <tr>\n",
       "      <th>job_position</th>\n",
       "      <th></th>\n",
       "      <th></th>\n",
       "      <th></th>\n",
       "      <th></th>\n",
       "      <th></th>\n",
       "      <th></th>\n",
       "      <th></th>\n",
       "      <th></th>\n",
       "    </tr>\n",
       "  </thead>\n",
       "  <tbody>\n",
       "    <tr>\n",
       "      <th>Analyst</th>\n",
       "      <td>1613.0</td>\n",
       "      <td>108598.092374</td>\n",
       "      <td>43916.964440</td>\n",
       "      <td>15000.0</td>\n",
       "      <td>78000.00</td>\n",
       "      <td>105000.0</td>\n",
       "      <td>135000.00</td>\n",
       "      <td>430967.0</td>\n",
       "    </tr>\n",
       "    <tr>\n",
       "      <th>Architect</th>\n",
       "      <td>229.0</td>\n",
       "      <td>169040.737991</td>\n",
       "      <td>60073.769544</td>\n",
       "      <td>52500.0</td>\n",
       "      <td>125600.00</td>\n",
       "      <td>165000.0</td>\n",
       "      <td>200000.00</td>\n",
       "      <td>376080.0</td>\n",
       "    </tr>\n",
       "    <tr>\n",
       "      <th>Consultant</th>\n",
       "      <td>46.0</td>\n",
       "      <td>103985.434783</td>\n",
       "      <td>38697.862424</td>\n",
       "      <td>21000.0</td>\n",
       "      <td>76833.00</td>\n",
       "      <td>108825.0</td>\n",
       "      <td>128100.00</td>\n",
       "      <td>189750.0</td>\n",
       "    </tr>\n",
       "    <tr>\n",
       "      <th>Developer</th>\n",
       "      <td>120.0</td>\n",
       "      <td>116766.791667</td>\n",
       "      <td>51278.161956</td>\n",
       "      <td>15000.0</td>\n",
       "      <td>76735.50</td>\n",
       "      <td>110000.0</td>\n",
       "      <td>140000.00</td>\n",
       "      <td>275000.0</td>\n",
       "    </tr>\n",
       "    <tr>\n",
       "      <th>Director</th>\n",
       "      <td>34.0</td>\n",
       "      <td>221281.941176</td>\n",
       "      <td>72362.144112</td>\n",
       "      <td>57786.0</td>\n",
       "      <td>185920.00</td>\n",
       "      <td>212000.0</td>\n",
       "      <td>249825.00</td>\n",
       "      <td>375500.0</td>\n",
       "    </tr>\n",
       "    <tr>\n",
       "      <th>Engineer</th>\n",
       "      <td>4090.0</td>\n",
       "      <td>159135.023227</td>\n",
       "      <td>62873.307651</td>\n",
       "      <td>15966.0</td>\n",
       "      <td>115872.50</td>\n",
       "      <td>152000.0</td>\n",
       "      <td>200000.00</td>\n",
       "      <td>430640.0</td>\n",
       "    </tr>\n",
       "    <tr>\n",
       "      <th>Head</th>\n",
       "      <td>46.0</td>\n",
       "      <td>207978.217391</td>\n",
       "      <td>78725.393790</td>\n",
       "      <td>31520.0</td>\n",
       "      <td>146650.00</td>\n",
       "      <td>204750.0</td>\n",
       "      <td>269600.00</td>\n",
       "      <td>330000.0</td>\n",
       "    </tr>\n",
       "    <tr>\n",
       "      <th>Lead</th>\n",
       "      <td>40.0</td>\n",
       "      <td>181054.125000</td>\n",
       "      <td>77908.919865</td>\n",
       "      <td>38000.0</td>\n",
       "      <td>129825.00</td>\n",
       "      <td>180000.0</td>\n",
       "      <td>225000.00</td>\n",
       "      <td>405000.0</td>\n",
       "    </tr>\n",
       "    <tr>\n",
       "      <th>Manager</th>\n",
       "      <td>280.0</td>\n",
       "      <td>146943.750000</td>\n",
       "      <td>61706.262243</td>\n",
       "      <td>45600.0</td>\n",
       "      <td>110000.00</td>\n",
       "      <td>134118.0</td>\n",
       "      <td>174250.00</td>\n",
       "      <td>399880.0</td>\n",
       "    </tr>\n",
       "    <tr>\n",
       "      <th>Modeler</th>\n",
       "      <td>24.0</td>\n",
       "      <td>131408.500000</td>\n",
       "      <td>38868.884496</td>\n",
       "      <td>55368.0</td>\n",
       "      <td>100000.00</td>\n",
       "      <td>140000.0</td>\n",
       "      <td>161500.00</td>\n",
       "      <td>204500.0</td>\n",
       "    </tr>\n",
       "    <tr>\n",
       "      <th>Modeller</th>\n",
       "      <td>2.0</td>\n",
       "      <td>83052.000000</td>\n",
       "      <td>39151.088261</td>\n",
       "      <td>55368.0</td>\n",
       "      <td>69210.00</td>\n",
       "      <td>83052.0</td>\n",
       "      <td>96894.00</td>\n",
       "      <td>110736.0</td>\n",
       "    </tr>\n",
       "    <tr>\n",
       "      <th>Owner</th>\n",
       "      <td>2.0</td>\n",
       "      <td>89204.000000</td>\n",
       "      <td>21750.604589</td>\n",
       "      <td>73824.0</td>\n",
       "      <td>81514.00</td>\n",
       "      <td>89204.0</td>\n",
       "      <td>96894.00</td>\n",
       "      <td>104584.0</td>\n",
       "    </tr>\n",
       "    <tr>\n",
       "      <th>Practitioner</th>\n",
       "      <td>10.0</td>\n",
       "      <td>144480.000000</td>\n",
       "      <td>47672.186161</td>\n",
       "      <td>83900.0</td>\n",
       "      <td>103625.00</td>\n",
       "      <td>146400.0</td>\n",
       "      <td>189925.00</td>\n",
       "      <td>198800.0</td>\n",
       "    </tr>\n",
       "    <tr>\n",
       "      <th>Programmer</th>\n",
       "      <td>5.0</td>\n",
       "      <td>68817.400000</td>\n",
       "      <td>32824.194031</td>\n",
       "      <td>40000.0</td>\n",
       "      <td>40000.00</td>\n",
       "      <td>70000.0</td>\n",
       "      <td>74087.00</td>\n",
       "      <td>120000.0</td>\n",
       "    </tr>\n",
       "    <tr>\n",
       "      <th>Researcher</th>\n",
       "      <td>18.0</td>\n",
       "      <td>138161.055556</td>\n",
       "      <td>50023.538792</td>\n",
       "      <td>50000.0</td>\n",
       "      <td>100000.00</td>\n",
       "      <td>134350.0</td>\n",
       "      <td>169000.00</td>\n",
       "      <td>224400.0</td>\n",
       "    </tr>\n",
       "    <tr>\n",
       "      <th>Scientist</th>\n",
       "      <td>2705.0</td>\n",
       "      <td>162721.554529</td>\n",
       "      <td>61810.604253</td>\n",
       "      <td>16000.0</td>\n",
       "      <td>128000.00</td>\n",
       "      <td>159100.0</td>\n",
       "      <td>200000.00</td>\n",
       "      <td>450000.0</td>\n",
       "    </tr>\n",
       "    <tr>\n",
       "      <th>Specialist</th>\n",
       "      <td>71.0</td>\n",
       "      <td>101572.788732</td>\n",
       "      <td>45657.832053</td>\n",
       "      <td>40000.0</td>\n",
       "      <td>70000.00</td>\n",
       "      <td>87500.0</td>\n",
       "      <td>115000.00</td>\n",
       "      <td>259900.0</td>\n",
       "    </tr>\n",
       "    <tr>\n",
       "      <th>Strategist</th>\n",
       "      <td>18.0</td>\n",
       "      <td>95833.888889</td>\n",
       "      <td>25958.514074</td>\n",
       "      <td>65000.0</td>\n",
       "      <td>85250.00</td>\n",
       "      <td>88000.0</td>\n",
       "      <td>104000.00</td>\n",
       "      <td>175000.0</td>\n",
       "    </tr>\n",
       "    <tr>\n",
       "      <th>Technician</th>\n",
       "      <td>2.0</td>\n",
       "      <td>82777.500000</td>\n",
       "      <td>52640.564325</td>\n",
       "      <td>45555.0</td>\n",
       "      <td>64166.25</td>\n",
       "      <td>82777.5</td>\n",
       "      <td>101388.75</td>\n",
       "      <td>120000.0</td>\n",
       "    </tr>\n",
       "  </tbody>\n",
       "</table>\n",
       "</div>"
      ],
      "text/plain": [
       "               count           mean           std      min        25%  \\\n",
       "job_position                                                            \n",
       "Analyst       1613.0  108598.092374  43916.964440  15000.0   78000.00   \n",
       "Architect      229.0  169040.737991  60073.769544  52500.0  125600.00   \n",
       "Consultant      46.0  103985.434783  38697.862424  21000.0   76833.00   \n",
       "Developer      120.0  116766.791667  51278.161956  15000.0   76735.50   \n",
       "Director        34.0  221281.941176  72362.144112  57786.0  185920.00   \n",
       "Engineer      4090.0  159135.023227  62873.307651  15966.0  115872.50   \n",
       "Head            46.0  207978.217391  78725.393790  31520.0  146650.00   \n",
       "Lead            40.0  181054.125000  77908.919865  38000.0  129825.00   \n",
       "Manager        280.0  146943.750000  61706.262243  45600.0  110000.00   \n",
       "Modeler         24.0  131408.500000  38868.884496  55368.0  100000.00   \n",
       "Modeller         2.0   83052.000000  39151.088261  55368.0   69210.00   \n",
       "Owner            2.0   89204.000000  21750.604589  73824.0   81514.00   \n",
       "Practitioner    10.0  144480.000000  47672.186161  83900.0  103625.00   \n",
       "Programmer       5.0   68817.400000  32824.194031  40000.0   40000.00   \n",
       "Researcher      18.0  138161.055556  50023.538792  50000.0  100000.00   \n",
       "Scientist     2705.0  162721.554529  61810.604253  16000.0  128000.00   \n",
       "Specialist      71.0  101572.788732  45657.832053  40000.0   70000.00   \n",
       "Strategist      18.0   95833.888889  25958.514074  65000.0   85250.00   \n",
       "Technician       2.0   82777.500000  52640.564325  45555.0   64166.25   \n",
       "\n",
       "                   50%        75%       max  \n",
       "job_position                                 \n",
       "Analyst       105000.0  135000.00  430967.0  \n",
       "Architect     165000.0  200000.00  376080.0  \n",
       "Consultant    108825.0  128100.00  189750.0  \n",
       "Developer     110000.0  140000.00  275000.0  \n",
       "Director      212000.0  249825.00  375500.0  \n",
       "Engineer      152000.0  200000.00  430640.0  \n",
       "Head          204750.0  269600.00  330000.0  \n",
       "Lead          180000.0  225000.00  405000.0  \n",
       "Manager       134118.0  174250.00  399880.0  \n",
       "Modeler       140000.0  161500.00  204500.0  \n",
       "Modeller       83052.0   96894.00  110736.0  \n",
       "Owner          89204.0   96894.00  104584.0  \n",
       "Practitioner  146400.0  189925.00  198800.0  \n",
       "Programmer     70000.0   74087.00  120000.0  \n",
       "Researcher    134350.0  169000.00  224400.0  \n",
       "Scientist     159100.0  200000.00  450000.0  \n",
       "Specialist     87500.0  115000.00  259900.0  \n",
       "Strategist     88000.0  104000.00  175000.0  \n",
       "Technician     82777.5  101388.75  120000.0  "
      ]
     },
     "execution_count": 16,
     "metadata": {},
     "output_type": "execute_result"
    }
   ],
   "source": [
    "salaries_by_job_position = position_dat.groupby('job_position')['salary_in_usd']\n",
    "salaries_by_job_position.describe()"
   ]
  },
  {
   "cell_type": "markdown",
   "id": "aee9c2a2-cfd4-4cd8-a0dc-d46bc18e7c6c",
   "metadata": {
    "tags": []
   },
   "source": [
    "Clearly, some job positions (Engineer, Scientist) have many more values compared to the others. Keeping this in mind, we use two different bar colors for groups where the number of jobs is under a specified threshold."
   ]
  },
  {
   "cell_type": "code",
   "execution_count": 17,
   "id": "daa55e7d-fe3a-4c58-b354-b9f4c9a16f41",
   "metadata": {
    "tags": []
   },
   "outputs": [
    {
     "data": {
      "image/png": "[encoded data removed]",
      "text/plain": [
       "<Figure size 1000x500 with 1 Axes>"
      ]
     },
     "metadata": {},
     "output_type": "display_data"
    }
   ],
   "source": [
    "threshold = 40\n",
    "\n",
    "to_graph = salaries_by_job_position.mean().sort_values()\n",
    "\n",
    "fig, ax = plt.subplots(figsize = (10,5))\n",
    "\n",
    "bars = ax.barh(y=to_graph.index, width=to_graph.values, color=[\"blue\" if salaries_by_job_position.count()[val] > threshold else \"green\" for val in to_graph.index])\n",
    "ax.bar_label(bars, labels=[f'${it/1000:.2f}k' for it in to_graph.values])\n",
    "ax.xaxis.set_major_formatter('${x}')\n",
    "ax.set_ylabel('Job position')\n",
    "ax.set_xlabel('Average salary')\n",
    "ax.set_title('Average salary vs. Job position');"
   ]
  },
  {
   "cell_type": "markdown",
   "id": "d83fc981-93dd-4526-8467-76ad2ea4f324",
   "metadata": {},
   "source": [
    "In the graph above, the bars that are below the threshold are colored green. Generally though, Director/Head/Lead positions seem to have the highest salaries."
   ]
  },
  {
   "cell_type": "markdown",
   "id": "53fb05dc-8117-4eea-a779-6d486aa8db20",
   "metadata": {},
   "source": [
    "## Filtering Out Common Keywords"
   ]
  },
  {
   "cell_type": "markdown",
   "id": "b22d7c83-f928-4948-bd04-dff445118b8b",
   "metadata": {},
   "source": [
    "We would like to see how the job title impacts the salary in the outlier group, and compare it to the no outliers group. However, there are many unique job titles and it would be impractical to search through all of them. \n",
    "\n",
    "Instead, we search for specific \"buzz words\" in the job titles. We expect words like \"data\", \"machine learing\", \"AI\", and \"artifical intelligence\" to be in all the job titles. We suspect, however, that modifiers like \"engineer\", \"architect\", \"scientist\", \"developer\", etc. will have an impact on the salary. Thus, we simply filter common words out and leave only these \"buzz words\"."
   ]
  },
  {
   "cell_type": "code",
   "execution_count": 18,
   "id": "bba29911-02eb-4b89-a1bb-4415eb622568",
   "metadata": {
    "tags": []
   },
   "outputs": [],
   "source": [
    "# Common words to filter out \n",
    "words_rem = [\"machine\", \"learning\", \"ml\", \"data\", \"ai\", \"artificial\",  \"intelligence\", \"analytics\", \"deep\", \"of\"]"
   ]
  },
  {
   "cell_type": "code",
   "execution_count": 19,
   "id": "93270a49-2c38-4ee3-a3e5-16bef1833e92",
   "metadata": {
    "tags": []
   },
   "outputs": [],
   "source": [
    "# Remove the words from the list case insensitive\n",
    "def remove_common_words (title):\n",
    "    words = ''\n",
    "    for word in title.split():\n",
    "        words = ','.join([i for i in title.split() if i.lower() not in words_rem])\n",
    "    return words"
   ]
  },
  {
   "cell_type": "code",
   "execution_count": 20,
   "id": "0f519768-7790-4c02-a605-8b572b54a586",
   "metadata": {
    "tags": []
   },
   "outputs": [],
   "source": [
    "dat[\"job_title_keywords\"] = dat[\"job_title\"].apply(remove_common_words)"
   ]
  },
  {
   "cell_type": "markdown",
   "id": "fa520ff0-39c0-4230-b857-4b266139b0d9",
   "metadata": {},
   "source": [
    "## Analysis Of Outliers"
   ]
  },
  {
   "cell_type": "markdown",
   "id": "425763a7-9d33-406a-bea9-fef48000b0d8",
   "metadata": {
    "tags": []
   },
   "source": [
    "As indicated above, there are several outliers present in the data set. We would like to see what patterns lead to such a high salary. \n",
    "\n",
    "We will first gather all the outliers, which are computed using the 1.5*IQR rule. The interquartile range (IQR) is first computed as $$\\text{IQR} = \\text{upper quartile} - \\text{lower quartile}$$The cutoff for an outlier is then given as $$\\text{min} = \\text{upper quartile} + 1.5 \\times \\text{IQR}$$"
   ]
  },
  {
   "cell_type": "code",
   "execution_count": 21,
   "id": "13b786d3-8aff-428b-938b-bf4dfea59f14",
   "metadata": {
    "tags": []
   },
   "outputs": [],
   "source": [
    "# Use the 1.5 * IQR to get the outliers \n",
    "lower_quartile = np.quantile(dat[\"salary_in_usd\"], 0.25)\n",
    "upper_quartile = np.quantile(dat[\"salary_in_usd\"], 0.75) \n",
    "IQR = upper_quartile - lower_quartile"
   ]
  },
  {
   "cell_type": "code",
   "execution_count": 22,
   "id": "8dcaeedb-835a-4e5e-8bcf-73f05b4d848a",
   "metadata": {
    "tags": []
   },
   "outputs": [],
   "source": [
    "# Lower cutoff for the outliers \n",
    "low = upper_quartile + 1.5 * IQR "
   ]
  },
  {
   "cell_type": "code",
   "execution_count": 23,
   "id": "48159110-e732-4b0d-8cfd-975a7afcab82",
   "metadata": {
    "tags": []
   },
   "outputs": [],
   "source": [
    "# Get the outliers from the data set \n",
    "outliers = dat[dat[\"salary_in_usd\"] > low]\n",
    "wo_outliers = dat[dat[\"salary_in_usd\"] <= low]"
   ]
  },
  {
   "cell_type": "code",
   "execution_count": 24,
   "id": "36db0317-cbfc-4a8b-9ede-80e1ca8c9634",
   "metadata": {
    "tags": []
   },
   "outputs": [],
   "source": [
    "# Add a row in the table for whether the data point is an outlier or not\n",
    "dat[\"outlier\"] = dat[\"salary_in_usd\"] > low"
   ]
  },
  {
   "cell_type": "markdown",
   "id": "56dd5e49-0bdb-493c-9c84-606dec3d940f",
   "metadata": {},
   "source": [
    "We will now gather some basic information on the outliers using the `describe()` function from pandas."
   ]
  },
  {
   "cell_type": "code",
   "execution_count": 25,
   "id": "b7f9517d-4912-436f-a3de-d17611a43643",
   "metadata": {
    "tags": []
   },
   "outputs": [
    {
     "data": {
      "text/plain": [
       "count       158.000000\n",
       "mean     341917.436709\n",
       "std       30203.875365\n",
       "min      309000.000000\n",
       "25%      318475.000000\n",
       "50%      331640.000000\n",
       "75%      364222.500000\n",
       "max      450000.000000\n",
       "Name: salary_in_usd, dtype: float64"
      ]
     },
     "execution_count": 25,
     "metadata": {},
     "output_type": "execute_result"
    }
   ],
   "source": [
    "outliers[\"salary_in_usd\"].describe()"
   ]
  },
  {
   "cell_type": "code",
   "execution_count": 26,
   "id": "69f30029-6eaa-42f0-9a6b-639df6138435",
   "metadata": {
    "tags": []
   },
   "outputs": [
    {
     "data": {
      "text/plain": [
       "count      9197.000000\n",
       "mean     147007.592258\n",
       "std       58332.569893\n",
       "min       15000.000000\n",
       "25%      105000.000000\n",
       "50%      142200.000000\n",
       "75%      185000.000000\n",
       "max      308000.000000\n",
       "Name: salary_in_usd, dtype: float64"
      ]
     },
     "execution_count": 26,
     "metadata": {},
     "output_type": "execute_result"
    }
   ],
   "source": [
    "wo_outliers[\"salary_in_usd\"].describe()"
   ]
  },
  {
   "cell_type": "markdown",
   "id": "05aa0dbc-56cc-476a-ad7f-8ce501f6c78e",
   "metadata": {},
   "source": [
    "### A Brief Lexical Comparison Between The Two Sets"
   ]
  },
  {
   "cell_type": "markdown",
   "id": "f5e32e31-d1ca-4f10-b739-0535747d2b65",
   "metadata": {},
   "source": [
    "As stated above, we would like to see if we can observe common trends among salary from the job title alone. We conduct a lexical comparison, where we try to isolate specific keywords in the job title and see if there are patterns that explain the high salaries in the outlier set."
   ]
  },
  {
   "cell_type": "code",
   "execution_count": 27,
   "id": "7745d7d0-8362-4d23-89bd-11755e7a982b",
   "metadata": {
    "tags": []
   },
   "outputs": [],
   "source": [
    "# We now want to count the number of each word in the outlier set and the no outlier set. \n",
    "outlier_words = {} \n",
    "no_outlier_words = {}"
   ]
  },
  {
   "cell_type": "code",
   "execution_count": 28,
   "id": "75aa9997-6589-4aff-9997-30ad949b8fd2",
   "metadata": {
    "tags": []
   },
   "outputs": [],
   "source": [
    "for words in outliers[\"job_title_keywords\"]:\n",
    "    word_list = words.split(',')\n",
    "    for word in word_list:\n",
    "        if word not in outlier_words:\n",
    "            outlier_words[word] = 1 \n",
    "        else:\n",
    "            outlier_words[word] += 1\n",
    "            \n",
    "for words in wo_outliers[\"job_title_keywords\"]:\n",
    "    word_list = words.split(',')\n",
    "    for word in word_list:\n",
    "        if word not in no_outlier_words:\n",
    "            no_outlier_words[word] = 1 \n",
    "        else:\n",
    "            no_outlier_words[word] += 1"
   ]
  },
  {
   "cell_type": "markdown",
   "id": "46b2d1ef-7a09-4ae0-ac03-2d25e476fe3d",
   "metadata": {},
   "source": [
    "We now use the counts in the dictionary to create a data frame in which we compare the counts of each word in the outlier dictionaries. "
   ]
  },
  {
   "cell_type": "code",
   "execution_count": 29,
   "id": "e8221ffc-f433-4cf2-8e44-e070196c3c4a",
   "metadata": {
    "tags": []
   },
   "outputs": [
    {
     "data": {
      "text/html": [
       "<div>\n",
       "<style scoped>\n",
       "    .dataframe tbody tr th:only-of-type {\n",
       "        vertical-align: middle;\n",
       "    }\n",
       "\n",
       "    .dataframe tbody tr th {\n",
       "        vertical-align: top;\n",
       "    }\n",
       "\n",
       "    .dataframe thead th {\n",
       "        text-align: right;\n",
       "    }\n",
       "</style>\n",
       "<table border=\"1\" class=\"dataframe\">\n",
       "  <thead>\n",
       "    <tr style=\"text-align: right;\">\n",
       "      <th></th>\n",
       "      <th>word_count_outlier</th>\n",
       "      <th>word</th>\n",
       "    </tr>\n",
       "  </thead>\n",
       "  <tbody>\n",
       "    <tr>\n",
       "      <th>Engineer</th>\n",
       "      <td>78</td>\n",
       "      <td>Engineer</td>\n",
       "    </tr>\n",
       "    <tr>\n",
       "      <th>Research</th>\n",
       "      <td>17</td>\n",
       "      <td>Research</td>\n",
       "    </tr>\n",
       "    <tr>\n",
       "      <th>Scientist</th>\n",
       "      <td>51</td>\n",
       "      <td>Scientist</td>\n",
       "    </tr>\n",
       "    <tr>\n",
       "      <th>Architect</th>\n",
       "      <td>8</td>\n",
       "      <td>Architect</td>\n",
       "    </tr>\n",
       "    <tr>\n",
       "      <th>Director</th>\n",
       "      <td>5</td>\n",
       "      <td>Director</td>\n",
       "    </tr>\n",
       "  </tbody>\n",
       "</table>\n",
       "</div>"
      ],
      "text/plain": [
       "           word_count_outlier       word\n",
       "Engineer                   78   Engineer\n",
       "Research                   17   Research\n",
       "Scientist                  51  Scientist\n",
       "Architect                   8  Architect\n",
       "Director                    5   Director"
      ]
     },
     "execution_count": 29,
     "metadata": {},
     "output_type": "execute_result"
    }
   ],
   "source": [
    "word_counts_outliers = pd.DataFrame.from_dict(outlier_words, orient=\"index\", columns=[\"word_count_outlier\"]) \n",
    "word_counts_outliers[\"word\"] = word_counts_outliers.index\n",
    "word_counts_outliers.head()"
   ]
  },
  {
   "cell_type": "code",
   "execution_count": 30,
   "id": "7056264e-b72c-4714-9ad8-a4765ed9ba94",
   "metadata": {
    "tags": []
   },
   "outputs": [
    {
     "data": {
      "text/html": [
       "<div>\n",
       "<style scoped>\n",
       "    .dataframe tbody tr th:only-of-type {\n",
       "        vertical-align: middle;\n",
       "    }\n",
       "\n",
       "    .dataframe tbody tr th {\n",
       "        vertical-align: top;\n",
       "    }\n",
       "\n",
       "    .dataframe thead th {\n",
       "        text-align: right;\n",
       "    }\n",
       "</style>\n",
       "<table border=\"1\" class=\"dataframe\">\n",
       "  <thead>\n",
       "    <tr style=\"text-align: right;\">\n",
       "      <th></th>\n",
       "      <th>word_count_no_outlier</th>\n",
       "      <th>word</th>\n",
       "    </tr>\n",
       "  </thead>\n",
       "  <tbody>\n",
       "    <tr>\n",
       "      <th>DevOps</th>\n",
       "      <td>2</td>\n",
       "      <td>DevOps</td>\n",
       "    </tr>\n",
       "    <tr>\n",
       "      <th>Engineer</th>\n",
       "      <td>4012</td>\n",
       "      <td>Engineer</td>\n",
       "    </tr>\n",
       "    <tr>\n",
       "      <th>Architect</th>\n",
       "      <td>221</td>\n",
       "      <td>Architect</td>\n",
       "    </tr>\n",
       "    <tr>\n",
       "      <th>Scientist</th>\n",
       "      <td>2656</td>\n",
       "      <td>Scientist</td>\n",
       "    </tr>\n",
       "    <tr>\n",
       "      <th>Researcher</th>\n",
       "      <td>18</td>\n",
       "      <td>Researcher</td>\n",
       "    </tr>\n",
       "  </tbody>\n",
       "</table>\n",
       "</div>"
      ],
      "text/plain": [
       "            word_count_no_outlier        word\n",
       "DevOps                          2      DevOps\n",
       "Engineer                     4012    Engineer\n",
       "Architect                     221   Architect\n",
       "Scientist                    2656   Scientist\n",
       "Researcher                     18  Researcher"
      ]
     },
     "execution_count": 30,
     "metadata": {},
     "output_type": "execute_result"
    }
   ],
   "source": [
    "word_counts_no_outliers = pd.DataFrame.from_dict(no_outlier_words, orient=\"index\", columns=[\"word_count_no_outlier\"]) \n",
    "word_counts_no_outliers[\"word\"] = word_counts_no_outliers.index\n",
    "word_counts_no_outliers.head()"
   ]
  },
  {
   "cell_type": "markdown",
   "id": "6902cec5-c365-4d11-9040-06b0ccaecf10",
   "metadata": {},
   "source": [
    "We now join the two word count data frames into one so we can easily compare them."
   ]
  },
  {
   "cell_type": "code",
   "execution_count": 31,
   "id": "0286546b-a06b-4369-9fea-772897dd296e",
   "metadata": {
    "tags": []
   },
   "outputs": [
    {
     "data": {
      "text/html": [
       "<div>\n",
       "<style scoped>\n",
       "    .dataframe tbody tr th:only-of-type {\n",
       "        vertical-align: middle;\n",
       "    }\n",
       "\n",
       "    .dataframe tbody tr th {\n",
       "        vertical-align: top;\n",
       "    }\n",
       "\n",
       "    .dataframe thead th {\n",
       "        text-align: right;\n",
       "    }\n",
       "</style>\n",
       "<table border=\"1\" class=\"dataframe\">\n",
       "  <thead>\n",
       "    <tr style=\"text-align: right;\">\n",
       "      <th></th>\n",
       "      <th>no_outlier_count</th>\n",
       "      <th>word</th>\n",
       "      <th>outlier_count</th>\n",
       "    </tr>\n",
       "  </thead>\n",
       "  <tbody>\n",
       "    <tr>\n",
       "      <th>DevOps</th>\n",
       "      <td>2.0</td>\n",
       "      <td>DevOps</td>\n",
       "      <td>0.0</td>\n",
       "    </tr>\n",
       "    <tr>\n",
       "      <th>Engineer</th>\n",
       "      <td>4012.0</td>\n",
       "      <td>Engineer</td>\n",
       "      <td>78.0</td>\n",
       "    </tr>\n",
       "    <tr>\n",
       "      <th>Architect</th>\n",
       "      <td>221.0</td>\n",
       "      <td>Architect</td>\n",
       "      <td>8.0</td>\n",
       "    </tr>\n",
       "    <tr>\n",
       "      <th>Scientist</th>\n",
       "      <td>2656.0</td>\n",
       "      <td>Scientist</td>\n",
       "      <td>51.0</td>\n",
       "    </tr>\n",
       "    <tr>\n",
       "      <th>Researcher</th>\n",
       "      <td>18.0</td>\n",
       "      <td>Researcher</td>\n",
       "      <td>0.0</td>\n",
       "    </tr>\n",
       "  </tbody>\n",
       "</table>\n",
       "</div>"
      ],
      "text/plain": [
       "            no_outlier_count        word  outlier_count\n",
       "DevOps                   2.0      DevOps            0.0\n",
       "Engineer              4012.0    Engineer           78.0\n",
       "Architect              221.0   Architect            8.0\n",
       "Scientist             2656.0   Scientist           51.0\n",
       "Researcher              18.0  Researcher            0.0"
      ]
     },
     "execution_count": 31,
     "metadata": {},
     "output_type": "execute_result"
    }
   ],
   "source": [
    "# Join the two data frames together using the word variable\n",
    "word_counts = pd.concat([word_counts_no_outliers, word_counts_outliers], axis = 1, join = \"outer\", ignore_index=True)\n",
    "\n",
    "# Drop the last column\n",
    "word_counts = word_counts.drop([3], axis = 1) \n",
    "\n",
    "# Rename columns \n",
    "word_counts = word_counts.rename(columns = {0 : \"no_outlier_count\", 1 : \"word\", 2 : \"outlier_count\"})\n",
    "\n",
    "# Fill NAs with 0 to indicate no presence \n",
    "word_counts = word_counts.fillna(0) \n",
    "word_counts.head()"
   ]
  },
  {
   "cell_type": "markdown",
   "id": "8d9e2e23-3a31-497b-ba21-0a708d8a3e5e",
   "metadata": {},
   "source": [
    "We notice that there are sufficiently more non-outliers than outliers, so we cannot simply do a comparison by numbers. It is more accurate to compare proportions. We compute the proportion of titles which contain each word."
   ]
  },
  {
   "cell_type": "code",
   "execution_count": 32,
   "id": "c0e2c382-7903-438d-a2fc-b393c723e542",
   "metadata": {
    "tags": []
   },
   "outputs": [
    {
     "data": {
      "text/html": [
       "<div>\n",
       "<style scoped>\n",
       "    .dataframe tbody tr th:only-of-type {\n",
       "        vertical-align: middle;\n",
       "    }\n",
       "\n",
       "    .dataframe tbody tr th {\n",
       "        vertical-align: top;\n",
       "    }\n",
       "\n",
       "    .dataframe thead th {\n",
       "        text-align: right;\n",
       "    }\n",
       "</style>\n",
       "<table border=\"1\" class=\"dataframe\">\n",
       "  <thead>\n",
       "    <tr style=\"text-align: right;\">\n",
       "      <th></th>\n",
       "      <th>no_outlier_count</th>\n",
       "      <th>word</th>\n",
       "      <th>outlier_count</th>\n",
       "      <th>outlier_prop</th>\n",
       "      <th>no_outlier_prop</th>\n",
       "      <th>prop_diff</th>\n",
       "    </tr>\n",
       "  </thead>\n",
       "  <tbody>\n",
       "    <tr>\n",
       "      <th>DevOps</th>\n",
       "      <td>2.0</td>\n",
       "      <td>DevOps</td>\n",
       "      <td>0.0</td>\n",
       "      <td>0.000000</td>\n",
       "      <td>0.000217</td>\n",
       "      <td>-0.000217</td>\n",
       "    </tr>\n",
       "    <tr>\n",
       "      <th>Engineer</th>\n",
       "      <td>4012.0</td>\n",
       "      <td>Engineer</td>\n",
       "      <td>78.0</td>\n",
       "      <td>0.493671</td>\n",
       "      <td>0.436229</td>\n",
       "      <td>0.057442</td>\n",
       "    </tr>\n",
       "    <tr>\n",
       "      <th>Architect</th>\n",
       "      <td>221.0</td>\n",
       "      <td>Architect</td>\n",
       "      <td>8.0</td>\n",
       "      <td>0.050633</td>\n",
       "      <td>0.024030</td>\n",
       "      <td>0.026603</td>\n",
       "    </tr>\n",
       "    <tr>\n",
       "      <th>Scientist</th>\n",
       "      <td>2656.0</td>\n",
       "      <td>Scientist</td>\n",
       "      <td>51.0</td>\n",
       "      <td>0.322785</td>\n",
       "      <td>0.288790</td>\n",
       "      <td>0.033995</td>\n",
       "    </tr>\n",
       "    <tr>\n",
       "      <th>Researcher</th>\n",
       "      <td>18.0</td>\n",
       "      <td>Researcher</td>\n",
       "      <td>0.0</td>\n",
       "      <td>0.000000</td>\n",
       "      <td>0.001957</td>\n",
       "      <td>-0.001957</td>\n",
       "    </tr>\n",
       "  </tbody>\n",
       "</table>\n",
       "</div>"
      ],
      "text/plain": [
       "            no_outlier_count        word  outlier_count  outlier_prop  \\\n",
       "DevOps                   2.0      DevOps            0.0      0.000000   \n",
       "Engineer              4012.0    Engineer           78.0      0.493671   \n",
       "Architect              221.0   Architect            8.0      0.050633   \n",
       "Scientist             2656.0   Scientist           51.0      0.322785   \n",
       "Researcher              18.0  Researcher            0.0      0.000000   \n",
       "\n",
       "            no_outlier_prop  prop_diff  \n",
       "DevOps             0.000217  -0.000217  \n",
       "Engineer           0.436229   0.057442  \n",
       "Architect          0.024030   0.026603  \n",
       "Scientist          0.288790   0.033995  \n",
       "Researcher         0.001957  -0.001957  "
      ]
     },
     "execution_count": 32,
     "metadata": {},
     "output_type": "execute_result"
    }
   ],
   "source": [
    "word_counts[\"outlier_prop\"] = word_counts[\"outlier_count\"]/(outliers.shape[0])\n",
    "word_counts[\"no_outlier_prop\"] = word_counts[\"no_outlier_count\"]/(wo_outliers.shape[0])\n",
    "word_counts[\"prop_diff\"] = word_counts[\"outlier_prop\"] - word_counts[\"no_outlier_prop\"]\n",
    "word_counts.head()"
   ]
  },
  {
   "cell_type": "markdown",
   "id": "42fecc31-6f04-4d9b-ae79-52c284797186",
   "metadata": {
    "tags": []
   },
   "source": [
    "In the code above, we calculate the difference in the proportion between the proportion in the outlier set and no outlier sets, with negative values indicating a larger percentage in the no outlier set. If we sort the data frame by the difference in proportion, we can see the words which have the most drastic difference among the outliers and no outlier set."
   ]
  },
  {
   "cell_type": "code",
   "execution_count": 33,
   "id": "be36a17f-770b-421b-8a24-20f298b6c2bd",
   "metadata": {
    "tags": []
   },
   "outputs": [
    {
     "data": {
      "text/html": [
       "<div>\n",
       "<style scoped>\n",
       "    .dataframe tbody tr th:only-of-type {\n",
       "        vertical-align: middle;\n",
       "    }\n",
       "\n",
       "    .dataframe tbody tr th {\n",
       "        vertical-align: top;\n",
       "    }\n",
       "\n",
       "    .dataframe thead th {\n",
       "        text-align: right;\n",
       "    }\n",
       "</style>\n",
       "<table border=\"1\" class=\"dataframe\">\n",
       "  <thead>\n",
       "    <tr style=\"text-align: right;\">\n",
       "      <th></th>\n",
       "      <th>no_outlier_count</th>\n",
       "      <th>word</th>\n",
       "      <th>outlier_count</th>\n",
       "      <th>outlier_prop</th>\n",
       "      <th>no_outlier_prop</th>\n",
       "      <th>prop_diff</th>\n",
       "    </tr>\n",
       "  </thead>\n",
       "  <tbody>\n",
       "    <tr>\n",
       "      <th>Analyst</th>\n",
       "      <td>1609.0</td>\n",
       "      <td>Analyst</td>\n",
       "      <td>4.0</td>\n",
       "      <td>0.025316</td>\n",
       "      <td>0.174948</td>\n",
       "      <td>-0.149632</td>\n",
       "    </tr>\n",
       "    <tr>\n",
       "      <th>Research</th>\n",
       "      <td>443.0</td>\n",
       "      <td>Research</td>\n",
       "      <td>17.0</td>\n",
       "      <td>0.107595</td>\n",
       "      <td>0.048168</td>\n",
       "      <td>0.059427</td>\n",
       "    </tr>\n",
       "    <tr>\n",
       "      <th>Engineer</th>\n",
       "      <td>4012.0</td>\n",
       "      <td>Engineer</td>\n",
       "      <td>78.0</td>\n",
       "      <td>0.493671</td>\n",
       "      <td>0.436229</td>\n",
       "      <td>0.057442</td>\n",
       "    </tr>\n",
       "    <tr>\n",
       "      <th>Head</th>\n",
       "      <td>39.0</td>\n",
       "      <td>Head</td>\n",
       "      <td>7.0</td>\n",
       "      <td>0.044304</td>\n",
       "      <td>0.004241</td>\n",
       "      <td>0.040063</td>\n",
       "    </tr>\n",
       "    <tr>\n",
       "      <th>Scientist</th>\n",
       "      <td>2656.0</td>\n",
       "      <td>Scientist</td>\n",
       "      <td>51.0</td>\n",
       "      <td>0.322785</td>\n",
       "      <td>0.288790</td>\n",
       "      <td>0.033995</td>\n",
       "    </tr>\n",
       "    <tr>\n",
       "      <th>Science</th>\n",
       "      <td>213.0</td>\n",
       "      <td>Science</td>\n",
       "      <td>9.0</td>\n",
       "      <td>0.056962</td>\n",
       "      <td>0.023160</td>\n",
       "      <td>0.033802</td>\n",
       "    </tr>\n",
       "    <tr>\n",
       "      <th>Applied</th>\n",
       "      <td>288.0</td>\n",
       "      <td>Applied</td>\n",
       "      <td>10.0</td>\n",
       "      <td>0.063291</td>\n",
       "      <td>0.031315</td>\n",
       "      <td>0.031977</td>\n",
       "    </tr>\n",
       "    <tr>\n",
       "      <th>Director</th>\n",
       "      <td>29.0</td>\n",
       "      <td>Director</td>\n",
       "      <td>5.0</td>\n",
       "      <td>0.031646</td>\n",
       "      <td>0.003153</td>\n",
       "      <td>0.028492</td>\n",
       "    </tr>\n",
       "    <tr>\n",
       "      <th>Architect</th>\n",
       "      <td>221.0</td>\n",
       "      <td>Architect</td>\n",
       "      <td>8.0</td>\n",
       "      <td>0.050633</td>\n",
       "      <td>0.024030</td>\n",
       "      <td>0.026603</td>\n",
       "    </tr>\n",
       "    <tr>\n",
       "      <th>Business</th>\n",
       "      <td>241.0</td>\n",
       "      <td>Business</td>\n",
       "      <td>0.0</td>\n",
       "      <td>0.000000</td>\n",
       "      <td>0.026204</td>\n",
       "      <td>-0.026204</td>\n",
       "    </tr>\n",
       "  </tbody>\n",
       "</table>\n",
       "</div>"
      ],
      "text/plain": [
       "           no_outlier_count       word  outlier_count  outlier_prop  \\\n",
       "Analyst              1609.0    Analyst            4.0      0.025316   \n",
       "Research              443.0   Research           17.0      0.107595   \n",
       "Engineer             4012.0   Engineer           78.0      0.493671   \n",
       "Head                   39.0       Head            7.0      0.044304   \n",
       "Scientist            2656.0  Scientist           51.0      0.322785   \n",
       "Science               213.0    Science            9.0      0.056962   \n",
       "Applied               288.0    Applied           10.0      0.063291   \n",
       "Director               29.0   Director            5.0      0.031646   \n",
       "Architect             221.0  Architect            8.0      0.050633   \n",
       "Business              241.0   Business            0.0      0.000000   \n",
       "\n",
       "           no_outlier_prop  prop_diff  \n",
       "Analyst           0.174948  -0.149632  \n",
       "Research          0.048168   0.059427  \n",
       "Engineer          0.436229   0.057442  \n",
       "Head              0.004241   0.040063  \n",
       "Scientist         0.288790   0.033995  \n",
       "Science           0.023160   0.033802  \n",
       "Applied           0.031315   0.031977  \n",
       "Director          0.003153   0.028492  \n",
       "Architect         0.024030   0.026603  \n",
       "Business          0.026204  -0.026204  "
      ]
     },
     "execution_count": 33,
     "metadata": {},
     "output_type": "execute_result"
    }
   ],
   "source": [
    "top_words = word_counts.sort_values(by = ['prop_diff'], key = abs, ascending=False).head(10)\n",
    "top_words"
   ]
  },
  {
   "cell_type": "markdown",
   "id": "95266768-652a-4f8f-a6a1-353b13cef06c",
   "metadata": {},
   "source": [
    "Recall that negative values correspond to a larger proportion in the no outlier set. From the table above, we see that the word \"analyst\" is more prevalent among job titles in the no outlier set than the outlier set, implying that jobs with \"analyst\" in the title are likely more entry-level positions. \n",
    "\n",
    "On the contrary, we see that words like \"research\", \"engineer\", and \"head\" are more prevalent among the outlier salaries and thus lead to larger salaries. This matches our prediction, since these are more specalized roles that require more experience and would cosnequently yield a higher salary. The word \"head\" also denotes a more senior position, which would indicate more pay. \n",
    "\n",
    "Interestingly, this analysis does not reveal any large difference between roles with specific certification requirelemts (i.e. like AWS positions). We thought that these extra qualifications would cause a higher salary, but this is not supported by the data. A possible reason could be the relatively few job titles with these roles, meaning there might not be enough data to reach an accurate conclusion on this aspect."
   ]
  },
  {
   "cell_type": "markdown",
   "id": "30c71466-5dd8-4ae1-a3b2-ff7c9739cba0",
   "metadata": {},
   "source": [
    "Here, we assess the trends in experience level on salary."
   ]
  },
  {
   "cell_type": "code",
   "execution_count": 34,
   "id": "505b98b8-29d0-4c3b-84d6-00f37feeb3c3",
   "metadata": {
    "tags": []
   },
   "outputs": [
    {
     "name": "stdout",
     "output_type": "stream",
     "text": [
      "Unique experience levels in the no outlier set: ['Mid-level' 'Senior' 'Executive' 'Entry-level']\n",
      "Unique experience levels in the outlier set: ['Senior' 'Mid-level' 'Executive']\n"
     ]
    }
   ],
   "source": [
    "# First, assess the experience level of the position. \n",
    "print(\"Unique experience levels in the no outlier set:\", wo_outliers[\"experience_level\"].unique())\n",
    "print(\"Unique experience levels in the outlier set:\", outliers[\"experience_level\"].unique())"
   ]
  },
  {
   "cell_type": "markdown",
   "id": "7f43489a-55c0-4869-ad78-a2c32085edbd",
   "metadata": {},
   "source": [
    "As expected, we notice that there no \"entry-level\" positions in the outlier set, indicating that extreme values in salaries correspond to more senior/experienced positions. This supports the observation earlier about more experienced positions earning more on average."
   ]
  },
  {
   "cell_type": "markdown",
   "id": "f643dba7-6a7f-4ebc-b9f3-391c81a052fd",
   "metadata": {},
   "source": [
    "# Hypothesis Testing\n",
    "\n",
    "Analyzing patterns between samples of key interest allows us to come up with better hypotheses. The significance of this goes far, since as humans we can make conclusions for high-demand Data Science jobs around the world. This can then leverage us to find the right jobs that align with our interests. "
   ]
  },
  {
   "cell_type": "markdown",
   "id": "caf6f513-38f8-43ba-968f-6b14c808dcb0",
   "metadata": {},
   "source": [
    "Situation 1\n",
    "\n",
    "Null Hypothesis: The average salary for a data scientist is the same as the average salary for a data engineer. \n",
    "\n",
    "Alternative Hypothesis: The average salary for a data scientist is greater than the average salary for a data engineer. "
   ]
  },
  {
   "cell_type": "code",
   "execution_count": 35,
   "id": "7df0d338-2c79-452f-84b0-a3fba73841b9",
   "metadata": {
    "tags": []
   },
   "outputs": [
    {
     "name": "stdout",
     "output_type": "stream",
     "text": [
      "156681.01508295626\n",
      "146620.09521640092\n",
      "59914.37245928481\n",
      "56643.63999597141\n",
      "1989\n",
      "2195\n",
      "1807.3528897863357\n",
      "5.566660458735725\n"
     ]
    }
   ],
   "source": [
    "data_scientists = dat[dat['job_title'] == 'Data Scientist']\n",
    "data_engineers = dat[dat['job_title'] == 'Data Engineer']\n",
    "\n",
    "salaryDSMean = data_scientists['salary_in_usd'].mean()\n",
    "salaryDEMean = data_engineers['salary_in_usd'].mean()\n",
    "\n",
    "print(salaryDSMean)#Mean for Data Scientists\n",
    "print(salaryDEMean)#Mean for Data Engineers\n",
    "\n",
    "salaryDSsd = data_scientists['salary_in_usd'].std()\n",
    "salaryDEsd = data_engineers['salary_in_usd'].std()\n",
    "\n",
    "print(salaryDSsd)#Standard Deviation for Data Scientists\n",
    "print(salaryDEsd)#Standard Deviation for Data Engineers\n",
    "\n",
    "DSlen = len(data_scientists)\n",
    "DElen = len(data_engineers)\n",
    "\n",
    "print(DSlen)#amount of Data Scientists\n",
    "print(DElen)#amount of Data Engineers\n",
    "\n",
    "#Because n is greater than 30, the distribution is approximately normal. This means that I can use a z-test. \n",
    "\n",
    "sdBothSamples = math.sqrt((salaryDSsd ** 2)/DSlen + (salaryDEsd ** 2)/DElen)\n",
    "    \n",
    "print(sdBothSamples)\n",
    "\n",
    "zscore = (salaryDSMean-salaryDEMean)/sdBothSamples\n",
    "print(zscore)\n",
    "\n",
    "#Right-tailed test, so pvalue = 1-pnorm(zscore)\n",
    "pvalue = 1-1"
   ]
  },
  {
   "cell_type": "markdown",
   "id": "fbdc73e5-25a6-4bf8-a1ec-21469566ffa9",
   "metadata": {},
   "source": [
    "Because the p-value is less than 0.05, I reject the null hypothesis. There is sufficient evidence suggesting that the average salary for a data scientist is greater than the average salary for a data engineer. "
   ]
  },
  {
   "cell_type": "markdown",
   "id": "9321d529-96c9-4925-8232-8e549ba402f5",
   "metadata": {},
   "source": [
    "Situation 2\n",
    "\n",
    "Null Hypothesis: The average salary for data scientists in a large company size is same as the average salary for data scinetists in medium company size. \n",
    "\n",
    "Alternative Hypothesis: The average salary for data scientists in a large company size is lower than the average salary for data scientists in medium company size. "
   ]
  },
  {
   "cell_type": "code",
   "execution_count": 36,
   "id": "2ab70eef-6a4d-4bc5-81cf-54bbd331642f",
   "metadata": {
    "tags": []
   },
   "outputs": [
    {
     "name": "stdout",
     "output_type": "stream",
     "text": [
      "118651.84545454546\n",
      "160162.61804430038\n",
      "65063.47707441246\n",
      "58166.49830246136\n",
      "110\n",
      "1851\n",
      "6349.172476181227\n",
      "-6.537981563027564\n"
     ]
    }
   ],
   "source": [
    "DSL = dat[(dat['job_title'] == 'Data Scientist') & (dat['company_size'] == 'L')]\n",
    "DSM = dat[(dat['job_title'] == 'Data Scientist') & (dat['company_size'] == 'M')]\n",
    "\n",
    "#print(DSL)\n",
    "#print(DSS)\n",
    "\n",
    "salaryDSLMean = DSL['salary_in_usd'].mean()\n",
    "salaryDSMMean = DSM['salary_in_usd'].mean()\n",
    "\n",
    "print(salaryDSLMean)\n",
    "print(salaryDSMMean)\n",
    "\n",
    "salaryDSLsd = DSL['salary_in_usd'].std()\n",
    "salaryDSMsd = DSM['salary_in_usd'].std()\n",
    "\n",
    "print(salaryDSLsd)\n",
    "print(salaryDSMsd)\n",
    "\n",
    "DSLlen = len(DSL)\n",
    "DSMlen = len(DSM)\n",
    "\n",
    "print(DSLlen)\n",
    "print(DSMlen)\n",
    "\n",
    "#Because n is greater than 30, the distribution is approximately normal. This means that I can use a z-test. \n",
    "\n",
    "sdBothSamples = math.sqrt((salaryDSLsd ** 2)/DSLlen + (salaryDSMsd ** 2)/DSMlen)\n",
    "    \n",
    "print(sdBothSamples)\n",
    "\n",
    "zscore = (salaryDSLMean-salaryDSMMean)/sdBothSamples\n",
    "print(zscore)\n",
    "\n",
    "#Left-tailed test, so pvalue = pnorm(zscore)\n",
    "pvalue = 3.11773e-11"
   ]
  },
  {
   "cell_type": "markdown",
   "id": "e9b9ccbf-83a5-4379-b288-869993d18d6a",
   "metadata": {},
   "source": [
    "Because the p-value is less than 0.05, I reject the null hypothesis. There is sufficient evidence suggesting that the average salary for data scientists in a large company size is lower than the average salary for data scientists in medium company size. "
   ]
  },
  {
   "cell_type": "markdown",
   "id": "9e6ee74e-1e55-458d-8514-d196aaddcb4a",
   "metadata": {},
   "source": [
    "# Bayesian Analysis"
   ]
  },
  {
   "cell_type": "markdown",
   "id": "26fa5e0e-16ea-4946-b8a1-4360c2abd9c5",
   "metadata": {},
   "source": [
    "## Introduction"
   ]
  },
  {
   "cell_type": "markdown",
   "id": "5cd1ae5f-09c8-4f82-8f54-b07c3c1486af",
   "metadata": {
    "tags": []
   },
   "source": [
    "In today's job market in the Data Science industry, the chances of being hired are very low. This is where conditional probability is powerful, because it is used to derive the chances of the availability of different job positions/openings given certain beliefs/conditions in the Data Science market. This allows us to make more informed decisions about what Data Science jobs in today's market to look for. This is why we will be performing some Bayesian Analysis on the dataset using different situations."
   ]
  },
  {
   "cell_type": "markdown",
   "id": "2f2f8c26-9147-4850-a947-38c365377df1",
   "metadata": {},
   "source": [
    "We will perform bayesian analysis in the following situation."
   ]
  },
  {
   "cell_type": "markdown",
   "id": "c571e3f3-c85b-43f6-9320-94c9fa202b80",
   "metadata": {},
   "source": [
    "Find the odds that you make over 150,000 USD given that you are a Data \n",
    "Engineer. To rewrite this in terms of conditional probability, we use Bayes' Theorem below:\n",
    "$$\\Pr(A \\mid B) = \\frac{\\Pr(B\\mid A) \\Pr(A)}{\\Pr(B)}$$\n",
    "where $A$ denotes the belief and $B$ denotes the observation."
   ]
  },
  {
   "cell_type": "markdown",
   "id": "18634a94-58a9-4748-8247-4f380c1a13e8",
   "metadata": {},
   "source": [
    "To identify the belief and observation in the above conditional probability\n",
    "problem, we first need to identify what these terms mean. The belief is what we are trying to find out while the observation is what we are given (evidence).\n",
    "\n",
    "In this case, A(Belief) = Salary is greater than $150,000 in USD and B(Observation) = You are a Data Engineer."
   ]
  },
  {
   "cell_type": "markdown",
   "id": "33f91fdb-eb10-4db5-9ddd-2d2f0e27ab4e",
   "metadata": {
    "tags": []
   },
   "source": [
    "Going back to Bayes' Theorem to calculate conditional probability, there are 4 parts to Bayes Theorem.\n",
    "1. P(B|A) = Likelihood probability\n",
    "2. P(A) = Prior Probability\n",
    "3. P(B) = Marginalization (Prob of observation)\n",
    "4. P(A|B) = Posterior/Conditional Probability\n",
    "\n",
    "We will calculate all of them (in terms of ratios or probability) to help us derive the conditional probability."
   ]
  },
  {
   "cell_type": "markdown",
   "id": "31ded1a2-9555-4f01-bf6f-f1a31f77bbc4",
   "metadata": {},
   "source": [
    "To compute the posterior conditional probability using Bayes' theorem above, we first need to find the number of jobs that have a salary greater than $150,000."
   ]
  },
  {
   "cell_type": "code",
   "execution_count": 37,
   "id": "4628a69e-0f87-4d51-b7f6-493eb0931abf",
   "metadata": {
    "tags": []
   },
   "outputs": [
    {
     "data": {
      "text/plain": [
       "4150"
      ]
     },
     "execution_count": 37,
     "metadata": {},
     "output_type": "execute_result"
    }
   ],
   "source": [
    "salary_greater = dat.loc[dat['salary_in_usd'] > 150000]\n",
    "salary_greater_length = len(salary_greater.index)\n",
    "salary_greater_length"
   ]
  },
  {
   "cell_type": "code",
   "execution_count": 38,
   "id": "6a375efd-8b17-42a5-baa0-1f412235b2e6",
   "metadata": {
    "tags": []
   },
   "outputs": [
    {
     "data": {
      "text/plain": [
       "9355"
      ]
     },
     "execution_count": 38,
     "metadata": {},
     "output_type": "execute_result"
    }
   ],
   "source": [
    "# Get the total number of salaries (aka, the number of records in the dataset)\n",
    "num_salaries = len(dat.index)\n",
    "num_salaries"
   ]
  },
  {
   "cell_type": "code",
   "execution_count": 39,
   "id": "985a07cf-836e-4259-87ad-a709222a091a",
   "metadata": {
    "tags": []
   },
   "outputs": [
    {
     "data": {
      "text/plain": [
       "0.4436130411544629"
      ]
     },
     "execution_count": 39,
     "metadata": {},
     "output_type": "execute_result"
    }
   ],
   "source": [
    "p_a = salary_greater_length/num_salaries\n",
    "p_a"
   ]
  },
  {
   "cell_type": "markdown",
   "id": "1e1202bc-ccb0-4de5-b3cf-8e29bd704e16",
   "metadata": {},
   "source": [
    "This is a huge percentage of number of jobs around the world that offer yearly salaries greater than $150,000 in USD.\n",
    "Now that we found the prior probability, we can calculate the probability of being a Data Engineer, P(B)."
   ]
  },
  {
   "cell_type": "code",
   "execution_count": 40,
   "id": "f903860b-050c-41c9-a413-6a3efdfcb202",
   "metadata": {
    "tags": []
   },
   "outputs": [
    {
     "data": {
      "text/plain": [
       "0.2346338856226617"
      ]
     },
     "execution_count": 40,
     "metadata": {},
     "output_type": "execute_result"
    }
   ],
   "source": [
    "data_engineer = dat[dat['job_title'] == 'Data Engineer']\n",
    "data_engineer_length = len(data_engineer.index)\n",
    "p_b = data_engineer_length / num_salaries\n",
    "p_b "
   ]
  },
  {
   "cell_type": "markdown",
   "id": "ed9b7026-2f99-4dd2-9b9f-cd7a2555f016",
   "metadata": {},
   "source": [
    "From the dataset of Data Science jobs around the world, the probability of being a Data Engineer is strictly high compared to the vast amount of job titles there are."
   ]
  },
  {
   "cell_type": "markdown",
   "id": "f81ef11d-6b71-4325-942c-175da7bbe8b6",
   "metadata": {},
   "source": [
    "Now, let's derive the likelihood probability. We will find the likelihood probability using the likelihood ratio, which is using odds. In order to find that, we need the true positive and the false positive ratios:\n",
    "1. True Positive = P(B|A) = Probability of being a data engineer given that you are making over 80k a year.\n",
    "2. False Positive = P(B|¬A) =  Probability of being a data engineer given that you are making at most 80k a year.\n",
    "\n",
    "The true and false positives are computed in the following code cells."
   ]
  },
  {
   "cell_type": "code",
   "execution_count": 41,
   "id": "e6cbd235-d41f-4323-bdeb-2fb2b075cffa",
   "metadata": {
    "tags": []
   },
   "outputs": [],
   "source": [
    "df1 = dat.loc[(dat['job_title'] == 'Data Engineer') & (dat['salary_in_usd'] > 150000)]\n",
    "true_positive = len(df1.index) / salary_greater_length\n",
    "df2 = dat.loc[(dat['job_title'] == 'Data Engineer') & (dat['salary_in_usd'] <= 150000)]\n",
    "false_positive = len(df2.index) / (num_salaries - salary_greater_length)"
   ]
  },
  {
   "cell_type": "code",
   "execution_count": 42,
   "id": "02154e24-1e3b-4c36-903e-328d9f803404",
   "metadata": {
    "tags": []
   },
   "outputs": [
    {
     "data": {
      "text/plain": [
       "0.22216867469879517"
      ]
     },
     "execution_count": 42,
     "metadata": {},
     "output_type": "execute_result"
    }
   ],
   "source": [
    "true_positive"
   ]
  },
  {
   "cell_type": "code",
   "execution_count": 43,
   "id": "fbb9e285-2d0b-4572-bdc5-1ae1ab901912",
   "metadata": {
    "tags": []
   },
   "outputs": [
    {
     "data": {
      "text/plain": [
       "0.24457252641690683"
      ]
     },
     "execution_count": 43,
     "metadata": {},
     "output_type": "execute_result"
    }
   ],
   "source": [
    "false_positive"
   ]
  },
  {
   "cell_type": "markdown",
   "id": "5dbdd91f-a593-4bd7-89d5-c246d5e15bbd",
   "metadata": {},
   "source": [
    "Now we can compute the likelihood ratio, which is the ratio of the true positive and false positive.\n",
    "\n",
    "Basically, we are finding the odds of P(B|A)."
   ]
  },
  {
   "cell_type": "code",
   "execution_count": 44,
   "id": "9e045916-d809-40cf-9122-457f0592526a",
   "metadata": {
    "tags": []
   },
   "outputs": [
    {
     "data": {
      "text/plain": [
       "0.9083958773034005"
      ]
     },
     "execution_count": 44,
     "metadata": {},
     "output_type": "execute_result"
    }
   ],
   "source": [
    "likelihood_ratio = true_positive / false_positive\n",
    "likelihood_ratio"
   ]
  },
  {
   "cell_type": "markdown",
   "id": "ac0da4d5-a0fd-4977-aa8d-241670d3b841",
   "metadata": {},
   "source": [
    "Next, we calculate the prior odds to find the posterior odds, which are the odds for \n",
    "posterior probability. We will later convert it to conditional probability to divide by the marginalization.\n",
    "\n",
    "Odds of A = P(A) / 1 - P(A)"
   ]
  },
  {
   "cell_type": "code",
   "execution_count": 45,
   "id": "fa8b29c7-4514-48ef-9a5a-500d277d8be3",
   "metadata": {
    "tags": []
   },
   "outputs": [
    {
     "data": {
      "text/plain": [
       "0.7973102785782902"
      ]
     },
     "execution_count": 45,
     "metadata": {},
     "output_type": "execute_result"
    }
   ],
   "source": [
    "p_a_odds = p_a / (1 - p_a)\n",
    "p_a_odds"
   ]
  },
  {
   "cell_type": "markdown",
   "id": "30857242-38bf-4700-98e7-0b5df5e5ec5d",
   "metadata": {},
   "source": [
    "Once we have found the prior odds, we can now find the posterior odds, which is computed\n",
    "as likelihood ratio * prior odds."
   ]
  },
  {
   "cell_type": "code",
   "execution_count": 46,
   "id": "36c500fa-276c-4289-b72b-516b939728d6",
   "metadata": {
    "tags": []
   },
   "outputs": [
    {
     "data": {
      "text/plain": [
       "0.7242733699921446"
      ]
     },
     "execution_count": 46,
     "metadata": {},
     "output_type": "execute_result"
    }
   ],
   "source": [
    "post_odds = likelihood_ratio * p_a_odds\n",
    "post_odds"
   ]
  },
  {
   "cell_type": "markdown",
   "id": "476e8117-1b7a-497e-893f-1a4fed7d6858",
   "metadata": {},
   "source": [
    "Since we didn't use marginalization, P(B), to find the posterior odds, we didn't need that in the equation after all. Instead, we can convert the posterior odds to conditional probability. "
   ]
  },
  {
   "cell_type": "code",
   "execution_count": 47,
   "id": "668b75e4-9dfd-4c66-a52a-d399252a97bc",
   "metadata": {
    "tags": []
   },
   "outputs": [
    {
     "data": {
      "text/plain": [
       "0.4200455580865604"
      ]
     },
     "execution_count": 47,
     "metadata": {},
     "output_type": "execute_result"
    }
   ],
   "source": [
    "cond_prob = post_odds / (post_odds + 1)\n",
    "cond_prob"
   ]
  },
  {
   "cell_type": "markdown",
   "id": "a81e5803-055d-4221-8598-13f691fddd90",
   "metadata": {},
   "source": [
    "The probability of having a yearly salary over $150,000 in USD given that you \n",
    "are a Data Engineer is 42%."
   ]
  },
  {
   "cell_type": "markdown",
   "id": "841c4f40-0e55-4f1d-9a73-353c125618c1",
   "metadata": {},
   "source": [
    "The following codecell verifies this, using the equation to find P(A|B).\n",
    "\n",
    "P(A|B) = P(A & B) / P(B)"
   ]
  },
  {
   "cell_type": "code",
   "execution_count": 48,
   "id": "c5d9f073-7d9a-4286-ae35-e7e97ae20702",
   "metadata": {
    "tags": []
   },
   "outputs": [
    {
     "data": {
      "text/plain": [
       "0.42004555808656036"
      ]
     },
     "execution_count": 48,
     "metadata": {},
     "output_type": "execute_result"
    }
   ],
   "source": [
    "#df1 = Dataframe of data engineering jobs that have a yearly salary of over $150,000. \n",
    "p_a_given_b = (len(df1.index) / num_salaries) / p_b\n",
    "p_a_given_b"
   ]
  },
  {
   "cell_type": "markdown",
   "id": "206e9974-4dc5-402d-8b90-3743e8acffb2",
   "metadata": {},
   "source": [
    "# Conclusion"
   ]
  },
  {
   "cell_type": "markdown",
   "id": "0e21afff-490c-460c-a32f-c5126670b3fd",
   "metadata": {},
   "source": [
    "The findings and analysis from the dataset presented in this notebook proved to be a valuable asset in determining the future of Data Science jobs around the world. The rich visual analysis made it easier to differentiate certain Data Science jobs that are high in demand based on certain factors/features. In addition, performing Hypothesis Testing and Bayesian Analysis gave proper statistical analysis to assess the performance of top-demand jobs based on salaries. In these hard times the Data Science job market has become very saturated, but hopefully this analysis should provide some hope that there are plenty of opportunities in the Data Science field around the world. "
   ]
  }
 ],
 "metadata": {
  "kernelspec": {
   "display_name": "Python 3 (ipykernel)",
   "language": "python",
   "name": "python3"
  },
  "language_info": {
   "codemirror_mode": {
    "name": "ipython",
    "version": 3
   },
   "file_extension": ".py",
   "mimetype": "text/x-python",
   "name": "python",
   "nbconvert_exporter": "python",
   "pygments_lexer": "ipython3",
   "version": "3.12.2"
  }
 },
 "nbformat": 4,
 "nbformat_minor": 5
}
