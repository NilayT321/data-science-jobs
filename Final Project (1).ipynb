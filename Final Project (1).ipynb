{
 "cells": [
  {
   "cell_type": "markdown",
   "id": "63f99c82-d2af-482a-b21e-0a8478702380",
   "metadata": {},
   "source": [
    "Hypothesis Testing\n",
    "\n",
    "Null Hypothesis: The average salary for a data scientist is the same as the average salary for a data engineer. \n",
    "\n",
    "Alternative Hypothesis: The average salary for a data scientist is greater than the average salary for a data engineer. "
   ]
  },
  {
   "cell_type": "code",
   "execution_count": 3,
   "id": "c8e508d2-4566-4ba6-af31-c4720834585b",
   "metadata": {
    "tags": []
   },
   "outputs": [
    {
     "name": "stdout",
     "output_type": "stream",
     "text": [
      "156681.01508295626\n",
      "146620.09521640092\n",
      "59914.37245928487\n",
      "56643.63999597138\n",
      "1989\n",
      "2195\n",
      "1807.3528897863362\n",
      "5.566660458735723\n"
     ]
    }
   ],
   "source": [
    "import csv\n",
    "import os\n",
    "import math\n",
    "\n",
    "import pandas as pd\n",
    "\n",
    "jobs = open(\"jobs_in_data.csv\")\n",
    "jobs = pd.read_csv(jobs)\n",
    "#print(jobs)\n",
    "\n",
    "data_scientists = jobs[jobs['job_title'] == 'Data Scientist']\n",
    "data_engineers = jobs[jobs['job_title'] == 'Data Engineer']\n",
    "\n",
    "salaryDSMean = data_scientists['salary_in_usd'].mean()\n",
    "salaryDEMean = data_engineers['salary_in_usd'].mean()\n",
    "\n",
    "print(salaryDSMean)#Mean for Data Scientists\n",
    "print(salaryDEMean)#Mean for Data Engineers\n",
    "\n",
    "salaryDSsd = data_scientists['salary_in_usd'].std()\n",
    "salaryDEsd = data_engineers['salary_in_usd'].std()\n",
    "\n",
    "print(salaryDSsd)#Standard Deviation for Data Scientists\n",
    "print(salaryDEsd)#Standard Deviation for Data Engineers\n",
    "\n",
    "DSlen = len(data_scientists)\n",
    "DElen = len(data_engineers)\n",
    "\n",
    "print(DSlen)#amount of Data Scientists\n",
    "print(DElen)#amount of Data Engineers\n",
    "\n",
    "#Because n is greater than 30, the distribution is approximately normal. This means that I can use a z-test. \n",
    "\n",
    "sdBothSamples = math.sqrt((salaryDSsd ** 2)/DSlen + (salaryDEsd ** 2)/DElen)\n",
    "    \n",
    "print(sdBothSamples)\n",
    "\n",
    "zscore = (salaryDSMean-salaryDEMean)/sdBothSamples\n",
    "print(zscore)\n",
    "\n",
    "pvalue = 5.602832e-09"
   ]
  },
  {
   "cell_type": "markdown",
   "id": "2ddc7056-746d-4084-90f7-0f59279978b4",
   "metadata": {},
   "source": [
    "Because the p-value is less than 0.05, I reject the null hypothesis. There is sufficient evidence suggesting that the average salary for a data scientist is greater than the average salary for a data engineer. "
   ]
  },
  {
   "cell_type": "markdown",
   "id": "8d2f01f1-5bef-4e6e-97c5-71343dfb002f",
   "metadata": {},
   "source": [
    "Hypothesis Testing\n",
    "\n",
    "Null Hypothesis: The average salary for data scientists in a large company size is same as the average salary for data scinetists in medium company size. \n",
    "\n",
    "Alternative Hypothesis: The average salary for data scientists in a large company size is lower than the average salary for data scientists in medium company size. \n"
   ]
  },
  {
   "cell_type": "code",
   "execution_count": 6,
   "id": "a05519db-1140-4e81-8115-986ec8f90bc5",
   "metadata": {
    "tags": []
   },
   "outputs": [
    {
     "name": "stdout",
     "output_type": "stream",
     "text": [
      "118651.84545454546\n",
      "160162.61804430038\n",
      "65063.47707441245\n",
      "58166.49830246142\n",
      "110\n",
      "1851\n",
      "6349.172476181226\n",
      "-6.537981563027565\n"
     ]
    }
   ],
   "source": [
    "DSL = jobs[(jobs['job_title'] == 'Data Scientist') & (jobs['company_size'] == 'L')]\n",
    "DSM = jobs[(jobs['job_title'] == 'Data Scientist') & (jobs['company_size'] == 'M')]\n",
    "\n",
    "#print(DSL)\n",
    "#print(DSS)\n",
    "\n",
    "salaryDSLMean = DSL['salary_in_usd'].mean()\n",
    "salaryDSMMean = DSM['salary_in_usd'].mean()\n",
    "\n",
    "print(salaryDSLMean)\n",
    "print(salaryDSMMean)\n",
    "\n",
    "salaryDSLsd = DSL['salary_in_usd'].std()\n",
    "salaryDSMsd = DSM['salary_in_usd'].std()\n",
    "\n",
    "print(salaryDSLsd)\n",
    "print(salaryDSMsd)\n",
    "\n",
    "DSLlen = len(DSL)\n",
    "DSMlen = len(DSM)\n",
    "\n",
    "print(DSLlen)\n",
    "print(DSMlen)\n",
    "\n",
    "#Because n is greater than 30, the distribution is approximately normal. This means that I can use a z-test. \n",
    "\n",
    "sdBothSamples = math.sqrt((salaryDSLsd ** 2)/DSLlen + (salaryDSMsd ** 2)/DSMlen)\n",
    "    \n",
    "print(sdBothSamples)\n",
    "\n",
    "zscore = (salaryDSLMean-salaryDSMMean)/sdBothSamples\n",
    "print(zscore)\n",
    "\n",
    "pvalue = 8.222978e-10"
   ]
  },
  {
   "cell_type": "markdown",
   "id": "8c2e0568-173f-45a9-a7f9-09ea835bedf8",
   "metadata": {},
   "source": [
    "Because the p-value is less than 0.05, I reject the null hypothesis. There is sufficient evidence suggesting that the average salary for data scientists in a large company size is lower than the average salary for data scientists in medium company size. "
   ]
  }
 ],
 "metadata": {
  "kernelspec": {
   "display_name": "Python 3 (ipykernel)",
   "language": "python",
   "name": "python3"
  },
  "language_info": {
   "codemirror_mode": {
    "name": "ipython",
    "version": 3
   },
   "file_extension": ".py",
   "mimetype": "text/x-python",
   "name": "python",
   "nbconvert_exporter": "python",
   "pygments_lexer": "ipython3",
   "version": "3.11.3"
  }
 },
 "nbformat": 4,
 "nbformat_minor": 5
}
