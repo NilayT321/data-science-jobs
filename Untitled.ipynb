{
 "cells": [
  {
   "cell_type": "markdown",
   "id": "5aedb362-7e3d-4e7e-bf1a-00d829cf9447",
   "metadata": {
    "tags": []
   },
   "source": [
    "Bayesian Analysis of Data"
   ]
  },
  {
   "cell_type": "code",
   "execution_count": 5,
   "id": "3eadd68c-1763-459d-a779-521d65a8b27b",
   "metadata": {
    "tags": []
   },
   "outputs": [],
   "source": [
    "import pandas as pd\n",
    "import numpy as np"
   ]
  },
  {
   "cell_type": "code",
   "execution_count": 6,
   "id": "95ea22b2-a659-457f-99f1-48f5e334da6e",
   "metadata": {
    "tags": []
   },
   "outputs": [],
   "source": [
    "dat = pd.read_csv(\"jobs_in_data.csv\")"
   ]
  },
  {
   "cell_type": "markdown",
   "id": "0bd989f6-fc32-484a-9418-3bfec6073eac",
   "metadata": {
    "tags": []
   },
   "source": [
    "Introduction"
   ]
  },
  {
   "cell_type": "markdown",
   "id": "3a83960e-0b0d-47b9-ba81-7859f9910f8b",
   "metadata": {},
   "source": [
    "In today's job market in the Data Science industry, the chances of being hired are very low. Hence, having a basic intuition of conditional probability is important to derive the chances of different job positions/openings given certain beliefs/conditions in the data science market. This allows us to make more informed decisions about what jobs in today's market for the Data Science industry to look for. This is why we will be performing some Bayesian Analysis on the dataset using different situations."
   ]
  },
  {
   "cell_type": "markdown",
   "id": "905e4a61-74a6-4477-992e-ef21c589b193",
   "metadata": {},
   "source": [
    "Situation 1"
   ]
  },
  {
   "cell_type": "markdown",
   "id": "ff21a814-14df-4a1c-9f2b-559fade69b5b",
   "metadata": {},
   "source": [
    "Find the odds that you make over $150,000 in USD given that you are a Data \n",
    "Engineer. To rewrite this in terms of conditional probability, we use Bayes' Theorem below:\n",
    "\n",
    "P(A|B) = P(B|A) * P(A) / P(B)\n",
    "\n",
    "A = Belief, B = Observation"
   ]
  },
  {
   "cell_type": "markdown",
   "id": "8cac7c86-5688-4d44-bc2d-f1a997719dd5",
   "metadata": {},
   "source": [
    "To identify the belief and observation in the above conditional probability\n",
    "problem, we first need to identify what these terms mean. The belief is what we are trying to find out while the observation is what we are given (evidence).\n",
    "\n",
    "In this case, A(Belief) = Salary is greater than $150,000 in USD and B(Observation) = You are a Data Engineer."
   ]
  },
  {
   "cell_type": "markdown",
   "id": "4ca3a2b6-c8df-4347-bc18-3f0809f83ffa",
   "metadata": {},
   "source": [
    "Going back to Bayes' Theorem to calculate conditional probability, there are 4 parts to Bayes Theorem.\n",
    "1. P(B|A) = Likelihood probability\n",
    "2. P(A) = Prior Probability\n",
    "3. P(B) = Marginalization (Prob of observation)\n",
    "4. P(A|B) = Posterior/Conditional Probability\n",
    "\n",
    "We will calculate each of them one by one to derive the conditional probability."
   ]
  },
  {
   "cell_type": "markdown",
   "id": "b6ba7a5d-43e1-4a0f-8f36-2d8d3f65f4ab",
   "metadata": {},
   "source": [
    "To compute the posterior conditional probability using Bayes' theorem above, we first need to find the number of jobs that have a salary greater than $150,000."
   ]
  },
  {
   "cell_type": "code",
   "execution_count": 19,
   "id": "c0711940-4f9e-463a-a422-c38efeef147d",
   "metadata": {
    "tags": []
   },
   "outputs": [
    {
     "data": {
      "text/plain": [
       "4150"
      ]
     },
     "execution_count": 19,
     "metadata": {},
     "output_type": "execute_result"
    }
   ],
   "source": [
    "salary_greater = dat.loc[dat['salary_in_usd'] > 150000]\n",
    "salary_greater_length = len(salary_greater.index)\n",
    "salary_greater_length"
   ]
  },
  {
   "cell_type": "code",
   "execution_count": 24,
   "id": "e8169996-37a7-4b7e-8bc5-9895820bb166",
   "metadata": {
    "tags": []
   },
   "outputs": [
    {
     "data": {
      "text/plain": [
       "9355"
      ]
     },
     "execution_count": 24,
     "metadata": {},
     "output_type": "execute_result"
    }
   ],
   "source": [
    "# Get the total number of salaries (aka, the number of records in the dataset)\n",
    "num_salaries = len(dat.index)\n",
    "num_salaries"
   ]
  },
  {
   "cell_type": "markdown",
   "id": "00411c15-0032-4517-9924-a389429c6394",
   "metadata": {},
   "source": [
    "Now we can compute the prior probability of making a salary of greater than $150,000 in USD."
   ]
  },
  {
   "cell_type": "code",
   "execution_count": 27,
   "id": "d95feebe-1939-48f4-bc7a-cf0e6acb3a14",
   "metadata": {
    "tags": []
   },
   "outputs": [
    {
     "data": {
      "text/plain": [
       "0.4436130411544629"
      ]
     },
     "execution_count": 27,
     "metadata": {},
     "output_type": "execute_result"
    }
   ],
   "source": [
    "p_a = salary_greater_length/num_salaries\n",
    "p_a"
   ]
  },
  {
   "cell_type": "markdown",
   "id": "4aaafc38-fb31-48b1-84e2-6a3ef8298b4a",
   "metadata": {},
   "source": [
    "This is a huge percentage of number of jobs around the world that offer yearly salaries greater than $150,000 in USD.\n",
    "Now that we found the prior probability, we can calculate the probability of being a Data Engineer, P(B)."
   ]
  },
  {
   "cell_type": "code",
   "execution_count": 28,
   "id": "51d24e83-a76c-4c3c-b9be-fff89c1ae6e7",
   "metadata": {
    "tags": []
   },
   "outputs": [
    {
     "data": {
      "text/plain": [
       "0.2346338856226617"
      ]
     },
     "execution_count": 28,
     "metadata": {},
     "output_type": "execute_result"
    }
   ],
   "source": [
    "data_engineer = dat[dat['job_title'] == 'Data Engineer']\n",
    "data_engineer_length = len(data_engineer.index)\n",
    "p_b = data_engineer_length / num_salaries\n",
    "p_b "
   ]
  },
  {
   "cell_type": "markdown",
   "id": "9d79a984-8b4e-4287-82e7-6579e84df20b",
   "metadata": {},
   "source": [
    "From the dataset of Data Science jobs around the world, the probability of being a Data Engineer is strictly high compared to the vast amount of job titles there are. "
   ]
  },
  {
   "cell_type": "markdown",
   "id": "9f39747f-2585-4213-b60a-ead9e4e94d18",
   "metadata": {},
   "source": [
    "Now, let's derive the likelihood probability. We will find the likelihood probability using the likelihood ratio, which is using odds. In order to find that, we need the true positive and the false positive ratios:\n",
    "1. True Positive = P(B|A) = Probability of being a data engineer given that you are making over 80k a year.\n",
    "2. False Positive = P(B|!A) =  Probability of being a data engineer given that you are making at most 80k a year.\n",
    "\n",
    "The true and false positives are computed in the following code cells."
   ]
  },
  {
   "cell_type": "code",
   "execution_count": 32,
   "id": "5db87994-4078-4084-9a55-651d1a7fa232",
   "metadata": {
    "tags": []
   },
   "outputs": [],
   "source": [
    "df1 = dat.loc[(dat['job_title'] == 'Data Engineer') & (dat['salary_in_usd'] > 150000)]\n",
    "true_positive = len(df1.index) / salary_greater_length\n",
    "df2 = dat.loc[(dat['job_title'] == 'Data Engineer') & (dat['salary_in_usd'] <= 150000)]\n",
    "false_positive = len(df2.index) / (num_salaries - salary_greater_length)"
   ]
  },
  {
   "cell_type": "code",
   "execution_count": 33,
   "id": "ce033531-74f0-459d-bca8-d10b8fa7e91c",
   "metadata": {
    "tags": []
   },
   "outputs": [
    {
     "data": {
      "text/plain": [
       "0.22216867469879517"
      ]
     },
     "execution_count": 33,
     "metadata": {},
     "output_type": "execute_result"
    }
   ],
   "source": [
    "true_positive"
   ]
  },
  {
   "cell_type": "code",
   "execution_count": 34,
   "id": "a34f5043-8cf7-4164-b193-9b1c8f835d8c",
   "metadata": {
    "tags": []
   },
   "outputs": [
    {
     "data": {
      "text/plain": [
       "0.24457252641690683"
      ]
     },
     "execution_count": 34,
     "metadata": {},
     "output_type": "execute_result"
    }
   ],
   "source": [
    "false_positive"
   ]
  },
  {
   "cell_type": "markdown",
   "id": "b5f338df-24fa-40e2-a3ee-64c0c3b6fa6a",
   "metadata": {},
   "source": [
    "Now we can compute the likelihood ratio, which is the ratio of the true positive and false positive."
   ]
  },
  {
   "cell_type": "markdown",
   "id": "4c692bd8-ccfb-46bc-9d85-72de4254d02c",
   "metadata": {
    "tags": []
   },
   "source": [
    "likelihood_ratio = true_positive / false_positive\n",
    "likelihood_ratio"
   ]
  },
  {
   "cell_type": "markdown",
   "id": "46780044-32e8-4b01-a413-6dbd7d484431",
   "metadata": {
    "tags": []
   },
   "source": [
    "Next, we calculate the prior odds to find the posterior odds, which are the odds for \n",
    "posterior probability. We will later convert it to conditional probability to divide by the marginalization.\n",
    "\n",
    "Odds of A = P(A) / 1 - P(A)"
   ]
  },
  {
   "cell_type": "code",
   "execution_count": 38,
   "id": "6a174e6c-8c4c-41e7-9c50-f415101421d2",
   "metadata": {
    "tags": []
   },
   "outputs": [
    {
     "data": {
      "text/plain": [
       "0.7973102785782902"
      ]
     },
     "execution_count": 38,
     "metadata": {},
     "output_type": "execute_result"
    }
   ],
   "source": [
    "p_a_odds = p_a / (1 - p_a)\n",
    "p_a_odds"
   ]
  },
  {
   "cell_type": "markdown",
   "id": "4a8345bd-cc53-482c-9c05-f81c83249f04",
   "metadata": {},
   "source": [
    "Once we have found the prior odds, we can now find the posterior odds, which is computed\n",
    "as likelihood ratio * prior odds."
   ]
  },
  {
   "cell_type": "code",
   "execution_count": 40,
   "id": "4bb7001b-cea1-4a09-b9e3-ff725084548a",
   "metadata": {
    "tags": []
   },
   "outputs": [
    {
     "data": {
      "text/plain": [
       "0.7242733699921446"
      ]
     },
     "execution_count": 40,
     "metadata": {},
     "output_type": "execute_result"
    }
   ],
   "source": [
    "post_odds = likelihood_ratio * p_a_odds\n",
    "post_odds"
   ]
  },
  {
   "cell_type": "markdown",
   "id": "b16a543c-e86b-436a-99cc-d92c91748f2c",
   "metadata": {
    "tags": []
   },
   "source": [
    "Now, we can convert the posterior odds to conditional probability."
   ]
  },
  {
   "cell_type": "code",
   "execution_count": 45,
   "id": "1c434d3d-debc-4fd5-8fbb-a4201c2ee715",
   "metadata": {
    "tags": []
   },
   "outputs": [
    {
     "data": {
      "text/plain": [
       "0.4200455580865604"
      ]
     },
     "execution_count": 45,
     "metadata": {},
     "output_type": "execute_result"
    }
   ],
   "source": [
    "cond_prob = post_odds / (post_odds + 1)\n",
    "cond_prob"
   ]
  },
  {
   "cell_type": "markdown",
   "id": "2806c30e-8531-4ae1-80ef-c8de4eead6c6",
   "metadata": {},
   "source": [
    "The probability of having a yearly salary over $150,000 in USD given that you \n",
    "are a Data Engineer is 42%."
   ]
  },
  {
   "cell_type": "markdown",
   "id": "6e847742-ce58-436f-a17f-a895172edde7",
   "metadata": {
    "tags": []
   },
   "source": [
    "The following codecell verifies this, using the equation to find P(A|B).\n",
    "P(A|B) = P(A & B) / P(B)"
   ]
  },
  {
   "cell_type": "code",
   "execution_count": 50,
   "id": "a93bbb2c-ca76-408e-8104-9a566e1a2658",
   "metadata": {
    "tags": []
   },
   "outputs": [
    {
     "data": {
      "text/plain": [
       "0.42004555808656036"
      ]
     },
     "execution_count": 50,
     "metadata": {},
     "output_type": "execute_result"
    }
   ],
   "source": [
    "#df1 = Dataframe of data engineering jobs that have a yearly salary of over $150,000. \n",
    "p_a_given_b = (len(df1.index) / num_salaries) / p_b\n",
    "p_a_given_b"
   ]
  }
 ],
 "metadata": {
  "kernelspec": {
   "display_name": "Python 3 (ipykernel)",
   "language": "python",
   "name": "python3"
  },
  "language_info": {
   "codemirror_mode": {
    "name": "ipython",
    "version": 3
   },
   "file_extension": ".py",
   "mimetype": "text/x-python",
   "name": "python",
   "nbconvert_exporter": "python",
   "pygments_lexer": "ipython3",
   "version": "3.11.3"
  }
 },
 "nbformat": 4,
 "nbformat_minor": 5
}
